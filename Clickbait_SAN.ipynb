{
 "cells": [
  {
   "cell_type": "code",
   "execution_count": 1,
   "metadata": {},
   "outputs": [],
   "source": [
    "import warnings\n",
    "warnings.filterwarnings('ignore')\n",
    "import pandas as pd\n",
    "from sklearn.model_selection import train_test_split"
   ]
  },
  {
   "cell_type": "code",
   "execution_count": 2,
   "metadata": {},
   "outputs": [],
   "source": [
    "data=pd.read_csv('Fusion_data3.csv')"
   ]
  },
  {
   "cell_type": "code",
   "execution_count": 3,
   "metadata": {},
   "outputs": [],
   "source": [
    "def category(x):\n",
    "    if x=='clickbait':\n",
    "        return 1\n",
    "    else :\n",
    "        return 0"
   ]
  },
  {
   "cell_type": "code",
   "execution_count": 23,
   "metadata": {},
   "outputs": [],
   "source": [
    "data.label=data.label.apply(lambda x:category(x))"
   ]
  },
  {
   "cell_type": "code",
   "execution_count": 26,
   "metadata": {},
   "outputs": [],
   "source": [
    "X_train, X_test, y_train, y_test = train_test_split(data.drop(columns=['Unnamed: 0','label']), data['label'], test_size=1/3, random_state=42)\n",
    "X_val, X_test, y_val, y_test = train_test_split(X_test,y_test, test_size=0.8, random_state=42)"
   ]
  },
  {
   "cell_type": "code",
   "execution_count": 29,
   "metadata": {},
   "outputs": [
    {
     "data": {
      "text/html": [
       "<div>\n",
       "<style scoped>\n",
       "    .dataframe tbody tr th:only-of-type {\n",
       "        vertical-align: middle;\n",
       "    }\n",
       "\n",
       "    .dataframe tbody tr th {\n",
       "        vertical-align: top;\n",
       "    }\n",
       "\n",
       "    .dataframe thead th {\n",
       "        text-align: right;\n",
       "    }\n",
       "</style>\n",
       "<table border=\"1\" class=\"dataframe\">\n",
       "  <thead>\n",
       "    <tr style=\"text-align: right;\">\n",
       "      <th></th>\n",
       "      <th>p_title</th>\n",
       "      <th>sent_length</th>\n",
       "      <th>word_length</th>\n",
       "      <th>Stops_ratio</th>\n",
       "      <th>Num_Punctuation</th>\n",
       "      <th>category_Berita</th>\n",
       "      <th>category_Ekonomi&amp;Bisnis</th>\n",
       "      <th>category_Lain</th>\n",
       "      <th>category_Lifestyle</th>\n",
       "      <th>category_Olahraga</th>\n",
       "      <th>...</th>\n",
       "      <th>source_fimela.com</th>\n",
       "      <th>source_kapanlagi.com</th>\n",
       "      <th>source_liputan6.com</th>\n",
       "      <th>source_okezone.com</th>\n",
       "      <th>source_posmetro-medan.com</th>\n",
       "      <th>source_republika.co.id</th>\n",
       "      <th>source_sindonews.com</th>\n",
       "      <th>source_tempo.co</th>\n",
       "      <th>source_tribunnews.com</th>\n",
       "      <th>source_wowkeren.com</th>\n",
       "    </tr>\n",
       "  </thead>\n",
       "  <tbody>\n",
       "    <tr>\n",
       "      <th>13094</th>\n",
       "      <td>kepala bppt bj habibie merupakan bapak teknolo...</td>\n",
       "      <td>8</td>\n",
       "      <td>5.75</td>\n",
       "      <td>0.375</td>\n",
       "      <td>1</td>\n",
       "      <td>1</td>\n",
       "      <td>0</td>\n",
       "      <td>0</td>\n",
       "      <td>0</td>\n",
       "      <td>0</td>\n",
       "      <td>...</td>\n",
       "      <td>0</td>\n",
       "      <td>0</td>\n",
       "      <td>0</td>\n",
       "      <td>0</td>\n",
       "      <td>0</td>\n",
       "      <td>1</td>\n",
       "      <td>0</td>\n",
       "      <td>0</td>\n",
       "      <td>0</td>\n",
       "      <td>0</td>\n",
       "    </tr>\n",
       "  </tbody>\n",
       "</table>\n",
       "<p>1 rows × 26 columns</p>\n",
       "</div>"
      ],
      "text/plain": [
       "                                                 p_title  sent_length  \\\n",
       "13094  kepala bppt bj habibie merupakan bapak teknolo...            8   \n",
       "\n",
       "       word_length  Stops_ratio  Num_Punctuation  category_Berita  \\\n",
       "13094         5.75        0.375                1                1   \n",
       "\n",
       "       category_Ekonomi&Bisnis  category_Lain  category_Lifestyle  \\\n",
       "13094                        0              0                   0   \n",
       "\n",
       "       category_Olahraga  ...  source_fimela.com  source_kapanlagi.com  \\\n",
       "13094                  0  ...                  0                     0   \n",
       "\n",
       "       source_liputan6.com  source_okezone.com  source_posmetro-medan.com  \\\n",
       "13094                    0                   0                          0   \n",
       "\n",
       "       source_republika.co.id  source_sindonews.com  source_tempo.co  \\\n",
       "13094                       1                     0                0   \n",
       "\n",
       "       source_tribunnews.com  source_wowkeren.com  \n",
       "13094                      0                    0  \n",
       "\n",
       "[1 rows x 26 columns]"
      ]
     },
     "execution_count": 29,
     "metadata": {},
     "output_type": "execute_result"
    }
   ],
   "source": [
    "X_train.sample()"
   ]
  },
  {
   "cell_type": "markdown",
   "metadata": {},
   "source": [
    "# Embedding"
   ]
  },
  {
   "cell_type": "code",
   "execution_count": 4,
   "metadata": {},
   "outputs": [
    {
     "name": "stderr",
     "output_type": "stream",
     "text": [
      "Using TensorFlow backend.\n"
     ]
    }
   ],
   "source": [
    "import pandas as pd\n",
    "import numpy as np\n",
    "from sklearn.feature_extraction.text import CountVectorizer\n",
    "from nltk.tokenize import word_tokenize\n",
    "import string\n",
    "from keras.preprocessing.text import Tokenizer\n",
    "from keras.preprocessing.sequence import pad_sequences\n",
    "from tqdm import tqdm\n",
    "from sklearn.model_selection import train_test_split\n",
    "# Limit on the number of features to K features.\n",
    "data=pd.read_csv('Fusion_data3.csv')\n",
    "X_train, X_test, y_train, y_test = train_test_split(data.drop(columns=['Unnamed: 0','label']), data['label'], test_size=1/3, random_state=42)\n",
    "X_val, X_test, y_val, y_test = train_test_split(X_test,y_test, test_size=0.8, random_state=42)\n",
    "TOP_K = 20000\n",
    "# Limit on the length of text sequences. \n",
    "# Sequences longer than this will be truncated.\n",
    "# and less than it will be padded\n",
    "MAX_SEQUENCE_LENGTH = 20\n",
    "\n",
    "class CustomTokenizer:\n",
    "    def __init__(self, train_texts):\n",
    "        self.train_texts = train_texts\n",
    "        self.tokenizer = Tokenizer(num_words=TOP_K)\n",
    "        \n",
    "    def train_tokenize(self):\n",
    "        # Get max sequence length.\n",
    "        max_length = len(max(self.train_texts , key=len))\n",
    "        self.max_length = min(max_length, MAX_SEQUENCE_LENGTH)\n",
    "    \n",
    "        # Create vocabulary with training texts.\n",
    "        self.tokenizer.fit_on_texts(self.train_texts)\n",
    "        \n",
    "    def vectorize_input(self, news):\n",
    "        # Vectorize training and validation texts.\n",
    "        \n",
    "        news = self.tokenizer.texts_to_sequences(news)\n",
    "        # Fix sequence length to max value. Sequences shorter than the length are\n",
    "        # padded in the beginning and sequences longer are truncated\n",
    "        # at the beginning.\n",
    "        news = pad_sequences(news, maxlen=self.max_length, truncating='post',padding='post')\n",
    "        return news\n",
    "    \n",
    "tokenizer = CustomTokenizer(train_texts = X_train['p_title'])\n",
    "# fit o the train\n",
    "tokenizer.train_tokenize()\n",
    "tokenized_train = tokenizer.vectorize_input(X_train['p_title'])\n",
    "tokenized_val=tokenizer.vectorize_input(X_val['p_title'])\n",
    "tokenized_test = tokenizer.vectorize_input(X_test['p_title'])"
   ]
  },
  {
   "cell_type": "code",
   "execution_count": 5,
   "metadata": {},
   "outputs": [
    {
     "name": "stderr",
     "output_type": "stream",
     "text": [
      "100%|████████████████████████████████████████████████████████████████████████| 14510/14510 [00:00<00:00, 234454.06it/s]\n"
     ]
    }
   ],
   "source": [
    "glove_file='idwiki_word2vec_200.txt'\n",
    "EMBEDDING_VECTOR_LENGTH = 200\n",
    "def construct_embedding_matrix(glove_file, word_index):\n",
    "    embedding_dict = {}\n",
    "    with open(glove_file, 'r', errors=\"ignore\") as f:\n",
    "        for line in f:\n",
    "            values=line.split()\n",
    "            # get the word\n",
    "            word=values[0]\n",
    "            if word in word_index.keys():\n",
    "                # get the vector\n",
    "                vector = np.asarray(values[1:], 'float32')\n",
    "                embedding_dict[word] = vector\n",
    "    ###  oov words (out of vacabulary words) will be mapped to 0 vectors\n",
    "\n",
    "    num_words=len(word_index)+1\n",
    "    #initialize it to 0\n",
    "    embedding_matrix=np.zeros((num_words, EMBEDDING_VECTOR_LENGTH))\n",
    "\n",
    "    for word,i in tqdm(word_index.items()):\n",
    "        if i < num_words:\n",
    "            vect=embedding_dict.get(word, [])\n",
    "            if len(vect)>0:\n",
    "                embedding_matrix[i] = vect[:EMBEDDING_VECTOR_LENGTH]\n",
    "    return embedding_matrix\n",
    "  \n",
    "embedding_matrix =  construct_embedding_matrix(glove_file, tokenizer.tokenizer.word_index)"
   ]
  },
  {
   "cell_type": "markdown",
   "metadata": {},
   "source": [
    "# Models"
   ]
  },
  {
   "cell_type": "code",
   "execution_count": null,
   "metadata": {},
   "outputs": [],
   "source": [
    "import tensorflow as tf\n",
    "from tensorflow import keras\n",
    "from tensorflow.keras import layers\n",
    "from tensorflow.keras.models import Sequential, load_model\n",
    "from keras import backend as K"
   ]
  },
  {
   "cell_type": "markdown",
   "metadata": {},
   "source": [
    "## Self Attentive Network + Structured Variable"
   ]
  },
  {
   "cell_type": "code",
   "execution_count": 10,
   "metadata": {},
   "outputs": [],
   "source": [
    "tf.compat.v1.disable_eager_execution()"
   ]
  },
  {
   "cell_type": "code",
   "execution_count": 28,
   "metadata": {},
   "outputs": [],
   "source": [
    "class attention(tf.keras.layers.Layer): \n",
    "    def __init__(self):    \n",
    "        super(attention, self).__init__()\n",
    "        \n",
    "    def build(self, input_shape):\n",
    "        self.num_dim_perword = input_shape[-1] ##Last value of inp:256\n",
    "        self.W_1 = self.add_weight(shape=(self.num_dim_perword,self.num_dim_perword),initializer=tf.keras.initializers.GlorotNormal())\n",
    "        self.W_2 = self.add_weight(shape=(self.num_dim_perword,1),initializer=tf.keras.initializers.GlorotNormal())\n",
    "        super(attention, self).build(input_shape)\n",
    "        \n",
    "    def call(self, x):\n",
    "        e = K.dot(K.tanh(K.dot(x,self.W_1)),self.W_2)\n",
    "        a = K.softmax(e, axis=1)\n",
    "        output = x*a\n",
    "        return output"
   ]
  },
  {
   "cell_type": "code",
   "execution_count": 31,
   "metadata": {},
   "outputs": [
    {
     "name": "stdout",
     "output_type": "stream",
     "text": [
      "Model: \"model_6\"\n",
      "__________________________________________________________________________________________________\n",
      "Layer (type)                    Output Shape         Param #     Connected to                     \n",
      "==================================================================================================\n",
      "input_7 (InputLayer)            [(None, 20)]         0                                            \n",
      "__________________________________________________________________________________________________\n",
      "embedding_3 (Embedding)         (None, 20, 200)      2910000     input_7[0][0]                    \n",
      "__________________________________________________________________________________________________\n",
      "dropout_3 (Dropout)             (None, 20, 200)      0           embedding_3[0][0]                \n",
      "__________________________________________________________________________________________________\n",
      "bidirectional_3 (Bidirectional) (None, 200)          240800      dropout_3[0][0]                  \n",
      "__________________________________________________________________________________________________\n",
      "input_8 (InputLayer)            [(None, 25)]         0                                            \n",
      "__________________________________________________________________________________________________\n",
      "concatenate_3 (Concatenate)     (None, 225)          0           bidirectional_3[0][0]            \n",
      "                                                                 input_8[0][0]                    \n",
      "__________________________________________________________________________________________________\n",
      "attention_3 (attention)         (None, 225)          50850       concatenate_3[0][0]              \n",
      "__________________________________________________________________________________________________\n",
      "dense_2 (Dense)                 (None, 1)            226         attention_3[0][0]                \n",
      "==================================================================================================\n",
      "Total params: 3,201,876\n",
      "Trainable params: 291,876\n",
      "Non-trainable params: 2,910,000\n",
      "__________________________________________________________________________________________________\n"
     ]
    }
   ],
   "source": [
    "inputs_word = tf.keras.Input(shape=(20,))\n",
    "word = tf.keras.layers.Embedding(len(tokenizer.tokenizer.word_index)+1,\n",
    "                    200,\n",
    "                    embeddings_initializer=Constant(embedding_matrix), \n",
    "                    input_length=20,trainable=False)(inputs_word)\n",
    "word=tf.keras.layers.Dropout(0.2)(word)\n",
    "word=tf.keras.layers.Bidirectional(tf.keras.layers.LSTM(100, dropout=0.2, recurrent_dropout=0.2),merge_mode='concat')(word)\n",
    "word = tf.keras.Model(inputs=inputs_word, outputs=word)\n",
    "inputs_other= tf.keras.Input(shape=(25,))\n",
    "model=tf.keras.layers.concatenate([word.output, inputs_other])\n",
    "model=attention()(model)\n",
    "model=tf.keras.layers.Dense(1,activation='sigmoid')(model)\n",
    "model= tf.keras.Model(inputs=[word.input, inputs_other], outputs=model)\n",
    "model.summary()"
   ]
  },
  {
   "cell_type": "code",
   "execution_count": 32,
   "metadata": {},
   "outputs": [],
   "source": [
    "optimizer= tf.keras.optimizers.Adam(clipvalue=2,learning_rate=0.005)\n",
    "model.compile(loss=tf.keras.losses.BinaryCrossentropy(from_logits=True),\n",
    "              optimizer=optimizer,\n",
    "              metrics=['accuracy'])"
   ]
  },
  {
   "cell_type": "code",
   "execution_count": 33,
   "metadata": {},
   "outputs": [],
   "source": [
    "i_train = [tokenized_train,X_train.drop(columns=['p_title']).to_numpy()]\n",
    "i_val= [tokenized_val,X_val.drop(columns=['p_title']).to_numpy()]\n",
    "i_test= [tokenized_test,X_test.drop(columns=['p_title']).to_numpy()]"
   ]
  },
  {
   "cell_type": "code",
   "execution_count": 34,
   "metadata": {},
   "outputs": [
    {
     "name": "stdout",
     "output_type": "stream",
     "text": [
      "Train on 10050 samples, validate on 1980 samples\n",
      "Epoch 1/20\n",
      "10050/10050 - 20s - loss: 0.4984 - accuracy: 0.7602 - val_loss: 0.4201 - val_accuracy: 0.7990\n",
      "Epoch 2/20\n",
      "10050/10050 - 19s - loss: 0.3914 - accuracy: 0.8222 - val_loss: 0.3934 - val_accuracy: 0.8192\n",
      "Epoch 3/20\n",
      "10050/10050 - 19s - loss: 0.3450 - accuracy: 0.8518 - val_loss: 0.3917 - val_accuracy: 0.8187\n",
      "Epoch 4/20\n",
      "10050/10050 - 19s - loss: 0.3175 - accuracy: 0.8647 - val_loss: 0.3880 - val_accuracy: 0.8273\n",
      "Epoch 5/20\n",
      "10050/10050 - 19s - loss: 0.2972 - accuracy: 0.8707 - val_loss: 0.4011 - val_accuracy: 0.8258\n",
      "Epoch 6/20\n",
      "10050/10050 - 19s - loss: 0.2877 - accuracy: 0.8757 - val_loss: 0.4446 - val_accuracy: 0.8091\n",
      "Epoch 7/20\n",
      "10050/10050 - 19s - loss: 0.2591 - accuracy: 0.8902 - val_loss: 0.4216 - val_accuracy: 0.8212\n"
     ]
    }
   ],
   "source": [
    "callback = tf.keras.callbacks.EarlyStopping(monitor='val_loss', patience=3,mode='auto')\n",
    "# This callback will stop the training when there is no improvement in\n",
    "# the validation loss for three consecutive epochs.\n",
    "histori = model.fit(x=i_train,y=y_train,validation_data=(i_val,y_val),\n",
    "                    epochs=20, batch_size=64, callbacks=[callback],\n",
    "                    verbose=2)"
   ]
  },
  {
   "cell_type": "code",
   "execution_count": 35,
   "metadata": {},
   "outputs": [],
   "source": [
    "import matplotlib.pyplot as plt"
   ]
  },
  {
   "cell_type": "code",
   "execution_count": 36,
   "metadata": {},
   "outputs": [
    {
     "data": {
      "image/png": "[encoded data removed]",
      "text/plain": [
       "<Figure size 432x288 with 1 Axes>"
      ]
     },
     "metadata": {
      "needs_background": "light"
     },
     "output_type": "display_data"
    }
   ],
   "source": [
    "plt.plot(histori.history['loss'],label='Training loss')\n",
    "plt.plot(histori.history['val_loss'],label='Validation loss')\n",
    "plt.legend()\n",
    "plt.show()"
   ]
  },
  {
   "cell_type": "code",
   "execution_count": 37,
   "metadata": {},
   "outputs": [
    {
     "data": {
      "image/png": "[encoded data removed]",
      "text/plain": [
       "<Figure size 432x288 with 1 Axes>"
      ]
     },
     "metadata": {
      "needs_background": "light"
     },
     "output_type": "display_data"
    }
   ],
   "source": [
    "plt.plot(histori.history['accuracy'],label='Training Acc')\n",
    "plt.plot(histori.history['val_accuracy'],label='Validation Acc')\n",
    "plt.legend()\n",
    "plt.show()"
   ]
  },
  {
   "cell_type": "code",
   "execution_count": 38,
   "metadata": {},
   "outputs": [
    {
     "name": "stdout",
     "output_type": "stream",
     "text": [
      "RNN (SA-BiLSTM + Structured Data)\n",
      "Training\n",
      "Accuracy : 0.848 (+-0.041) Loss : 0.342 (+-0.075)\n",
      "Validation\n",
      "Accuracy : 0.817 (+-0.009) Loss : 0.409 (+-0.019)\n"
     ]
    }
   ],
   "source": [
    "a_mean,a_std=np.mean(histori.history['accuracy']),np.std(histori.history['accuracy'])\n",
    "l_mean,l_std=np.mean(histori.history['loss']),np.std(histori.history['loss'])\n",
    "av_mean,av_std=np.mean(histori.history['val_accuracy']),np.std(histori.history['val_accuracy'])\n",
    "lv_mean,lv_std=np.mean(histori.history['val_loss']),np.std(histori.history['val_loss'])\n",
    "print('RNN (SA-BiLSTM + Structured Data)')\n",
    "print('Training')\n",
    "print('Accuracy : %0.3f (+-%0.3f) Loss : %0.3f (+-%0.3f)'%(a_mean,a_std,l_mean,l_std))\n",
    "print('Validation')\n",
    "print('Accuracy : %0.3f (+-%0.3f) Loss : %0.3f (+-%0.3f)'%(av_mean,av_std,lv_mean,lv_std))"
   ]
  },
  {
   "cell_type": "code",
   "execution_count": 39,
   "metadata": {},
   "outputs": [],
   "source": [
    "def float_int(x):\n",
    "    if x-int(x)>=0.5:\n",
    "        return 1\n",
    "    else :\n",
    "        return 0\n",
    "y_pred=np.array([[float_int(i[0])] for i in model.predict(i_test)])"
   ]
  },
  {
   "cell_type": "code",
   "execution_count": 40,
   "metadata": {},
   "outputs": [
    {
     "name": "stdout",
     "output_type": "stream",
     "text": [
      "Test Loss : 0.457\n",
      "Test Accuracy : 0.813\n",
      "              precision    recall  f1-score   support\n",
      "\n",
      "           0       0.83      0.85      0.84      1726\n",
      "           1       0.79      0.76      0.77      1244\n",
      "\n",
      "    accuracy                           0.81      2970\n",
      "   macro avg       0.81      0.81      0.81      2970\n",
      "weighted avg       0.81      0.81      0.81      2970\n",
      "\n"
     ]
    }
   ],
   "source": [
    "from sklearn.metrics import classification_report,confusion_matrix\n",
    "test_loss,test_accuracy=model.evaluate(i_test,y_test)\n",
    "print('Test Loss : %0.3f'%test_loss)\n",
    "print('Test Accuracy : %0.3f'%test_accuracy)\n",
    "print(classification_report(y_test,y_pred))"
   ]
  },
  {
   "cell_type": "markdown",
   "metadata": {},
   "source": [
    "## Self Attentive Network"
   ]
  },
  {
   "cell_type": "code",
   "execution_count": 41,
   "metadata": {},
   "outputs": [],
   "source": [
    "class attention(tf.keras.layers.Layer): \n",
    "    def __init__(self):    \n",
    "        super(attention, self).__init__()\n",
    "        \n",
    "    def build(self, input_shape):\n",
    "        self.num_dim_perword = input_shape[-1] ##Last value of inp:256\n",
    "        self.W_1 = self.add_weight(shape=(self.num_dim_perword,self.num_dim_perword),initializer=tf.keras.initializers.GlorotNormal())\n",
    "        self.W_2 = self.add_weight(shape=(self.num_dim_perword,1),initializer=tf.keras.initializers.GlorotNormal())\n",
    "        super(attention, self).build(input_shape)\n",
    "        \n",
    "    def call(self, x):\n",
    "        e = K.dot(K.tanh(K.dot(x,self.W_1)),self.W_2)\n",
    "        a = K.softmax(e, axis=1)\n",
    "        output = x*a\n",
    "        return K.sum(output,axis=1)"
   ]
  },
  {
   "cell_type": "code",
   "execution_count": 44,
   "metadata": {},
   "outputs": [
    {
     "name": "stdout",
     "output_type": "stream",
     "text": [
      "Model: \"sequential_1\"\n",
      "_________________________________________________________________\n",
      "Layer (type)                 Output Shape              Param #   \n",
      "=================================================================\n",
      "embedding_5 (Embedding)      (None, 20, 200)           2910000   \n",
      "_________________________________________________________________\n",
      "dropout_6 (Dropout)          (None, 20, 200)           0         \n",
      "_________________________________________________________________\n",
      "bidirectional_5 (Bidirection (None, 20, 200)           240800    \n",
      "_________________________________________________________________\n",
      "attention_5 (attention)      (None, 200)               40200     \n",
      "_________________________________________________________________\n",
      "dropout_7 (Dropout)          (None, 200)               0         \n",
      "_________________________________________________________________\n",
      "dense_4 (Dense)              (None, 1)                 201       \n",
      "=================================================================\n",
      "Total params: 3,191,201\n",
      "Trainable params: 281,201\n",
      "Non-trainable params: 2,910,000\n",
      "_________________________________________________________________\n"
     ]
    }
   ],
   "source": [
    "state_size = 100\n",
    "dropout= 0.2\n",
    "optimizer= tf.keras.optimizers.Adam(learning_rate=0.005)\n",
    "mods1=tf.keras.Sequential([\n",
    "    tf.keras.layers.Embedding(len(tokenizer.tokenizer.word_index)+1,\n",
    "                    200,\n",
    "                    embeddings_initializer=Constant(embedding_matrix), \n",
    "                    input_length=20,trainable=False),\n",
    "    tf.keras.layers.Dropout(dropout),\n",
    "    tf.keras.layers.Bidirectional(tf.keras.layers.LSTM(state_size, dropout=dropout, recurrent_dropout=dropout,return_sequences=True)),\n",
    "    attention(),\n",
    "    tf.keras.layers.Dropout(dropout),\n",
    "    tf.keras.layers.Dense(1,activation='sigmoid'),\n",
    "])\n",
    "mods1.compile(loss=tf.keras.losses.BinaryCrossentropy(from_logits=True),\n",
    "              optimizer=optimizer,\n",
    "              metrics=['accuracy'])\n",
    "mods1.summary()"
   ]
  },
  {
   "cell_type": "code",
   "execution_count": 45,
   "metadata": {},
   "outputs": [
    {
     "name": "stdout",
     "output_type": "stream",
     "text": [
      "Train on 10050 samples, validate on 1980 samples\n",
      "Epoch 1/20\n",
      "10050/10050 - 30s - loss: 0.5336 - accuracy: 0.7347 - val_loss: 0.4663 - val_accuracy: 0.7793\n",
      "Epoch 2/20\n",
      "10050/10050 - 25s - loss: 0.4731 - accuracy: 0.7795 - val_loss: 0.4740 - val_accuracy: 0.7944\n",
      "Epoch 3/20\n",
      "10050/10050 - 25s - loss: 0.4457 - accuracy: 0.7965 - val_loss: 0.4617 - val_accuracy: 0.7848\n",
      "Epoch 4/20\n",
      "10050/10050 - 26s - loss: 0.4294 - accuracy: 0.8077 - val_loss: 0.4614 - val_accuracy: 0.7894\n",
      "Epoch 5/20\n",
      "10050/10050 - 26s - loss: 0.4181 - accuracy: 0.8125 - val_loss: 0.4647 - val_accuracy: 0.7949\n",
      "Epoch 6/20\n",
      "10050/10050 - 28s - loss: 0.4029 - accuracy: 0.8160 - val_loss: 0.4656 - val_accuracy: 0.7980\n",
      "Epoch 7/20\n",
      "10050/10050 - 27s - loss: 0.4006 - accuracy: 0.8200 - val_loss: 0.4759 - val_accuracy: 0.7864\n"
     ]
    }
   ],
   "source": [
    "callback = tf.keras.callbacks.EarlyStopping(monitor='val_loss', patience=3,mode='auto')\n",
    "# This callback will stop the training when there is no improvement in\n",
    "# the validation loss for three consecutive epochs.\n",
    "historie = mods1.fit(tokenized_train,y_train,validation_data=(tokenized_val,y_val),\n",
    "                    epochs=20, batch_size=64, callbacks=[callback],\n",
    "                    verbose=2)"
   ]
  },
  {
   "cell_type": "code",
   "execution_count": 46,
   "metadata": {},
   "outputs": [
    {
     "data": {
      "image/png": "[encoded data removed]",
      "text/plain": [
       "<Figure size 432x288 with 1 Axes>"
      ]
     },
     "metadata": {
      "needs_background": "light"
     },
     "output_type": "display_data"
    }
   ],
   "source": [
    "plt.plot(historie.history['loss'],label='Training loss')\n",
    "plt.plot(historie.history['val_loss'],label='Validation loss')\n",
    "plt.legend()\n",
    "plt.show()"
   ]
  },
  {
   "cell_type": "code",
   "execution_count": 48,
   "metadata": {},
   "outputs": [
    {
     "name": "stdout",
     "output_type": "stream",
     "text": [
      "RNN (SA-BiLSTM)\n",
      "Training\n",
      "Accuracy : 0.795 (+-0.028) Loss : 0.443 (+-0.044)\n",
      "Validation\n",
      "Accuracy : 0.790 (+-0.006) Loss : 0.467 (+-0.005)\n"
     ]
    }
   ],
   "source": [
    "a_mean,a_std=np.mean(historie.history['accuracy']),np.std(historie.history['accuracy'])\n",
    "l_mean,l_std=np.mean(historie.history['loss']),np.std(historie.history['loss'])\n",
    "av_mean,av_std=np.mean(historie.history['val_accuracy']),np.std(historie.history['val_accuracy'])\n",
    "lv_mean,lv_std=np.mean(historie.history['val_loss']),np.std(historie.history['val_loss'])\n",
    "print('RNN (SA-BiLSTM)')\n",
    "print('Training')\n",
    "print('Accuracy : %0.3f (+-%0.3f) Loss : %0.3f (+-%0.3f)'%(a_mean,a_std,l_mean,l_std))\n",
    "print('Validation')\n",
    "print('Accuracy : %0.3f (+-%0.3f) Loss : %0.3f (+-%0.3f)'%(av_mean,av_std,lv_mean,lv_std))"
   ]
  },
  {
   "cell_type": "code",
   "execution_count": 49,
   "metadata": {},
   "outputs": [
    {
     "data": {
      "image/png": "[encoded data removed]",
      "text/plain": [
       "<Figure size 432x288 with 1 Axes>"
      ]
     },
     "metadata": {
      "needs_background": "light"
     },
     "output_type": "display_data"
    }
   ],
   "source": [
    "plt.plot(historie.history['accuracy'],label='Training Acc')\n",
    "plt.plot(historie.history['val_accuracy'],label='Validation Acc')\n",
    "plt.legend()\n",
    "plt.show()"
   ]
  },
  {
   "cell_type": "code",
   "execution_count": 50,
   "metadata": {},
   "outputs": [],
   "source": [
    "def float_int(x):\n",
    "    if x-int(x)>=0.5:\n",
    "        return 1\n",
    "    else :\n",
    "        return 0\n",
    "y_pred=np.array([[float_int(i[0])] for i in mods1.predict(tokenized_test)])"
   ]
  },
  {
   "cell_type": "code",
   "execution_count": 51,
   "metadata": {},
   "outputs": [
    {
     "name": "stdout",
     "output_type": "stream",
     "text": [
      "Test Loss : 0.511\n",
      "Test Accuracy : 0.771\n",
      "              precision    recall  f1-score   support\n",
      "\n",
      "           0       0.76      0.87      0.82      1726\n",
      "           1       0.78      0.63      0.70      1244\n",
      "\n",
      "    accuracy                           0.77      2970\n",
      "   macro avg       0.77      0.75      0.76      2970\n",
      "weighted avg       0.77      0.77      0.77      2970\n",
      "\n"
     ]
    }
   ],
   "source": [
    "from sklearn.metrics import classification_report,confusion_matrix\n",
    "test_loss,test_accuracy=mods1.evaluate(tokenized_test,y_test)\n",
    "print('Test Loss : %0.3f'%test_loss)\n",
    "print('Test Accuracy : %0.3f'%test_accuracy)\n",
    "print(classification_report(y_test,y_pred))"
   ]
  },
  {
   "cell_type": "markdown",
   "metadata": {},
   "source": [
    "## BiLSTM"
   ]
  },
  {
   "cell_type": "code",
   "execution_count": 52,
   "metadata": {},
   "outputs": [
    {
     "name": "stdout",
     "output_type": "stream",
     "text": [
      "Model: \"sequential_2\"\n",
      "_________________________________________________________________\n",
      "Layer (type)                 Output Shape              Param #   \n",
      "=================================================================\n",
      "embedding_6 (Embedding)      (None, 20, 200)           2910000   \n",
      "_________________________________________________________________\n",
      "dropout_8 (Dropout)          (None, 20, 200)           0         \n",
      "_________________________________________________________________\n",
      "bidirectional_6 (Bidirection (None, 200)               240800    \n",
      "_________________________________________________________________\n",
      "dropout_9 (Dropout)          (None, 200)               0         \n",
      "_________________________________________________________________\n",
      "dense_5 (Dense)              (None, 1)                 201       \n",
      "=================================================================\n",
      "Total params: 3,151,001\n",
      "Trainable params: 241,001\n",
      "Non-trainable params: 2,910,000\n",
      "_________________________________________________________________\n"
     ]
    }
   ],
   "source": [
    "state_size = 100\n",
    "dropout= 0.2\n",
    "optimizer= tf.keras.optimizers.Adam(learning_rate=0.005)\n",
    "mods=tf.keras.Sequential([\n",
    "    tf.keras.layers.Embedding(len(tokenizer.tokenizer.word_index)+1,\n",
    "                    200,\n",
    "                    embeddings_initializer=Constant(embedding_matrix), \n",
    "                    input_length=20,trainable=False),\n",
    "    tf.keras.layers.Dropout(dropout),\n",
    "    tf.keras.layers.Bidirectional(tf.keras.layers.LSTM(state_size, dropout=dropout, recurrent_dropout=dropout)),\n",
    "    tf.keras.layers.Dropout(dropout),\n",
    "    tf.keras.layers.Dense(1,activation='sigmoid'),\n",
    "])\n",
    "mods.compile(loss=tf.keras.losses.BinaryCrossentropy(from_logits=True),\n",
    "              optimizer=optimizer,\n",
    "              metrics=['accuracy'])\n",
    "mods.summary()"
   ]
  },
  {
   "cell_type": "code",
   "execution_count": null,
   "metadata": {
    "scrolled": true
   },
   "outputs": [
    {
     "name": "stdout",
     "output_type": "stream",
     "text": [
      "Train on 10050 samples, validate on 1980 samples\n",
      "Epoch 1/20\n",
      "10050/10050 - 29s - loss: 0.5268 - accuracy: 0.7434 - val_loss: 0.4825 - val_accuracy: 0.7768\n",
      "Epoch 2/20\n",
      "10050/10050 - 23s - loss: 0.4668 - accuracy: 0.7822 - val_loss: 0.4552 - val_accuracy: 0.7955\n",
      "Epoch 3/20\n",
      "10050/10050 - 25s - loss: 0.4310 - accuracy: 0.8046 - val_loss: 0.4638 - val_accuracy: 0.7859\n",
      "Epoch 4/20\n"
     ]
    }
   ],
   "source": [
    "callback = tf.keras.callbacks.EarlyStopping(monitor='val_loss', patience=3,mode='auto')\n",
    "# This callback will stop the training when there is no improvement in\n",
    "# the validation loss for three consecutive epochs.\n",
    "histories = mods.fit(tokenized_train,y_train,validation_data=(tokenized_val,y_val),\n",
    "                    epochs=20, batch_size=64, callbacks=[callback],\n",
    "                    verbose=2)"
   ]
  },
  {
   "cell_type": "code",
   "execution_count": 39,
   "metadata": {},
   "outputs": [
    {
     "data": {
      "image/png": "[encoded data removed]",
      "text/plain": [
       "<Figure size 432x288 with 1 Axes>"
      ]
     },
     "metadata": {
      "needs_background": "light"
     },
     "output_type": "display_data"
    }
   ],
   "source": [
    "plt.plot(histories.history['loss'],label='Training loss')\n",
    "plt.plot(histories.history['val_loss'],label='Validation loss')\n",
    "plt.legend()\n",
    "plt.show()"
   ]
  },
  {
   "cell_type": "code",
   "execution_count": 60,
   "metadata": {},
   "outputs": [
    {
     "name": "stdout",
     "output_type": "stream",
     "text": [
      "RNN (BiLSTM)\n",
      "Training\n",
      "Accuracy : 0.795 (+-0.031) Loss : 0.443 (+-0.049)\n",
      "Validation\n",
      "Accuracy : 0.783 (+-0.006) Loss : 0.470 (+-0.008)\n"
     ]
    }
   ],
   "source": [
    "a_mean,a_std=np.mean(histories.history['accuracy']),np.std(histories.history['accuracy'])\n",
    "l_mean,l_std=np.mean(histories.history['loss']),np.std(histories.history['loss'])\n",
    "av_mean,av_std=np.mean(histories.history['val_accuracy']),np.std(histories.history['val_accuracy'])\n",
    "lv_mean,lv_std=np.mean(histories.history['val_loss']),np.std(histories.history['val_loss'])\n",
    "print('RNN (BiLSTM)')\n",
    "print('Training')\n",
    "print('Accuracy : %0.3f (+-%0.3f) Loss : %0.3f (+-%0.3f)'%(a_mean,a_std,l_mean,l_std))\n",
    "print('Validation')\n",
    "print('Accuracy : %0.3f (+-%0.3f) Loss : %0.3f (+-%0.3f)'%(av_mean,av_std,lv_mean,lv_std))"
   ]
  },
  {
   "cell_type": "code",
   "execution_count": 41,
   "metadata": {},
   "outputs": [
    {
     "data": {
      "image/png": "[encoded data removed]",
      "text/plain": [
       "<Figure size 432x288 with 1 Axes>"
      ]
     },
     "metadata": {
      "needs_background": "light"
     },
     "output_type": "display_data"
    }
   ],
   "source": [
    "plt.plot(histories.history['accuracy'],label='Training Acc')\n",
    "plt.plot(histories.history['val_accuracy'],label='Validation Acc')\n",
    "plt.legend()\n",
    "plt.show()"
   ]
  },
  {
   "cell_type": "code",
   "execution_count": 61,
   "metadata": {},
   "outputs": [],
   "source": [
    "def float_int(x):\n",
    "    if x-int(x)>=0.5:\n",
    "        return 1\n",
    "    else :\n",
    "        return 0\n",
    "y_pred=np.array([[float_int(i[0])] for i in mods.predict(tokenized_test)])"
   ]
  },
  {
   "cell_type": "code",
   "execution_count": 63,
   "metadata": {},
   "outputs": [
    {
     "name": "stdout",
     "output_type": "stream",
     "text": [
      "Test Loss : 0.499\n",
      "Test Accuracy : 0.770\n",
      "              precision    recall  f1-score   support\n",
      "\n",
      "           0       0.79      0.82      0.81      1726\n",
      "           1       0.74      0.70      0.72      1244\n",
      "\n",
      "    accuracy                           0.77      2970\n",
      "   macro avg       0.76      0.76      0.76      2970\n",
      "weighted avg       0.77      0.77      0.77      2970\n",
      "\n"
     ]
    }
   ],
   "source": [
    "from sklearn.metrics import classification_report,confusion_matrix\n",
    "test_loss,test_accuracy=mods.evaluate(tokenized_test,y_test)\n",
    "print('Test Loss : %0.3f'%test_loss)\n",
    "print('Test Accuracy : %0.3f'%test_accuracy)\n",
    "print(classification_report(y_test,y_pred))"
   ]
  }
 ],
 "metadata": {
  "kernelspec": {
   "display_name": "Python 3",
   "language": "python",
   "name": "python3"
  },
  "language_info": {
   "codemirror_mode": {
    "name": "ipython",
    "version": 3
   },
   "file_extension": ".py",
   "mimetype": "text/x-python",
   "name": "python",
   "nbconvert_exporter": "python",
   "pygments_lexer": "ipython3",
   "version": "3.6.7"
  }
 },
 "nbformat": 4,
 "nbformat_minor": 2
}
