{
 "cells": [
  {
   "cell_type": "code",
   "execution_count": 2,
   "metadata": {},
   "outputs": [],
   "source": [
    "import warnings\n",
    "warnings.filterwarnings('ignore')\n",
    "import pandas as pd\n",
    "import numpy as np\n",
    "import matplotlib.pyplot as plt\n",
    "import seaborn as sns\n",
    "from tqdm import tqdm\n",
    "import re"
   ]
  },
  {
   "cell_type": "code",
   "execution_count": 3,
   "metadata": {},
   "outputs": [
    {
     "name": "stdout",
     "output_type": "stream",
     "text": [
      "2.4.1\n"
     ]
    }
   ],
   "source": [
    "import tensorflow as tf\n",
    "print(tf.__version__)"
   ]
  },
  {
   "cell_type": "code",
   "execution_count": 6,
   "metadata": {},
   "outputs": [],
   "source": [
    "data=pd.read_csv(\"Fusion_data.csv\")"
   ]
  },
  {
   "cell_type": "markdown",
   "metadata": {},
   "source": [
    "# Preproccessing"
   ]
  },
  {
   "cell_type": "code",
   "execution_count": 41,
   "metadata": {},
   "outputs": [],
   "source": [
    "#punctuation dan angka\n",
    "data['title']=data.title.apply(lambda x:re.sub(r'[^\\w]',' ',x))\n",
    "data['title']=data.title.apply(lambda x:re.sub(r'[0-9]',' ',x))"
   ]
  },
  {
   "cell_type": "code",
   "execution_count": 7,
   "metadata": {},
   "outputs": [],
   "source": [
    "from spacy.lang.id import Indonesian\n",
    "from nltk.tokenize import word_tokenize\n",
    "lemmatizer = Indonesian()\n",
    "def preprocessing(t,stops = set()):\n",
    "    listKata = lemmatizer(t.lower().strip())\n",
    "    cleanList = []\n",
    "    for token in word_tokenize(str(listKata)):\n",
    "        cleanList.append(str(token))\n",
    "    t = ' '.join(cleanList)\n",
    "    return t"
   ]
  },
  {
   "cell_type": "code",
   "execution_count": 10,
   "metadata": {},
   "outputs": [
    {
     "name": "stderr",
     "output_type": "stream",
     "text": [
      "15000it [00:19, 760.31it/s]\n"
     ]
    }
   ],
   "source": [
    "from tqdm import tqdm\n",
    "for i,j in tqdm(enumerate(data['p_title'])):\n",
    "    data['p_title'][i]=preprocessing(data['p_title'][i])"
   ]
  },
  {
   "cell_type": "code",
   "execution_count": 11,
   "metadata": {},
   "outputs": [
    {
     "data": {
      "text/plain": [
       "1735    imparsial revisi uu kpk yang disahkan dpr caca...\n",
       "Name: p_title, dtype: object"
      ]
     },
     "execution_count": 11,
     "metadata": {},
     "output_type": "execute_result"
    }
   ],
   "source": [
    "data['p_title'].sample()"
   ]
  },
  {
   "cell_type": "code",
   "execution_count": 93,
   "metadata": {},
   "outputs": [
    {
     "data": {
      "text/plain": [
       "<matplotlib.axes._subplots.AxesSubplot at 0x262883a4e10>"
      ]
     },
     "execution_count": 93,
     "metadata": {},
     "output_type": "execute_result"
    },
    {
     "data": {
      "image/png": "[encoded data removed]",
      "text/plain": [
       "<Figure size 432x288 with 1 Axes>"
      ]
     },
     "metadata": {
      "needs_background": "light"
     },
     "output_type": "display_data"
    }
   ],
   "source": [
    "sns.countplot(data.label)"
   ]
  },
  {
   "cell_type": "code",
   "execution_count": 4,
   "metadata": {},
   "outputs": [
    {
     "data": {
      "text/plain": [
       "<matplotlib.axes._subplots.AxesSubplot at 0x14d49e4bb70>"
      ]
     },
     "execution_count": 4,
     "metadata": {},
     "output_type": "execute_result"
    },
    {
     "data": {
      "image/png": "[encoded data removed]",
      "text/plain": [
       "<Figure size 432x288 with 1 Axes>"
      ]
     },
     "metadata": {
      "needs_background": "light"
     },
     "output_type": "display_data"
    }
   ],
   "source": [
    "from nltk.tokenize import word_tokenize\n",
    "sent_length=[]\n",
    "for i in data['title']:\n",
    "    sent_length.append(len(word_tokenize(i)))\n",
    "data['sent_length']=sent_length\n",
    "sns.histplot(data=data, x='sent_length',hue='label')"
   ]
  },
  {
   "cell_type": "code",
   "execution_count": 4,
   "metadata": {},
   "outputs": [],
   "source": [
    "data=pd.read_csv('Fusion_data3.csv')"
   ]
  },
  {
   "cell_type": "code",
   "execution_count": 5,
   "metadata": {},
   "outputs": [],
   "source": [
    "def category(x):\n",
    "    if x=='clickbait':\n",
    "        return 1\n",
    "    else :\n",
    "        return 0"
   ]
  },
  {
   "cell_type": "code",
   "execution_count": 6,
   "metadata": {},
   "outputs": [],
   "source": [
    "data.label=data.label.apply(lambda x:category(x))"
   ]
  },
  {
   "cell_type": "code",
   "execution_count": 7,
   "metadata": {},
   "outputs": [],
   "source": [
    "from sklearn.model_selection import train_test_split"
   ]
  },
  {
   "cell_type": "code",
   "execution_count": 8,
   "metadata": {},
   "outputs": [],
   "source": [
    "X_train, X_test, y_train, y_test = train_test_split(data.drop(columns=['Unnamed: 0','label']), data['label'], test_size=1/3, random_state=42)\n",
    "X_val, X_test, y_val, y_test = train_test_split(X_test,y_test, test_size=0.8, random_state=42)"
   ]
  },
  {
   "cell_type": "code",
   "execution_count": 9,
   "metadata": {},
   "outputs": [
    {
     "data": {
      "text/html": [
       "<div>\n",
       "<style scoped>\n",
       "    .dataframe tbody tr th:only-of-type {\n",
       "        vertical-align: middle;\n",
       "    }\n",
       "\n",
       "    .dataframe tbody tr th {\n",
       "        vertical-align: top;\n",
       "    }\n",
       "\n",
       "    .dataframe thead th {\n",
       "        text-align: right;\n",
       "    }\n",
       "</style>\n",
       "<table border=\"1\" class=\"dataframe\">\n",
       "  <thead>\n",
       "    <tr style=\"text-align: right;\">\n",
       "      <th></th>\n",
       "      <th>p_title</th>\n",
       "      <th>sent_length</th>\n",
       "      <th>word_length</th>\n",
       "      <th>Stops_ratio</th>\n",
       "      <th>Num_Punctuation</th>\n",
       "      <th>category_Berita</th>\n",
       "      <th>category_Ekonomi&amp;Bisnis</th>\n",
       "      <th>category_Lain</th>\n",
       "      <th>category_Lifestyle</th>\n",
       "      <th>category_Olahraga</th>\n",
       "      <th>...</th>\n",
       "      <th>source_fimela.com</th>\n",
       "      <th>source_kapanlagi.com</th>\n",
       "      <th>source_liputan6.com</th>\n",
       "      <th>source_okezone.com</th>\n",
       "      <th>source_posmetro-medan.com</th>\n",
       "      <th>source_republika.co.id</th>\n",
       "      <th>source_sindonews.com</th>\n",
       "      <th>source_tempo.co</th>\n",
       "      <th>source_tribunnews.com</th>\n",
       "      <th>source_wowkeren.com</th>\n",
       "    </tr>\n",
       "  </thead>\n",
       "  <tbody>\n",
       "    <tr>\n",
       "      <th>5495</th>\n",
       "      <td>tolak ruu pertanahan ribuan petani siap gelar ...</td>\n",
       "      <td>12</td>\n",
       "      <td>4.833333</td>\n",
       "      <td>0.166667</td>\n",
       "      <td>2</td>\n",
       "      <td>1</td>\n",
       "      <td>0</td>\n",
       "      <td>0</td>\n",
       "      <td>0</td>\n",
       "      <td>0</td>\n",
       "      <td>...</td>\n",
       "      <td>0</td>\n",
       "      <td>0</td>\n",
       "      <td>0</td>\n",
       "      <td>0</td>\n",
       "      <td>0</td>\n",
       "      <td>0</td>\n",
       "      <td>0</td>\n",
       "      <td>0</td>\n",
       "      <td>0</td>\n",
       "      <td>1</td>\n",
       "    </tr>\n",
       "  </tbody>\n",
       "</table>\n",
       "<p>1 rows × 26 columns</p>\n",
       "</div>"
      ],
      "text/plain": [
       "                                                p_title  sent_length  \\\n",
       "5495  tolak ruu pertanahan ribuan petani siap gelar ...           12   \n",
       "\n",
       "      word_length  Stops_ratio  Num_Punctuation  category_Berita  \\\n",
       "5495     4.833333     0.166667                2                1   \n",
       "\n",
       "      category_Ekonomi&Bisnis  category_Lain  category_Lifestyle  \\\n",
       "5495                        0              0                   0   \n",
       "\n",
       "      category_Olahraga  ...  source_fimela.com  source_kapanlagi.com  \\\n",
       "5495                  0  ...                  0                     0   \n",
       "\n",
       "      source_liputan6.com  source_okezone.com  source_posmetro-medan.com  \\\n",
       "5495                    0                   0                          0   \n",
       "\n",
       "      source_republika.co.id  source_sindonews.com  source_tempo.co  \\\n",
       "5495                       0                     0                0   \n",
       "\n",
       "      source_tribunnews.com  source_wowkeren.com  \n",
       "5495                      0                    1  \n",
       "\n",
       "[1 rows x 26 columns]"
      ]
     },
     "execution_count": 9,
     "metadata": {},
     "output_type": "execute_result"
    }
   ],
   "source": [
    "X_train.sample()"
   ]
  },
  {
   "cell_type": "markdown",
   "metadata": {},
   "source": [
    "# Embedding"
   ]
  },
  {
   "cell_type": "code",
   "execution_count": 10,
   "metadata": {},
   "outputs": [
    {
     "name": "stderr",
     "output_type": "stream",
     "text": [
      "Using TensorFlow backend.\n"
     ]
    }
   ],
   "source": [
    "from tensorflow.python.keras.preprocessing import sequence\n",
    "from tensorflow.python.keras.preprocessing import text\n",
    "import pandas as pd\n",
    "import numpy as np\n",
    "from nltk.corpus import stopwords\n",
    "from nltk.util import ngrams\n",
    "from sklearn.feature_extraction.text import CountVectorizer\n",
    "from collections import defaultdict\n",
    "from collections import  Counter\n",
    "import re\n",
    "from nltk.tokenize import word_tokenize\n",
    "import gensim\n",
    "import string\n",
    "from keras.preprocessing.text import Tokenizer\n",
    "from keras.preprocessing.sequence import pad_sequences\n",
    "from tqdm import tqdm\n",
    "from keras.models import Sequential\n",
    "from keras.layers import Embedding,LSTM,Dense,SpatialDropout1D\n",
    "from keras.initializers import Constant\n",
    "from sklearn.model_selection import train_test_split\n",
    "from keras.optimizers import Adam\n",
    "# Limit on the number of features to K features.\n",
    "TOP_K = 20000\n",
    "\n",
    "# Limit on the length of text sequences. \n",
    "# Sequences longer than this will be truncated.\n",
    "# and less than it will be padded\n",
    "MAX_SEQUENCE_LENGTH = 20\n",
    "\n",
    "class CustomTokenizer:\n",
    "    def __init__(self, train_texts):\n",
    "        self.train_texts = train_texts\n",
    "        self.tokenizer = Tokenizer(num_words=TOP_K)\n",
    "        \n",
    "    def train_tokenize(self):\n",
    "        # Get max sequence length.\n",
    "        max_length = len(max(self.train_texts , key=len))\n",
    "        self.max_length = min(max_length, MAX_SEQUENCE_LENGTH)\n",
    "    \n",
    "        # Create vocabulary with training texts.\n",
    "        self.tokenizer.fit_on_texts(self.train_texts)\n",
    "        \n",
    "    def vectorize_input(self, tweets):\n",
    "        # Vectorize training and validation texts.\n",
    "        \n",
    "        tweets = self.tokenizer.texts_to_sequences(tweets)\n",
    "        # Fix sequence length to max value. Sequences shorter than the length are\n",
    "        # padded in the beginning and sequences longer are truncated\n",
    "        # at the beginning.\n",
    "        tweets = sequence.pad_sequences(tweets, maxlen=self.max_length, truncating='post',padding='post')\n",
    "        return tweets\n",
    "    \n",
    "tokenizer = CustomTokenizer(train_texts = X_train['p_title'])\n",
    "# fit o the train\n",
    "tokenizer.train_tokenize()\n",
    "tokenized_train = tokenizer.vectorize_input(X_train['p_title'])\n",
    "tokenized_val=tokenizer.vectorize_input(X_val['p_title'])\n",
    "tokenized_test = tokenizer.vectorize_input(X_test['p_title'])"
   ]
  },
  {
   "cell_type": "code",
   "execution_count": 11,
   "metadata": {},
   "outputs": [
    {
     "name": "stderr",
     "output_type": "stream",
     "text": [
      "100%|████████████████████████████████████████████████████████████████████████| 14510/14510 [00:00<00:00, 210836.22it/s]\n"
     ]
    }
   ],
   "source": [
    "import tqdm\n",
    "glove_file='idwiki_word2vec_200.txt'\n",
    "EMBEDDING_VECTOR_LENGTH = 200\n",
    "def construct_embedding_matrix(glove_file, word_index):\n",
    "    embedding_dict = {}\n",
    "    with open(glove_file, 'r', errors=\"ignore\") as f:\n",
    "        for line in f:\n",
    "            values=line.split()\n",
    "            # get the word\n",
    "            word=values[0]\n",
    "            if word in word_index.keys():\n",
    "                # get the vector\n",
    "                vector = np.asarray(values[1:], 'float32')\n",
    "                embedding_dict[word] = vector\n",
    "    ###  oov words (out of vacabulary words) will be mapped to 0 vectors\n",
    "\n",
    "    num_words=len(word_index)+1\n",
    "    #initialize it to 0\n",
    "    embedding_matrix=np.zeros((num_words, EMBEDDING_VECTOR_LENGTH))\n",
    "\n",
    "    for word,i in tqdm.tqdm(word_index.items()):\n",
    "        if i < num_words:\n",
    "            vect=embedding_dict.get(word, [])\n",
    "            if len(vect)>0:\n",
    "                embedding_matrix[i] = vect[:EMBEDDING_VECTOR_LENGTH]\n",
    "    return embedding_matrix\n",
    "  \n",
    "embedding_matrix =  construct_embedding_matrix(glove_file, tokenizer.tokenizer.word_index)"
   ]
  },
  {
   "cell_type": "markdown",
   "metadata": {},
   "source": [
    "# Self Attentive Network + Structured Variable"
   ]
  },
  {
   "cell_type": "code",
   "execution_count": 12,
   "metadata": {},
   "outputs": [],
   "source": [
    "import tensorflow as tf\n",
    "from tensorflow import keras\n",
    "from tensorflow.keras import layers\n",
    "from tensorflow.keras.models import Sequential, load_model\n",
    "from keras import backend as K"
   ]
  },
  {
   "cell_type": "code",
   "execution_count": 13,
   "metadata": {},
   "outputs": [],
   "source": [
    "tf.compat.v1.disable_eager_execution()"
   ]
  },
  {
   "cell_type": "code",
   "execution_count": 14,
   "metadata": {},
   "outputs": [],
   "source": [
    "class attention(tf.keras.layers.Layer): \n",
    "    def __init__(self):    \n",
    "        super(attention, self).__init__()\n",
    "        \n",
    "    def build(self, input_shape):\n",
    "        self.num_dim_perword = input_shape[-1] ##Last value of inp:256\n",
    "        self.W_1 = self.add_weight(shape=(self.num_dim_perword,self.num_dim_perword),initializer=tf.keras.initializers.GlorotNormal())\n",
    "        self.W_2 = self.add_weight(shape=(self.num_dim_perword,1),initializer=tf.keras.initializers.GlorotNormal())\n",
    "        super(attention, self).build(input_shape)\n",
    "        \n",
    "    def call(self, x):\n",
    "        e = K.dot(K.tanh(K.dot(x,self.W_1)),self.W_2)\n",
    "        a = K.softmax(e, axis=1)\n",
    "        output = x*a\n",
    "        return K.sum(output,axis=1)"
   ]
  },
  {
   "cell_type": "code",
   "execution_count": 16,
   "metadata": {},
   "outputs": [
    {
     "name": "stdout",
     "output_type": "stream",
     "text": [
      "Model: \"model_2\"\n",
      "__________________________________________________________________________________________________\n",
      "Layer (type)                    Output Shape         Param #     Connected to                     \n",
      "==================================================================================================\n",
      "input_3 (InputLayer)            [(None, 20)]         0                                            \n",
      "__________________________________________________________________________________________________\n",
      "embedding_1 (Embedding)         (None, 20, 200)      2902200     input_3[0][0]                    \n",
      "__________________________________________________________________________________________________\n",
      "dropout_1 (Dropout)             (None, 20, 200)      0           embedding_1[0][0]                \n",
      "__________________________________________________________________________________________________\n",
      "bidirectional_1 (Bidirectional) (None, 20, 200)      240800      dropout_1[0][0]                  \n",
      "__________________________________________________________________________________________________\n",
      "attention_1 (attention)         (None, 200)          40200       bidirectional_1[0][0]            \n",
      "__________________________________________________________________________________________________\n",
      "input_4 (InputLayer)            [(None, 25)]         0                                            \n",
      "__________________________________________________________________________________________________\n",
      "concatenate_1 (Concatenate)     (None, 225)          0           attention_1[0][0]                \n",
      "                                                                 input_4[0][0]                    \n",
      "__________________________________________________________________________________________________\n",
      "dense (Dense)                   (None, 1)            226         concatenate_1[0][0]              \n",
      "==================================================================================================\n",
      "Total params: 3,183,426\n",
      "Trainable params: 281,226\n",
      "Non-trainable params: 2,902,200\n",
      "__________________________________________________________________________________________________\n"
     ]
    }
   ],
   "source": [
    "inputs_word = tf.keras.Input(shape=(20,))\n",
    "word = tf.keras.layers.Embedding(len(tokenizer.tokenizer.word_index)+1,\n",
    "                    200,\n",
    "                    embeddings_initializer=Constant(embedding_matrix), \n",
    "                    input_length=20,trainable=False)(inputs_word)\n",
    "word=tf.keras.layers.Dropout(0.2)(word)\n",
    "word=tf.keras.layers.Bidirectional(tf.keras.layers.LSTM(100, dropout=0.2, recurrent_dropout=0.2,return_sequences=True),merge_mode='concat')(word)\n",
    "word=attention()(word)\n",
    "word = tf.keras.Model(inputs=inputs_word, outputs=word)\n",
    "inputs_other= tf.keras.Input(shape=(25,))\n",
    "model=tf.keras.layers.concatenate([word.output, inputs_other])\n",
    "model=tf.keras.layers.Dense(1,activation='sigmoid')(model)\n",
    "model= tf.keras.Model(inputs=[word.input, inputs_other], outputs=model)\n",
    "model.summary()"
   ]
  },
  {
   "cell_type": "code",
   "execution_count": 17,
   "metadata": {},
   "outputs": [],
   "source": [
    "optimizer= tf.keras.optimizers.Adam(clipvalue=2,learning_rate=0.005)\n",
    "model.compile(loss=tf.keras.losses.BinaryCrossentropy(from_logits=True),\n",
    "              optimizer=optimizer,\n",
    "              metrics=['accuracy'])"
   ]
  },
  {
   "cell_type": "code",
   "execution_count": 18,
   "metadata": {},
   "outputs": [],
   "source": [
    "i_train = [tokenized_train,X_train.drop(columns=['p_title']).to_numpy()]\n",
    "i_val= [tokenized_val,X_val.drop(columns=['p_title']).to_numpy()]\n",
    "i_test= [tokenized_test,X_test.drop(columns=['p_title']).to_numpy()]"
   ]
  },
  {
   "cell_type": "code",
   "execution_count": 19,
   "metadata": {},
   "outputs": [
    {
     "name": "stdout",
     "output_type": "stream",
     "text": [
      "Train on 10000 samples, validate on 1000 samples\n",
      "Epoch 1/20\n",
      "10000/10000 - 20s - loss: 0.5241 - accuracy: 0.7451 - val_loss: 0.4257 - val_accuracy: 0.8040\n",
      "Epoch 2/20\n",
      "10000/10000 - 18s - loss: 0.4049 - accuracy: 0.8130 - val_loss: 0.4026 - val_accuracy: 0.8190\n",
      "Epoch 3/20\n",
      "10000/10000 - 18s - loss: 0.3605 - accuracy: 0.8421 - val_loss: 0.3803 - val_accuracy: 0.8220\n",
      "Epoch 4/20\n",
      "10000/10000 - 17s - loss: 0.3377 - accuracy: 0.8521 - val_loss: 0.3691 - val_accuracy: 0.8270\n",
      "Epoch 5/20\n",
      "10000/10000 - 17s - loss: 0.3101 - accuracy: 0.8681 - val_loss: 0.3958 - val_accuracy: 0.8350\n",
      "Epoch 6/20\n",
      "10000/10000 - 18s - loss: 0.2983 - accuracy: 0.8725 - val_loss: 0.3813 - val_accuracy: 0.8370\n",
      "Epoch 7/20\n",
      "10000/10000 - 17s - loss: 0.2760 - accuracy: 0.8809 - val_loss: 0.4082 - val_accuracy: 0.8160\n"
     ]
    }
   ],
   "source": [
    "callback = tf.keras.callbacks.EarlyStopping(monitor='val_loss', patience=3,mode='auto')\n",
    "# This callback will stop the training when there is no improvement in\n",
    "# the validation loss for three consecutive epochs.\n",
    "histori = model.fit(x=i_train,y=y_train,validation_data=(i_val,y_val),\n",
    "                    epochs=20, batch_size=64, callbacks=[callback],\n",
    "                    verbose=2)"
   ]
  },
  {
   "cell_type": "code",
   "execution_count": 20,
   "metadata": {},
   "outputs": [],
   "source": [
    "import matplotlib.pyplot as plt"
   ]
  },
  {
   "cell_type": "code",
   "execution_count": 21,
   "metadata": {},
   "outputs": [
    {
     "data": {
      "image/png": "[encoded data removed]",
      "text/plain": [
       "<Figure size 432x288 with 1 Axes>"
      ]
     },
     "metadata": {
      "needs_background": "light"
     },
     "output_type": "display_data"
    }
   ],
   "source": [
    "plt.plot(histori.history['loss'],label='Training loss')\n",
    "plt.plot(histori.history['val_loss'],label='Validation loss')\n",
    "plt.legend()\n",
    "plt.show()"
   ]
  },
  {
   "cell_type": "code",
   "execution_count": 22,
   "metadata": {},
   "outputs": [
    {
     "data": {
      "image/png": "[encoded data removed]",
      "text/plain": [
       "<Figure size 432x288 with 1 Axes>"
      ]
     },
     "metadata": {
      "needs_background": "light"
     },
     "output_type": "display_data"
    }
   ],
   "source": [
    "plt.plot(histori.history['accuracy'],label='Training Acc')\n",
    "plt.plot(histori.history['val_accuracy'],label='Validation Acc')\n",
    "plt.legend()\n",
    "plt.show()"
   ]
  },
  {
   "cell_type": "code",
   "execution_count": 23,
   "metadata": {},
   "outputs": [
    {
     "name": "stdout",
     "output_type": "stream",
     "text": [
      "RNN (SA-BiLSTM + Structured Data)\n",
      "Training\n",
      "Accuracy : 0.839 (+-0.044) Loss : 0.359 (+-0.078)\n",
      "Validation\n",
      "Accuracy : 0.823 (+-0.011) Loss : 0.395 (+-0.018)\n"
     ]
    }
   ],
   "source": [
    "a_mean,a_std=np.mean(histori.history['accuracy']),np.std(histori.history['accuracy'])\n",
    "l_mean,l_std=np.mean(histori.history['loss']),np.std(histori.history['loss'])\n",
    "av_mean,av_std=np.mean(histori.history['val_accuracy']),np.std(histori.history['val_accuracy'])\n",
    "lv_mean,lv_std=np.mean(histori.history['val_loss']),np.std(histori.history['val_loss'])\n",
    "print('RNN (SA-BiLSTM + Structured Data)')\n",
    "print('Training')\n",
    "print('Accuracy : %0.3f (+-%0.3f) Loss : %0.3f (+-%0.3f)'%(a_mean,a_std,l_mean,l_std))\n",
    "print('Validation')\n",
    "print('Accuracy : %0.3f (+-%0.3f) Loss : %0.3f (+-%0.3f)'%(av_mean,av_std,lv_mean,lv_std))"
   ]
  },
  {
   "cell_type": "code",
   "execution_count": 24,
   "metadata": {},
   "outputs": [],
   "source": [
    "def float_int(x):\n",
    "    if x-int(x)>=0.5:\n",
    "        return 1\n",
    "    else :\n",
    "        return 0\n",
    "y_pred=np.array([[float_int(i[0])] for i in model.predict(i_test)])"
   ]
  },
  {
   "cell_type": "code",
   "execution_count": 25,
   "metadata": {},
   "outputs": [
    {
     "name": "stdout",
     "output_type": "stream",
     "text": [
      "Test Loss : 0.423\n",
      "Test Accuracy : 0.819\n",
      "              precision    recall  f1-score   support\n",
      "\n",
      "           0       0.83      0.87      0.85      2334\n",
      "           1       0.80      0.75      0.77      1666\n",
      "\n",
      "    accuracy                           0.82      4000\n",
      "   macro avg       0.82      0.81      0.81      4000\n",
      "weighted avg       0.82      0.82      0.82      4000\n",
      "\n"
     ]
    }
   ],
   "source": [
    "from sklearn.metrics import classification_report,confusion_matrix\n",
    "test_loss,test_accuracy=model.evaluate(i_test,y_test)\n",
    "print('Test Loss : %0.3f'%test_loss)\n",
    "print('Test Accuracy : %0.3f'%test_accuracy)\n",
    "print(classification_report(y_test,y_pred))"
   ]
  },
  {
   "cell_type": "markdown",
   "metadata": {},
   "source": [
    "# Self Attentive Network"
   ]
  },
  {
   "cell_type": "code",
   "execution_count": 41,
   "metadata": {},
   "outputs": [],
   "source": [
    "class attention(tf.keras.layers.Layer): \n",
    "    def __init__(self):    \n",
    "        super(attention, self).__init__()\n",
    "        \n",
    "    def build(self, input_shape):\n",
    "        self.num_dim_perword = input_shape[-1] ##Last value of inp:256\n",
    "        self.W_1 = self.add_weight(shape=(self.num_dim_perword,self.num_dim_perword),initializer=tf.keras.initializers.GlorotNormal())\n",
    "        self.W_2 = self.add_weight(shape=(self.num_dim_perword,1),initializer=tf.keras.initializers.GlorotNormal())\n",
    "        super(attention, self).build(input_shape)\n",
    "        \n",
    "    def call(self, x):\n",
    "        e = K.dot(K.tanh(K.dot(x,self.W_1)),self.W_2)\n",
    "        a = K.softmax(e, axis=1)\n",
    "        output = x*a\n",
    "        return K.sum(output,axis=1)"
   ]
  },
  {
   "cell_type": "code",
   "execution_count": 44,
   "metadata": {},
   "outputs": [
    {
     "name": "stdout",
     "output_type": "stream",
     "text": [
      "Model: \"sequential_1\"\n",
      "_________________________________________________________________\n",
      "Layer (type)                 Output Shape              Param #   \n",
      "=================================================================\n",
      "embedding_5 (Embedding)      (None, 20, 200)           2910000   \n",
      "_________________________________________________________________\n",
      "dropout_6 (Dropout)          (None, 20, 200)           0         \n",
      "_________________________________________________________________\n",
      "bidirectional_5 (Bidirection (None, 20, 200)           240800    \n",
      "_________________________________________________________________\n",
      "attention_5 (attention)      (None, 200)               40200     \n",
      "_________________________________________________________________\n",
      "dropout_7 (Dropout)          (None, 200)               0         \n",
      "_________________________________________________________________\n",
      "dense_4 (Dense)              (None, 1)                 201       \n",
      "=================================================================\n",
      "Total params: 3,191,201\n",
      "Trainable params: 281,201\n",
      "Non-trainable params: 2,910,000\n",
      "_________________________________________________________________\n"
     ]
    }
   ],
   "source": [
    "state_size = 100\n",
    "dropout= 0.2\n",
    "optimizer= tf.keras.optimizers.Adam(learning_rate=0.005)\n",
    "mods1=tf.keras.Sequential([\n",
    "    tf.keras.layers.Embedding(len(tokenizer.tokenizer.word_index)+1,\n",
    "                    200,\n",
    "                    embeddings_initializer=Constant(embedding_matrix), \n",
    "                    input_length=20,trainable=False),\n",
    "    tf.keras.layers.Dropout(dropout),\n",
    "    tf.keras.layers.Bidirectional(tf.keras.layers.LSTM(state_size, dropout=dropout, recurrent_dropout=dropout,return_sequences=True)),\n",
    "    attention(),\n",
    "    tf.keras.layers.Dropout(dropout),\n",
    "    tf.keras.layers.Dense(1,activation='sigmoid'),\n",
    "])\n",
    "mods1.compile(loss=tf.keras.losses.BinaryCrossentropy(from_logits=True),\n",
    "              optimizer=optimizer,\n",
    "              metrics=['accuracy'])\n",
    "mods1.summary()"
   ]
  },
  {
   "cell_type": "code",
   "execution_count": 45,
   "metadata": {},
   "outputs": [
    {
     "name": "stdout",
     "output_type": "stream",
     "text": [
      "Train on 10050 samples, validate on 1980 samples\n",
      "Epoch 1/20\n",
      "10050/10050 - 30s - loss: 0.5336 - accuracy: 0.7347 - val_loss: 0.4663 - val_accuracy: 0.7793\n",
      "Epoch 2/20\n",
      "10050/10050 - 25s - loss: 0.4731 - accuracy: 0.7795 - val_loss: 0.4740 - val_accuracy: 0.7944\n",
      "Epoch 3/20\n",
      "10050/10050 - 25s - loss: 0.4457 - accuracy: 0.7965 - val_loss: 0.4617 - val_accuracy: 0.7848\n",
      "Epoch 4/20\n",
      "10050/10050 - 26s - loss: 0.4294 - accuracy: 0.8077 - val_loss: 0.4614 - val_accuracy: 0.7894\n",
      "Epoch 5/20\n",
      "10050/10050 - 26s - loss: 0.4181 - accuracy: 0.8125 - val_loss: 0.4647 - val_accuracy: 0.7949\n",
      "Epoch 6/20\n",
      "10050/10050 - 28s - loss: 0.4029 - accuracy: 0.8160 - val_loss: 0.4656 - val_accuracy: 0.7980\n",
      "Epoch 7/20\n",
      "10050/10050 - 27s - loss: 0.4006 - accuracy: 0.8200 - val_loss: 0.4759 - val_accuracy: 0.7864\n"
     ]
    }
   ],
   "source": [
    "callback = tf.keras.callbacks.EarlyStopping(monitor='val_loss', patience=3,mode='auto')\n",
    "# This callback will stop the training when there is no improvement in\n",
    "# the validation loss for three consecutive epochs.\n",
    "historie = mods1.fit(tokenized_train,y_train,validation_data=(tokenized_val,y_val),\n",
    "                    epochs=20, batch_size=64, callbacks=[callback],\n",
    "                    verbose=2)"
   ]
  },
  {
   "cell_type": "code",
   "execution_count": 46,
   "metadata": {},
   "outputs": [
    {
     "data": {
      "image/png": "[encoded data removed]",
      "text/plain": [
       "<Figure size 432x288 with 1 Axes>"
      ]
     },
     "metadata": {
      "needs_background": "light"
     },
     "output_type": "display_data"
    }
   ],
   "source": [
    "plt.plot(historie.history['loss'],label='Training loss')\n",
    "plt.plot(historie.history['val_loss'],label='Validation loss')\n",
    "plt.legend()\n",
    "plt.show()"
   ]
  },
  {
   "cell_type": "code",
   "execution_count": 48,
   "metadata": {},
   "outputs": [
    {
     "name": "stdout",
     "output_type": "stream",
     "text": [
      "RNN (SA-BiLSTM)\n",
      "Training\n",
      "Accuracy : 0.795 (+-0.028) Loss : 0.443 (+-0.044)\n",
      "Validation\n",
      "Accuracy : 0.790 (+-0.006) Loss : 0.467 (+-0.005)\n"
     ]
    }
   ],
   "source": [
    "a_mean,a_std=np.mean(historie.history['accuracy']),np.std(historie.history['accuracy'])\n",
    "l_mean,l_std=np.mean(historie.history['loss']),np.std(historie.history['loss'])\n",
    "av_mean,av_std=np.mean(historie.history['val_accuracy']),np.std(historie.history['val_accuracy'])\n",
    "lv_mean,lv_std=np.mean(historie.history['val_loss']),np.std(historie.history['val_loss'])\n",
    "print('RNN (SA-BiLSTM)')\n",
    "print('Training')\n",
    "print('Accuracy : %0.3f (+-%0.3f) Loss : %0.3f (+-%0.3f)'%(a_mean,a_std,l_mean,l_std))\n",
    "print('Validation')\n",
    "print('Accuracy : %0.3f (+-%0.3f) Loss : %0.3f (+-%0.3f)'%(av_mean,av_std,lv_mean,lv_std))"
   ]
  },
  {
   "cell_type": "code",
   "execution_count": 49,
   "metadata": {},
   "outputs": [
    {
     "data": {
      "image/png": "[encoded data removed]",
      "text/plain": [
       "<Figure size 432x288 with 1 Axes>"
      ]
     },
     "metadata": {
      "needs_background": "light"
     },
     "output_type": "display_data"
    }
   ],
   "source": [
    "plt.plot(historie.history['accuracy'],label='Training Acc')\n",
    "plt.plot(historie.history['val_accuracy'],label='Validation Acc')\n",
    "plt.legend()\n",
    "plt.show()"
   ]
  },
  {
   "cell_type": "code",
   "execution_count": 50,
   "metadata": {},
   "outputs": [],
   "source": [
    "def float_int(x):\n",
    "    if x-int(x)>=0.5:\n",
    "        return 1\n",
    "    else :\n",
    "        return 0\n",
    "y_pred=np.array([[float_int(i[0])] for i in mods1.predict(tokenized_test)])"
   ]
  },
  {
   "cell_type": "code",
   "execution_count": 51,
   "metadata": {},
   "outputs": [
    {
     "name": "stdout",
     "output_type": "stream",
     "text": [
      "Test Loss : 0.511\n",
      "Test Accuracy : 0.771\n",
      "              precision    recall  f1-score   support\n",
      "\n",
      "           0       0.76      0.87      0.82      1726\n",
      "           1       0.78      0.63      0.70      1244\n",
      "\n",
      "    accuracy                           0.77      2970\n",
      "   macro avg       0.77      0.75      0.76      2970\n",
      "weighted avg       0.77      0.77      0.77      2970\n",
      "\n"
     ]
    }
   ],
   "source": [
    "from sklearn.metrics import classification_report,confusion_matrix\n",
    "test_loss,test_accuracy=mods1.evaluate(tokenized_test,y_test)\n",
    "print('Test Loss : %0.3f'%test_loss)\n",
    "print('Test Accuracy : %0.3f'%test_accuracy)\n",
    "print(classification_report(y_test,y_pred))"
   ]
  },
  {
   "cell_type": "markdown",
   "metadata": {},
   "source": [
    "# BiLSTM"
   ]
  },
  {
   "cell_type": "code",
   "execution_count": 52,
   "metadata": {},
   "outputs": [
    {
     "name": "stdout",
     "output_type": "stream",
     "text": [
      "Model: \"sequential_2\"\n",
      "_________________________________________________________________\n",
      "Layer (type)                 Output Shape              Param #   \n",
      "=================================================================\n",
      "embedding_6 (Embedding)      (None, 20, 200)           2910000   \n",
      "_________________________________________________________________\n",
      "dropout_8 (Dropout)          (None, 20, 200)           0         \n",
      "_________________________________________________________________\n",
      "bidirectional_6 (Bidirection (None, 200)               240800    \n",
      "_________________________________________________________________\n",
      "dropout_9 (Dropout)          (None, 200)               0         \n",
      "_________________________________________________________________\n",
      "dense_5 (Dense)              (None, 1)                 201       \n",
      "=================================================================\n",
      "Total params: 3,151,001\n",
      "Trainable params: 241,001\n",
      "Non-trainable params: 2,910,000\n",
      "_________________________________________________________________\n"
     ]
    }
   ],
   "source": [
    "state_size = 100\n",
    "dropout= 0.2\n",
    "optimizer= tf.keras.optimizers.Adam(learning_rate=0.005)\n",
    "mods=tf.keras.Sequential([\n",
    "    tf.keras.layers.Embedding(len(tokenizer.tokenizer.word_index)+1,\n",
    "                    200,\n",
    "                    embeddings_initializer=Constant(embedding_matrix), \n",
    "                    input_length=20,trainable=False),\n",
    "    tf.keras.layers.Dropout(dropout),\n",
    "    tf.keras.layers.Bidirectional(tf.keras.layers.LSTM(state_size, dropout=dropout, recurrent_dropout=dropout)),\n",
    "    tf.keras.layers.Dropout(dropout),\n",
    "    tf.keras.layers.Dense(1,activation='sigmoid'),\n",
    "])\n",
    "mods.compile(loss=tf.keras.losses.BinaryCrossentropy(from_logits=True),\n",
    "              optimizer=optimizer,\n",
    "              metrics=['accuracy'])\n",
    "mods.summary()"
   ]
  },
  {
   "cell_type": "code",
   "execution_count": null,
   "metadata": {
    "scrolled": true
   },
   "outputs": [
    {
     "name": "stdout",
     "output_type": "stream",
     "text": [
      "Train on 10050 samples, validate on 1980 samples\n",
      "Epoch 1/20\n",
      "10050/10050 - 29s - loss: 0.5268 - accuracy: 0.7434 - val_loss: 0.4825 - val_accuracy: 0.7768\n",
      "Epoch 2/20\n",
      "10050/10050 - 23s - loss: 0.4668 - accuracy: 0.7822 - val_loss: 0.4552 - val_accuracy: 0.7955\n",
      "Epoch 3/20\n",
      "10050/10050 - 25s - loss: 0.4310 - accuracy: 0.8046 - val_loss: 0.4638 - val_accuracy: 0.7859\n",
      "Epoch 4/20\n"
     ]
    }
   ],
   "source": [
    "callback = tf.keras.callbacks.EarlyStopping(monitor='val_loss', patience=3,mode='auto')\n",
    "# This callback will stop the training when there is no improvement in\n",
    "# the validation loss for three consecutive epochs.\n",
    "histories = mods.fit(tokenized_train,y_train,validation_data=(tokenized_val,y_val),\n",
    "                    epochs=20, batch_size=64, callbacks=[callback],\n",
    "                    verbose=2)"
   ]
  },
  {
   "cell_type": "code",
   "execution_count": 39,
   "metadata": {},
   "outputs": [
    {
     "data": {
      "image/png": "[encoded data removed]",
      "text/plain": [
       "<Figure size 432x288 with 1 Axes>"
      ]
     },
     "metadata": {
      "needs_background": "light"
     },
     "output_type": "display_data"
    }
   ],
   "source": [
    "plt.plot(histories.history['loss'],label='Training loss')\n",
    "plt.plot(histories.history['val_loss'],label='Validation loss')\n",
    "plt.legend()\n",
    "plt.show()"
   ]
  },
  {
   "cell_type": "code",
   "execution_count": 60,
   "metadata": {},
   "outputs": [
    {
     "name": "stdout",
     "output_type": "stream",
     "text": [
      "RNN (BiLSTM)\n",
      "Training\n",
      "Accuracy : 0.795 (+-0.031) Loss : 0.443 (+-0.049)\n",
      "Validation\n",
      "Accuracy : 0.783 (+-0.006) Loss : 0.470 (+-0.008)\n"
     ]
    }
   ],
   "source": [
    "a_mean,a_std=np.mean(histories.history['accuracy']),np.std(histories.history['accuracy'])\n",
    "l_mean,l_std=np.mean(histories.history['loss']),np.std(histories.history['loss'])\n",
    "av_mean,av_std=np.mean(histories.history['val_accuracy']),np.std(histories.history['val_accuracy'])\n",
    "lv_mean,lv_std=np.mean(histories.history['val_loss']),np.std(histories.history['val_loss'])\n",
    "print('RNN (BiLSTM)')\n",
    "print('Training')\n",
    "print('Accuracy : %0.3f (+-%0.3f) Loss : %0.3f (+-%0.3f)'%(a_mean,a_std,l_mean,l_std))\n",
    "print('Validation')\n",
    "print('Accuracy : %0.3f (+-%0.3f) Loss : %0.3f (+-%0.3f)'%(av_mean,av_std,lv_mean,lv_std))"
   ]
  },
  {
   "cell_type": "code",
   "execution_count": 41,
   "metadata": {},
   "outputs": [
    {
     "data": {
      "image/png": "[encoded data removed]",
      "text/plain": [
       "<Figure size 432x288 with 1 Axes>"
      ]
     },
     "metadata": {
      "needs_background": "light"
     },
     "output_type": "display_data"
    }
   ],
   "source": [
    "plt.plot(histories.history['accuracy'],label='Training Acc')\n",
    "plt.plot(histories.history['val_accuracy'],label='Validation Acc')\n",
    "plt.legend()\n",
    "plt.show()"
   ]
  },
  {
   "cell_type": "code",
   "execution_count": 61,
   "metadata": {},
   "outputs": [],
   "source": [
    "def float_int(x):\n",
    "    if x-int(x)>=0.5:\n",
    "        return 1\n",
    "    else :\n",
    "        return 0\n",
    "y_pred=np.array([[float_int(i[0])] for i in mods.predict(tokenized_test)])"
   ]
  },
  {
   "cell_type": "code",
   "execution_count": 63,
   "metadata": {},
   "outputs": [
    {
     "name": "stdout",
     "output_type": "stream",
     "text": [
      "Test Loss : 0.499\n",
      "Test Accuracy : 0.770\n",
      "              precision    recall  f1-score   support\n",
      "\n",
      "           0       0.79      0.82      0.81      1726\n",
      "           1       0.74      0.70      0.72      1244\n",
      "\n",
      "    accuracy                           0.77      2970\n",
      "   macro avg       0.76      0.76      0.76      2970\n",
      "weighted avg       0.77      0.77      0.77      2970\n",
      "\n"
     ]
    }
   ],
   "source": [
    "from sklearn.metrics import classification_report,confusion_matrix\n",
    "test_loss,test_accuracy=mods.evaluate(tokenized_test,y_test)\n",
    "print('Test Loss : %0.3f'%test_loss)\n",
    "print('Test Accuracy : %0.3f'%test_accuracy)\n",
    "print(classification_report(y_test,y_pred))"
   ]
  },
  {
   "cell_type": "code",
   "execution_count": null,
   "metadata": {},
   "outputs": [],
   "source": []
  }
 ],
 "metadata": {
  "kernelspec": {
   "display_name": "Python 3",
   "language": "python",
   "name": "python3"
  },
  "language_info": {
   "codemirror_mode": {
    "name": "ipython",
    "version": 3
   },
   "file_extension": ".py",
   "mimetype": "text/x-python",
   "name": "python",
   "nbconvert_exporter": "python",
   "pygments_lexer": "ipython3",
   "version": "3.6.7"
  }
 },
 "nbformat": 4,
 "nbformat_minor": 2
}
