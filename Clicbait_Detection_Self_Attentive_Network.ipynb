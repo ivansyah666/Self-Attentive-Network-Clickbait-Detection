{
 "cells": [
  {
   "cell_type": "code",
   "execution_count": 1,
   "metadata": {},
   "outputs": [],
   "source": [
    "import warnings\n",
    "warnings.filterwarnings('ignore')\n",
    "import pandas as pd\n",
    "import numpy as np\n",
    "import matplotlib.pyplot as plt\n",
    "import seaborn as sns\n",
    "from tqdm import tqdm\n",
    "import re\n",
    "import pickle"
   ]
  },
  {
   "cell_type": "code",
   "execution_count": 2,
   "metadata": {},
   "outputs": [
    {
     "name": "stdout",
     "output_type": "stream",
     "text": [
      "2.4.1\n"
     ]
    }
   ],
   "source": [
    "import tensorflow as tf\n",
    "print(tf.__version__)"
   ]
  },
  {
   "cell_type": "code",
   "execution_count": 2,
   "metadata": {},
   "outputs": [],
   "source": [
    "data=pd.read_csv('preprocessing_1.csv')"
   ]
  },
  {
   "cell_type": "code",
   "execution_count": 4,
   "metadata": {},
   "outputs": [
    {
     "data": {
      "text/html": [
       "<div>\n",
       "<style scoped>\n",
       "    .dataframe tbody tr th:only-of-type {\n",
       "        vertical-align: middle;\n",
       "    }\n",
       "\n",
       "    .dataframe tbody tr th {\n",
       "        vertical-align: top;\n",
       "    }\n",
       "\n",
       "    .dataframe thead th {\n",
       "        text-align: right;\n",
       "    }\n",
       "</style>\n",
       "<table border=\"1\" class=\"dataframe\">\n",
       "  <thead>\n",
       "    <tr style=\"text-align: right;\">\n",
       "      <th></th>\n",
       "      <th>Unnamed: 0</th>\n",
       "      <th>label</th>\n",
       "      <th>p_title</th>\n",
       "      <th>sent_length</th>\n",
       "      <th>word_length</th>\n",
       "      <th>Stops_ratio</th>\n",
       "      <th>Num_Punctuation</th>\n",
       "      <th>category_Berita</th>\n",
       "      <th>category_Ekonomi&amp;Bisnis</th>\n",
       "      <th>category_Lain</th>\n",
       "      <th>...</th>\n",
       "      <th>source_fimela.com</th>\n",
       "      <th>source_kapanlagi.com</th>\n",
       "      <th>source_liputan6.com</th>\n",
       "      <th>source_okezone.com</th>\n",
       "      <th>source_posmetro-medan.com</th>\n",
       "      <th>source_republika.co.id</th>\n",
       "      <th>source_sindonews.com</th>\n",
       "      <th>source_tempo.co</th>\n",
       "      <th>source_tribunnews.com</th>\n",
       "      <th>source_wowkeren.com</th>\n",
       "    </tr>\n",
       "  </thead>\n",
       "  <tbody>\n",
       "    <tr>\n",
       "      <th>0</th>\n",
       "      <td>0</td>\n",
       "      <td>non-clickbait</td>\n",
       "      <td>masuk radar pilwalkot medan menantu jokowi ber...</td>\n",
       "      <td>10</td>\n",
       "      <td>5.800000</td>\n",
       "      <td>0.000000</td>\n",
       "      <td>1</td>\n",
       "      <td>1</td>\n",
       "      <td>0</td>\n",
       "      <td>0</td>\n",
       "      <td>...</td>\n",
       "      <td>0</td>\n",
       "      <td>0</td>\n",
       "      <td>0</td>\n",
       "      <td>0</td>\n",
       "      <td>0</td>\n",
       "      <td>0</td>\n",
       "      <td>0</td>\n",
       "      <td>0</td>\n",
       "      <td>0</td>\n",
       "      <td>0</td>\n",
       "    </tr>\n",
       "    <tr>\n",
       "      <th>1</th>\n",
       "      <td>1</td>\n",
       "      <td>non-clickbait</td>\n",
       "      <td>malaysia sudutkan ri isu kabut asap hingga inv...</td>\n",
       "      <td>9</td>\n",
       "      <td>5.111111</td>\n",
       "      <td>0.111111</td>\n",
       "      <td>1</td>\n",
       "      <td>1</td>\n",
       "      <td>0</td>\n",
       "      <td>0</td>\n",
       "      <td>...</td>\n",
       "      <td>0</td>\n",
       "      <td>0</td>\n",
       "      <td>0</td>\n",
       "      <td>0</td>\n",
       "      <td>0</td>\n",
       "      <td>0</td>\n",
       "      <td>0</td>\n",
       "      <td>0</td>\n",
       "      <td>0</td>\n",
       "      <td>0</td>\n",
       "    </tr>\n",
       "    <tr>\n",
       "      <th>2</th>\n",
       "      <td>2</td>\n",
       "      <td>clickbait</td>\n",
       "      <td>viral driver ojol di bekasi antar pesanan maka...</td>\n",
       "      <td>10</td>\n",
       "      <td>5.300000</td>\n",
       "      <td>0.200000</td>\n",
       "      <td>1</td>\n",
       "      <td>1</td>\n",
       "      <td>0</td>\n",
       "      <td>0</td>\n",
       "      <td>...</td>\n",
       "      <td>0</td>\n",
       "      <td>0</td>\n",
       "      <td>0</td>\n",
       "      <td>0</td>\n",
       "      <td>0</td>\n",
       "      <td>0</td>\n",
       "      <td>0</td>\n",
       "      <td>0</td>\n",
       "      <td>0</td>\n",
       "      <td>0</td>\n",
       "    </tr>\n",
       "    <tr>\n",
       "      <th>3</th>\n",
       "      <td>3</td>\n",
       "      <td>non-clickbait</td>\n",
       "      <td>kemensos salurkan rp m bagi korban kerusuhan s...</td>\n",
       "      <td>10</td>\n",
       "      <td>5.100000</td>\n",
       "      <td>0.200000</td>\n",
       "      <td>1</td>\n",
       "      <td>1</td>\n",
       "      <td>0</td>\n",
       "      <td>0</td>\n",
       "      <td>...</td>\n",
       "      <td>0</td>\n",
       "      <td>0</td>\n",
       "      <td>0</td>\n",
       "      <td>0</td>\n",
       "      <td>0</td>\n",
       "      <td>0</td>\n",
       "      <td>0</td>\n",
       "      <td>0</td>\n",
       "      <td>0</td>\n",
       "      <td>0</td>\n",
       "    </tr>\n",
       "    <tr>\n",
       "      <th>4</th>\n",
       "      <td>4</td>\n",
       "      <td>clickbait</td>\n",
       "      <td>terkait mayat bayi mengenaskan di tangerang se...</td>\n",
       "      <td>10</td>\n",
       "      <td>6.400000</td>\n",
       "      <td>0.200000</td>\n",
       "      <td>1</td>\n",
       "      <td>1</td>\n",
       "      <td>0</td>\n",
       "      <td>0</td>\n",
       "      <td>...</td>\n",
       "      <td>0</td>\n",
       "      <td>0</td>\n",
       "      <td>0</td>\n",
       "      <td>0</td>\n",
       "      <td>0</td>\n",
       "      <td>0</td>\n",
       "      <td>0</td>\n",
       "      <td>0</td>\n",
       "      <td>0</td>\n",
       "      <td>0</td>\n",
       "    </tr>\n",
       "  </tbody>\n",
       "</table>\n",
       "<p>5 rows × 28 columns</p>\n",
       "</div>"
      ],
      "text/plain": [
       "   Unnamed: 0          label  \\\n",
       "0           0  non-clickbait   \n",
       "1           1  non-clickbait   \n",
       "2           2      clickbait   \n",
       "3           3  non-clickbait   \n",
       "4           4      clickbait   \n",
       "\n",
       "                                             p_title  sent_length  \\\n",
       "0  masuk radar pilwalkot medan menantu jokowi ber...           10   \n",
       "1  malaysia sudutkan ri isu kabut asap hingga inv...            9   \n",
       "2  viral driver ojol di bekasi antar pesanan maka...           10   \n",
       "3  kemensos salurkan rp m bagi korban kerusuhan s...           10   \n",
       "4  terkait mayat bayi mengenaskan di tangerang se...           10   \n",
       "\n",
       "   word_length  Stops_ratio  Num_Punctuation  category_Berita  \\\n",
       "0     5.800000     0.000000                1                1   \n",
       "1     5.111111     0.111111                1                1   \n",
       "2     5.300000     0.200000                1                1   \n",
       "3     5.100000     0.200000                1                1   \n",
       "4     6.400000     0.200000                1                1   \n",
       "\n",
       "   category_Ekonomi&Bisnis  category_Lain  ...  source_fimela.com  \\\n",
       "0                        0              0  ...                  0   \n",
       "1                        0              0  ...                  0   \n",
       "2                        0              0  ...                  0   \n",
       "3                        0              0  ...                  0   \n",
       "4                        0              0  ...                  0   \n",
       "\n",
       "   source_kapanlagi.com  source_liputan6.com  source_okezone.com  \\\n",
       "0                     0                    0                   0   \n",
       "1                     0                    0                   0   \n",
       "2                     0                    0                   0   \n",
       "3                     0                    0                   0   \n",
       "4                     0                    0                   0   \n",
       "\n",
       "   source_posmetro-medan.com  source_republika.co.id  source_sindonews.com  \\\n",
       "0                          0                       0                     0   \n",
       "1                          0                       0                     0   \n",
       "2                          0                       0                     0   \n",
       "3                          0                       0                     0   \n",
       "4                          0                       0                     0   \n",
       "\n",
       "   source_tempo.co  source_tribunnews.com  source_wowkeren.com  \n",
       "0                0                      0                    0  \n",
       "1                0                      0                    0  \n",
       "2                0                      0                    0  \n",
       "3                0                      0                    0  \n",
       "4                0                      0                    0  \n",
       "\n",
       "[5 rows x 28 columns]"
      ]
     },
     "execution_count": 4,
     "metadata": {},
     "output_type": "execute_result"
    }
   ],
   "source": [
    "data.head()"
   ]
  },
  {
   "cell_type": "code",
   "execution_count": 50,
   "metadata": {},
   "outputs": [],
   "source": [
    "def category(x):\n",
    "    if x=='clickbait':\n",
    "        return 1\n",
    "    else :\n",
    "        return 0"
   ]
  },
  {
   "cell_type": "code",
   "execution_count": 51,
   "metadata": {},
   "outputs": [],
   "source": [
    "data.label=data.label.apply(lambda x:category(x))"
   ]
  },
  {
   "cell_type": "code",
   "execution_count": 117,
   "metadata": {},
   "outputs": [],
   "source": [
    "from sklearn.model_selection import train_test_split"
   ]
  },
  {
   "cell_type": "code",
   "execution_count": 118,
   "metadata": {},
   "outputs": [],
   "source": [
    "X_train, X_test, y_train, y_test = train_test_split(data.drop(columns=['Unnamed: 0','label']), data['label'], test_size=1/3, random_state=42)\n",
    "X_val, X_test, y_val, y_test = train_test_split(X_test,y_test, test_size=0.8, random_state=42)"
   ]
  },
  {
   "cell_type": "code",
   "execution_count": 54,
   "metadata": {},
   "outputs": [
    {
     "data": {
      "text/html": [
       "<div>\n",
       "<style scoped>\n",
       "    .dataframe tbody tr th:only-of-type {\n",
       "        vertical-align: middle;\n",
       "    }\n",
       "\n",
       "    .dataframe tbody tr th {\n",
       "        vertical-align: top;\n",
       "    }\n",
       "\n",
       "    .dataframe thead th {\n",
       "        text-align: right;\n",
       "    }\n",
       "</style>\n",
       "<table border=\"1\" class=\"dataframe\">\n",
       "  <thead>\n",
       "    <tr style=\"text-align: right;\">\n",
       "      <th></th>\n",
       "      <th>p_title</th>\n",
       "      <th>sent_length</th>\n",
       "      <th>word_length</th>\n",
       "      <th>Stops_ratio</th>\n",
       "      <th>Num_Punctuation</th>\n",
       "      <th>category_Berita</th>\n",
       "      <th>category_Ekonomi&amp;Bisnis</th>\n",
       "      <th>category_Lain</th>\n",
       "      <th>category_Lifestyle</th>\n",
       "      <th>category_Olahraga</th>\n",
       "      <th>...</th>\n",
       "      <th>source_fimela.com</th>\n",
       "      <th>source_kapanlagi.com</th>\n",
       "      <th>source_liputan6.com</th>\n",
       "      <th>source_okezone.com</th>\n",
       "      <th>source_posmetro-medan.com</th>\n",
       "      <th>source_republika.co.id</th>\n",
       "      <th>source_sindonews.com</th>\n",
       "      <th>source_tempo.co</th>\n",
       "      <th>source_tribunnews.com</th>\n",
       "      <th>source_wowkeren.com</th>\n",
       "    </tr>\n",
       "  </thead>\n",
       "  <tbody>\n",
       "    <tr>\n",
       "      <th>10869</th>\n",
       "      <td>serunya gita gutawa dan vadi akbar konser di k...</td>\n",
       "      <td>12</td>\n",
       "      <td>5.166667</td>\n",
       "      <td>0.166667</td>\n",
       "      <td>0</td>\n",
       "      <td>0</td>\n",
       "      <td>0</td>\n",
       "      <td>0</td>\n",
       "      <td>0</td>\n",
       "      <td>0</td>\n",
       "      <td>...</td>\n",
       "      <td>0</td>\n",
       "      <td>0</td>\n",
       "      <td>0</td>\n",
       "      <td>1</td>\n",
       "      <td>0</td>\n",
       "      <td>0</td>\n",
       "      <td>0</td>\n",
       "      <td>0</td>\n",
       "      <td>0</td>\n",
       "      <td>0</td>\n",
       "    </tr>\n",
       "  </tbody>\n",
       "</table>\n",
       "<p>1 rows × 26 columns</p>\n",
       "</div>"
      ],
      "text/plain": [
       "                                                 p_title  sent_length  \\\n",
       "10869  serunya gita gutawa dan vadi akbar konser di k...           12   \n",
       "\n",
       "       word_length  Stops_ratio  Num_Punctuation  category_Berita  \\\n",
       "10869     5.166667     0.166667                0                0   \n",
       "\n",
       "       category_Ekonomi&Bisnis  category_Lain  category_Lifestyle  \\\n",
       "10869                        0              0                   0   \n",
       "\n",
       "       category_Olahraga  ...  source_fimela.com  source_kapanlagi.com  \\\n",
       "10869                  0  ...                  0                     0   \n",
       "\n",
       "       source_liputan6.com  source_okezone.com  source_posmetro-medan.com  \\\n",
       "10869                    0                   1                          0   \n",
       "\n",
       "       source_republika.co.id  source_sindonews.com  source_tempo.co  \\\n",
       "10869                       0                     0                0   \n",
       "\n",
       "       source_tribunnews.com  source_wowkeren.com  \n",
       "10869                      0                    0  \n",
       "\n",
       "[1 rows x 26 columns]"
      ]
     },
     "execution_count": 54,
     "metadata": {},
     "output_type": "execute_result"
    }
   ],
   "source": [
    "X_train.sample()"
   ]
  },
  {
   "cell_type": "markdown",
   "metadata": {},
   "source": [
    "# Embedding"
   ]
  },
  {
   "cell_type": "code",
   "execution_count": 119,
   "metadata": {},
   "outputs": [],
   "source": [
    "from tensorflow.python.keras.preprocessing import sequence\n",
    "from tensorflow.python.keras.preprocessing import text\n",
    "import pandas as pd\n",
    "import numpy as np\n",
    "from nltk.corpus import stopwords\n",
    "from nltk.util import ngrams\n",
    "from sklearn.feature_extraction.text import CountVectorizer\n",
    "from collections import defaultdict\n",
    "from collections import  Counter\n",
    "import re\n",
    "from nltk.tokenize import word_tokenize\n",
    "import gensim\n",
    "import string\n",
    "from keras.preprocessing.text import Tokenizer\n",
    "from keras.preprocessing.sequence import pad_sequences\n",
    "from tqdm import tqdm\n",
    "from keras.models import Sequential\n",
    "from keras.layers import Embedding,LSTM,Dense,SpatialDropout1D\n",
    "from keras.initializers import Constant\n",
    "from sklearn.model_selection import train_test_split\n",
    "from keras.optimizers import Adam\n",
    "# Limit on the number of features to K features.\n",
    "TOP_K = 20000\n",
    "\n",
    "# Limit on the length of text sequences. \n",
    "# Sequences longer than this will be truncated.\n",
    "# and less than it will be padded\n",
    "MAX_SEQUENCE_LENGTH = 20\n",
    "\n",
    "class CustomTokenizer:\n",
    "    def __init__(self, train_texts):\n",
    "        self.train_texts = train_texts\n",
    "        self.tokenizer = Tokenizer(num_words=TOP_K)\n",
    "        \n",
    "    def train_tokenize(self):\n",
    "        # Get max sequence length.\n",
    "        max_length = len(max(self.train_texts , key=len))\n",
    "        self.max_length = min(max_length, MAX_SEQUENCE_LENGTH)\n",
    "    \n",
    "        # Create vocabulary with training texts.\n",
    "        self.tokenizer.fit_on_texts(self.train_texts)\n",
    "        \n",
    "    def vectorize_input(self, tweets):\n",
    "        # Vectorize training and validation texts.\n",
    "        \n",
    "        tweets = self.tokenizer.texts_to_sequences(tweets)\n",
    "        # Fix sequence length to max value. Sequences shorter than the length are\n",
    "        # padded in the beginning and sequences longer are truncated\n",
    "        # at the beginning.\n",
    "        tweets = sequence.pad_sequences(tweets, maxlen=self.max_length, truncating='post',padding='post')\n",
    "        return tweets\n",
    "    \n",
    "tokenizer = CustomTokenizer(train_texts = X_train['p_title'])\n",
    "# fit o the train\n",
    "tokenizer.train_tokenize()\n",
    "tokenized_train = tokenizer.vectorize_input(X_train['p_title'])\n",
    "tokenized_val=tokenizer.vectorize_input(X_val['p_title'])\n",
    "tokenized_test = tokenizer.vectorize_input(X_test['p_title'])"
   ]
  },
  {
   "cell_type": "code",
   "execution_count": 120,
   "metadata": {},
   "outputs": [
    {
     "name": "stderr",
     "output_type": "stream",
     "text": [
      "100%|████████████████████████████████████████████████████████████████████████| 14510/14510 [00:00<00:00, 290749.29it/s]\n"
     ]
    }
   ],
   "source": [
    "import tqdm\n",
    "glove_file='id_wiki_100.txt'\n",
    "EMBEDDING_VECTOR_LENGTH = 100\n",
    "def construct_embedding_matrix(glove_file, word_index):\n",
    "    embedding_dict = {}\n",
    "    with open(glove_file, 'r', errors=\"ignore\") as f:\n",
    "        for line in f:\n",
    "            values=line.split()\n",
    "            # get the word\n",
    "            word=values[0]\n",
    "            if word in word_index.keys():\n",
    "                # get the vector\n",
    "                vector = np.asarray(values[1:], 'float32')\n",
    "                embedding_dict[word] = vector\n",
    "    ###  oov words (out of vacabulary words) will be mapped to 0 vectors\n",
    "\n",
    "    num_words=len(word_index)+1\n",
    "    #initialize it to 0\n",
    "    embedding_matrix=np.zeros((num_words, EMBEDDING_VECTOR_LENGTH))\n",
    "\n",
    "    for word,i in tqdm.tqdm(word_index.items()):\n",
    "        if i < num_words:\n",
    "            vect=embedding_dict.get(word, [])\n",
    "            if len(vect)>0:\n",
    "                embedding_matrix[i] = vect[:EMBEDDING_VECTOR_LENGTH]\n",
    "    return embedding_matrix\n",
    "  \n",
    "embedding_matrix =  construct_embedding_matrix(glove_file, tokenizer.tokenizer.word_index)"
   ]
  },
  {
   "cell_type": "markdown",
   "metadata": {},
   "source": [
    "# Self Attentive Network + Structured Variable"
   ]
  },
  {
   "cell_type": "code",
   "execution_count": 133,
   "metadata": {},
   "outputs": [],
   "source": [
    "import tensorflow as tf\n",
    "from tensorflow import keras\n",
    "from tensorflow.keras.models import Sequential, load_model\n",
    "from keras import backend as K"
   ]
  },
  {
   "cell_type": "code",
   "execution_count": 139,
   "metadata": {},
   "outputs": [],
   "source": [
    "class attention(tf.keras.layers.Layer): \n",
    "    def __init__(self):\n",
    "        super(attention, self).__init__()\n",
    "        \n",
    "    def build(self, input_shape):\n",
    "        self.num_dim_perword = input_shape[-1] ##Last value of inp:256\n",
    "        self.W1 = self.add_weight(shape=(self.num_dim_perword,self.num_dim_perword),initializer=tf.keras.initializers.GlorotNormal(),trainable=True)\n",
    "        self.W2 = self.add_weight(shape=(self.num_dim_perword,1),initializer=tf.keras.initializers.GlorotNormal(),trainable=True)\n",
    "        super(attention, self).build(input_shape)\n",
    "        \n",
    "    def call(self, x):\n",
    "        e = K.dot(K.tanh(K.dot(x,self.W1)),self.W2)\n",
    "        a = K.softmax(e,axis=-1)\n",
    "        output = x*a\n",
    "        return K.sum(output, axis=1)"
   ]
  },
  {
   "cell_type": "code",
   "execution_count": 140,
   "metadata": {},
   "outputs": [
    {
     "name": "stdout",
     "output_type": "stream",
     "text": [
      "Model: \"model_40\"\n",
      "__________________________________________________________________________________________________\n",
      "Layer (type)                    Output Shape         Param #     Connected to                     \n",
      "==================================================================================================\n",
      "input_57 (InputLayer)           [(None, 20)]         0                                            \n",
      "__________________________________________________________________________________________________\n",
      "embedding_36 (Embedding)        (None, 20, 100)      1451100     input_57[0][0]                   \n",
      "__________________________________________________________________________________________________\n",
      "dropout_36 (Dropout)            (None, 20, 100)      0           embedding_36[0][0]               \n",
      "__________________________________________________________________________________________________\n",
      "bidirectional_36 (Bidirectional (None, 20, 128)      84480       dropout_36[0][0]                 \n",
      "__________________________________________________________________________________________________\n",
      "attention_34 (attention)        (None, 128)          16512       bidirectional_36[0][0]           \n",
      "__________________________________________________________________________________________________\n",
      "input_58 (InputLayer)           [(None, 25)]         0                                            \n",
      "__________________________________________________________________________________________________\n",
      "concatenate_21 (Concatenate)    (None, 153)          0           attention_34[0][0]               \n",
      "                                                                 input_58[0][0]                   \n",
      "__________________________________________________________________________________________________\n",
      "dense_20 (Dense)                (None, 1)            154         concatenate_21[0][0]             \n",
      "==================================================================================================\n",
      "Total params: 1,552,246\n",
      "Trainable params: 101,146\n",
      "Non-trainable params: 1,451,100\n",
      "__________________________________________________________________________________________________\n"
     ]
    }
   ],
   "source": [
    "inputs_word = tf.keras.Input(shape=(20,))\n",
    "word = tf.keras.layers.Embedding(len(tokenizer.tokenizer.word_index)+1,\n",
    "                    100,\n",
    "                    embeddings_initializer=Constant(embedding_matrix), \n",
    "                    input_length=20,trainable=False)(inputs_word)\n",
    "word=tf.keras.layers.Dropout(0.3)(word)\n",
    "word=tf.keras.layers.Bidirectional(tf.keras.layers.LSTM(64, dropout=0.3, recurrent_dropout=0.3,return_sequences=True),merge_mode='concat')(word)\n",
    "word=attention()(word)\n",
    "word = tf.keras.Model(inputs=inputs_word, outputs=word)\n",
    "inputs_other= tf.keras.Input(shape=(25,))\n",
    "model=tf.keras.layers.concatenate([word.output, inputs_other])\n",
    "model=tf.keras.layers.Dense(1,activation='sigmoid')(model)\n",
    "model= tf.keras.Model(inputs=[word.input, inputs_other], outputs=model)\n",
    "model.summary()"
   ]
  },
  {
   "cell_type": "code",
   "execution_count": 141,
   "metadata": {},
   "outputs": [],
   "source": [
    "optimizer= tf.keras.optimizers.Adam(learning_rate=0.05)\n",
    "model.compile(loss=tf.keras.losses.BinaryCrossentropy(from_logits=True),\n",
    "              optimizer=optimizer,\n",
    "              metrics=['accuracy'])"
   ]
  },
  {
   "cell_type": "code",
   "execution_count": 142,
   "metadata": {},
   "outputs": [],
   "source": [
    "i_train = [tokenized_train,X_train.drop(columns=['p_title']).to_numpy()]\n",
    "i_val= [tokenized_val,X_val.drop(columns=['p_title']).to_numpy()]\n",
    "i_test= [tokenized_test,X_test.drop(columns=['p_title']).to_numpy()]"
   ]
  },
  {
   "cell_type": "code",
   "execution_count": 143,
   "metadata": {
    "scrolled": true
   },
   "outputs": [
    {
     "name": "stdout",
     "output_type": "stream",
     "text": [
      "Epoch 1/20\n",
      "157/157 - 18s - loss: 0.5565 - accuracy: 0.7372 - val_loss: 0.4864 - val_accuracy: 0.7720\n",
      "Epoch 2/20\n",
      "157/157 - 10s - loss: 0.4517 - accuracy: 0.7858 - val_loss: 0.4320 - val_accuracy: 0.7870\n",
      "Epoch 3/20\n",
      "157/157 - 11s - loss: 0.4294 - accuracy: 0.8011 - val_loss: 0.4061 - val_accuracy: 0.8110\n",
      "Epoch 4/20\n",
      "157/157 - 11s - loss: 0.4193 - accuracy: 0.8046 - val_loss: 0.4072 - val_accuracy: 0.8040\n",
      "Epoch 5/20\n",
      "157/157 - 11s - loss: 0.4111 - accuracy: 0.8101 - val_loss: 0.4175 - val_accuracy: 0.8060\n",
      "Epoch 6/20\n",
      "157/157 - 11s - loss: 0.4070 - accuracy: 0.8164 - val_loss: 0.3954 - val_accuracy: 0.8170\n",
      "Epoch 7/20\n",
      "157/157 - 11s - loss: 0.4027 - accuracy: 0.8163 - val_loss: 0.3886 - val_accuracy: 0.8080\n",
      "Epoch 8/20\n",
      "157/157 - 11s - loss: 0.4053 - accuracy: 0.8133 - val_loss: 0.3918 - val_accuracy: 0.8230\n",
      "Epoch 9/20\n",
      "157/157 - 10s - loss: 0.3982 - accuracy: 0.8172 - val_loss: 0.3891 - val_accuracy: 0.8270\n",
      "Epoch 10/20\n",
      "157/157 - 10s - loss: 0.3988 - accuracy: 0.8130 - val_loss: 0.3883 - val_accuracy: 0.8260\n",
      "Epoch 11/20\n",
      "157/157 - 11s - loss: 0.4024 - accuracy: 0.8151 - val_loss: 0.3828 - val_accuracy: 0.8180\n",
      "Epoch 12/20\n",
      "157/157 - 11s - loss: 0.3962 - accuracy: 0.8165 - val_loss: 0.3863 - val_accuracy: 0.8160\n",
      "Epoch 13/20\n",
      "157/157 - 11s - loss: 0.3998 - accuracy: 0.8161 - val_loss: 0.3756 - val_accuracy: 0.8180\n",
      "Epoch 14/20\n",
      "157/157 - 11s - loss: 0.3995 - accuracy: 0.8138 - val_loss: 0.3837 - val_accuracy: 0.8200\n",
      "Epoch 15/20\n",
      "157/157 - 11s - loss: 0.3983 - accuracy: 0.8153 - val_loss: 0.4093 - val_accuracy: 0.8120\n",
      "Epoch 16/20\n",
      "157/157 - 11s - loss: 0.3973 - accuracy: 0.8193 - val_loss: 0.3794 - val_accuracy: 0.8310\n"
     ]
    }
   ],
   "source": [
    "callback = tf.keras.callbacks.EarlyStopping(monitor='val_loss', patience=3,mode='auto')\n",
    "# This callback will stop the training when there is no improvement in\n",
    "# the validation loss for three consecutive epochs.\n",
    "histori = model.fit(x=i_train,y=y_train,validation_data=(i_val,y_val),epochs=20, batch_size=64, callbacks=[callback],verbose=2)"
   ]
  },
  {
   "cell_type": "code",
   "execution_count": 129,
   "metadata": {},
   "outputs": [],
   "source": [
    "import pickle\n",
    "with open('/SABiLSTMSBFixedHistoryDict', 'wb') as file_pi:\n",
    "    pickle.dump(histori.history, file_pi)"
   ]
  },
  {
   "cell_type": "code",
   "execution_count": 130,
   "metadata": {},
   "outputs": [
    {
     "name": "stdout",
     "output_type": "stream",
     "text": [
      "INFO:tensorflow:Assets written to: SABiLSTMSBFixed\\assets\n"
     ]
    }
   ],
   "source": [
    "model.save('SABiLSTMSBFixed')"
   ]
  },
  {
   "cell_type": "code",
   "execution_count": 131,
   "metadata": {},
   "outputs": [
    {
     "data": {
      "image/png": "[encoded data removed]",
      "text/plain": [
       "<Figure size 432x288 with 1 Axes>"
      ]
     },
     "metadata": {
      "needs_background": "light"
     },
     "output_type": "display_data"
    }
   ],
   "source": [
    "plt.plot(histori.history['loss'],label='Training loss')\n",
    "plt.plot(histori.history['val_loss'],label='Validation loss')\n",
    "plt.legend()\n",
    "plt.show()"
   ]
  },
  {
   "cell_type": "code",
   "execution_count": 132,
   "metadata": {},
   "outputs": [
    {
     "data": {
      "image/png": "[encoded data removed]",
      "text/plain": [
       "<Figure size 432x288 with 1 Axes>"
      ]
     },
     "metadata": {
      "needs_background": "light"
     },
     "output_type": "display_data"
    }
   ],
   "source": [
    "plt.plot(histori.history['accuracy'],label='Training Acc')\n",
    "plt.plot(histori.history['val_accuracy'],label='Validation Acc')\n",
    "plt.ylim(0.72,0.87)\n",
    "plt.ylabel('Accuracy')\n",
    "plt.xlabel('Epoch')\n",
    "plt.legend()\n",
    "plt.show()"
   ]
  },
  {
   "cell_type": "code",
   "execution_count": 133,
   "metadata": {},
   "outputs": [
    {
     "name": "stdout",
     "output_type": "stream",
     "text": [
      "RNN (SA-BiLSTM + Structured Data)\n",
      "Training\n",
      "Accuracy : 0.815 (+-0.020) Loss : 0.401 (+-0.032)\n",
      "Validation\n",
      "Accuracy : 0.821 (+-0.017) Loss : 0.393 (+-0.035)\n"
     ]
    }
   ],
   "source": [
    "a_mean,a_std=np.mean(histori.history['accuracy']),np.std(histori.history['accuracy'])\n",
    "l_mean,l_std=np.mean(histori.history['loss']),np.std(histori.history['loss'])\n",
    "av_mean,av_std=np.mean(histori.history['val_accuracy']),np.std(histori.history['val_accuracy'])\n",
    "lv_mean,lv_std=np.mean(histori.history['val_loss']),np.std(histori.history['val_loss'])\n",
    "print('RNN (SA-BiLSTM + Structured Data)')\n",
    "print('Training')\n",
    "print('Accuracy : %0.3f (+-%0.3f) Loss : %0.3f (+-%0.3f)'%(a_mean,a_std,l_mean,l_std))\n",
    "print('Validation')\n",
    "print('Accuracy : %0.3f (+-%0.3f) Loss : %0.3f (+-%0.3f)'%(av_mean,av_std,lv_mean,lv_std))"
   ]
  },
  {
   "cell_type": "code",
   "execution_count": 98,
   "metadata": {},
   "outputs": [],
   "source": [
    "def float_int(x):\n",
    "    if x-int(x)>=0.5:\n",
    "        return 1\n",
    "    else :\n",
    "        return 0\n",
    "y_pred=np.array([[float_int(i[0])] for i in model.predict(i_test)])"
   ]
  },
  {
   "cell_type": "code",
   "execution_count": 135,
   "metadata": {},
   "outputs": [
    {
     "name": "stdout",
     "output_type": "stream",
     "text": [
      "125/125 [==============================] - ETA: 3s - loss: 0.1995 - accuracy: 0.93 - ETA: 1s - loss: 0.3911 - accuracy: 0.82 - ETA: 1s - loss: 0.4218 - accuracy: 0.80 - ETA: 1s - loss: 0.4030 - accuracy: 0.83 - ETA: 1s - loss: 0.3983 - accuracy: 0.83 - ETA: 1s - loss: 0.3859 - accuracy: 0.83 - ETA: 1s - loss: 0.3814 - accuracy: 0.84 - ETA: 1s - loss: 0.3894 - accuracy: 0.84 - ETA: 1s - loss: 0.3804 - accuracy: 0.84 - ETA: 1s - loss: 0.3817 - accuracy: 0.84 - ETA: 1s - loss: 0.3856 - accuracy: 0.84 - ETA: 1s - loss: 0.3947 - accuracy: 0.84 - ETA: 1s - loss: 0.3972 - accuracy: 0.83 - ETA: 1s - loss: 0.3942 - accuracy: 0.83 - ETA: 1s - loss: 0.4022 - accuracy: 0.83 - ETA: 1s - loss: 0.3945 - accuracy: 0.83 - ETA: 1s - loss: 0.3842 - accuracy: 0.84 - ETA: 1s - loss: 0.3837 - accuracy: 0.84 - ETA: 1s - loss: 0.3912 - accuracy: 0.83 - ETA: 1s - loss: 0.3883 - accuracy: 0.84 - ETA: 0s - loss: 0.3930 - accuracy: 0.83 - ETA: 0s - loss: 0.3879 - accuracy: 0.83 - ETA: 0s - loss: 0.3850 - accuracy: 0.84 - ETA: 0s - loss: 0.3901 - accuracy: 0.83 - ETA: 0s - loss: 0.3948 - accuracy: 0.83 - ETA: 0s - loss: 0.3958 - accuracy: 0.83 - ETA: 0s - loss: 0.3975 - accuracy: 0.82 - ETA: 0s - loss: 0.3945 - accuracy: 0.83 - ETA: 0s - loss: 0.3969 - accuracy: 0.82 - ETA: 0s - loss: 0.3944 - accuracy: 0.82 - ETA: 0s - loss: 0.3917 - accuracy: 0.83 - ETA: 0s - loss: 0.3905 - accuracy: 0.82 - ETA: 0s - loss: 0.3903 - accuracy: 0.82 - ETA: 0s - loss: 0.3926 - accuracy: 0.82 - ETA: 0s - loss: 0.3887 - accuracy: 0.83 - ETA: 0s - loss: 0.3900 - accuracy: 0.82 - ETA: 0s - loss: 0.3891 - accuracy: 0.82 - 2s 17ms/step - loss: 0.3891 - accuracy: 0.8290\n"
     ]
    }
   ],
   "source": [
    "from sklearn.metrics import classification_report,confusion_matrix,f1_score\n",
    "y_pred=np.array([[float_int(i[0])] for i in model.predict(i_test)])\n",
    "test_loss,test_accuracy=model.evaluate(i_test,y_test)"
   ]
  },
  {
   "cell_type": "code",
   "execution_count": 136,
   "metadata": {},
   "outputs": [
    {
     "name": "stdout",
     "output_type": "stream",
     "text": [
      "Test Loss : 0.389\n",
      "Test Accuracy : 0.829\n",
      "F1-Score : 0.780\n",
      "              precision    recall  f1-score   support\n",
      "\n",
      "           0       0.82      0.90      0.86      2334\n",
      "           1       0.84      0.73      0.78      1666\n",
      "\n",
      "    accuracy                           0.83      4000\n",
      "   macro avg       0.83      0.81      0.82      4000\n",
      "weighted avg       0.83      0.83      0.83      4000\n",
      "\n"
     ]
    }
   ],
   "source": [
    "print('Test Loss : %0.3f'%test_loss)\n",
    "print('Test Accuracy : %0.3f'%test_accuracy)\n",
    "print('F1-Score : %0.3f'%f1_score(y_test,y_pred))\n",
    "print(classification_report(y_test,y_pred))"
   ]
  },
  {
   "cell_type": "code",
   "execution_count": 137,
   "metadata": {},
   "outputs": [
    {
     "name": "stdout",
     "output_type": "stream",
     "text": [
      "313/313 [==============================] - ETA: 10s - loss: 0.3920 - accuracy: 0.812 - ETA: 5s - loss: 0.2868 - accuracy: 0.859 - ETA: 4s - loss: 0.2987 - accuracy: 0.86 - ETA: 4s - loss: 0.3021 - accuracy: 0.85 - ETA: 4s - loss: 0.3135 - accuracy: 0.85 - ETA: 4s - loss: 0.3156 - accuracy: 0.85 - ETA: 4s - loss: 0.3288 - accuracy: 0.83 - ETA: 5s - loss: 0.3149 - accuracy: 0.84 - ETA: 4s - loss: 0.3076 - accuracy: 0.85 - ETA: 4s - loss: 0.3114 - accuracy: 0.85 - ETA: 4s - loss: 0.3213 - accuracy: 0.84 - ETA: 4s - loss: 0.3138 - accuracy: 0.85 - ETA: 4s - loss: 0.3198 - accuracy: 0.84 - ETA: 4s - loss: 0.3155 - accuracy: 0.85 - ETA: 4s - loss: 0.3146 - accuracy: 0.85 - ETA: 4s - loss: 0.3147 - accuracy: 0.85 - ETA: 4s - loss: 0.3113 - accuracy: 0.85 - ETA: 4s - loss: 0.3130 - accuracy: 0.85 - ETA: 4s - loss: 0.3125 - accuracy: 0.85 - ETA: 4s - loss: 0.3115 - accuracy: 0.85 - ETA: 4s - loss: 0.3097 - accuracy: 0.86 - ETA: 4s - loss: 0.3091 - accuracy: 0.85 - ETA: 4s - loss: 0.3121 - accuracy: 0.85 - ETA: 3s - loss: 0.3158 - accuracy: 0.85 - ETA: 3s - loss: 0.3169 - accuracy: 0.85 - ETA: 3s - loss: 0.3198 - accuracy: 0.85 - ETA: 3s - loss: 0.3235 - accuracy: 0.85 - ETA: 3s - loss: 0.3224 - accuracy: 0.85 - ETA: 3s - loss: 0.3218 - accuracy: 0.85 - ETA: 3s - loss: 0.3209 - accuracy: 0.85 - ETA: 3s - loss: 0.3225 - accuracy: 0.85 - ETA: 3s - loss: 0.3266 - accuracy: 0.85 - ETA: 3s - loss: 0.3249 - accuracy: 0.85 - ETA: 3s - loss: 0.3234 - accuracy: 0.85 - ETA: 3s - loss: 0.3221 - accuracy: 0.85 - ETA: 3s - loss: 0.3202 - accuracy: 0.85 - ETA: 2s - loss: 0.3203 - accuracy: 0.85 - ETA: 2s - loss: 0.3201 - accuracy: 0.85 - ETA: 2s - loss: 0.3195 - accuracy: 0.85 - ETA: 2s - loss: 0.3193 - accuracy: 0.85 - ETA: 2s - loss: 0.3220 - accuracy: 0.85 - ETA: 2s - loss: 0.3202 - accuracy: 0.85 - ETA: 2s - loss: 0.3220 - accuracy: 0.85 - ETA: 2s - loss: 0.3236 - accuracy: 0.85 - ETA: 2s - loss: 0.3240 - accuracy: 0.85 - ETA: 2s - loss: 0.3230 - accuracy: 0.85 - ETA: 2s - loss: 0.3238 - accuracy: 0.85 - ETA: 2s - loss: 0.3259 - accuracy: 0.85 - ETA: 2s - loss: 0.3264 - accuracy: 0.85 - ETA: 2s - loss: 0.3258 - accuracy: 0.85 - ETA: 2s - loss: 0.3268 - accuracy: 0.85 - ETA: 1s - loss: 0.3270 - accuracy: 0.85 - ETA: 1s - loss: 0.3272 - accuracy: 0.85 - ETA: 1s - loss: 0.3278 - accuracy: 0.85 - ETA: 1s - loss: 0.3279 - accuracy: 0.85 - ETA: 1s - loss: 0.3288 - accuracy: 0.85 - ETA: 1s - loss: 0.3299 - accuracy: 0.85 - ETA: 1s - loss: 0.3279 - accuracy: 0.85 - ETA: 1s - loss: 0.3273 - accuracy: 0.85 - ETA: 1s - loss: 0.3264 - accuracy: 0.85 - ETA: 1s - loss: 0.3259 - accuracy: 0.85 - ETA: 1s - loss: 0.3261 - accuracy: 0.85 - ETA: 1s - loss: 0.3257 - accuracy: 0.85 - ETA: 1s - loss: 0.3253 - accuracy: 0.85 - ETA: 1s - loss: 0.3252 - accuracy: 0.85 - ETA: 1s - loss: 0.3246 - accuracy: 0.85 - ETA: 1s - loss: 0.3248 - accuracy: 0.85 - ETA: 1s - loss: 0.3257 - accuracy: 0.85 - ETA: 1s - loss: 0.3269 - accuracy: 0.85 - ETA: 1s - loss: 0.3262 - accuracy: 0.85 - ETA: 0s - loss: 0.3257 - accuracy: 0.85 - ETA: 0s - loss: 0.3249 - accuracy: 0.85 - ETA: 0s - loss: 0.3237 - accuracy: 0.85 - ETA: 0s - loss: 0.3224 - accuracy: 0.85 - ETA: 0s - loss: 0.3215 - accuracy: 0.85 - ETA: 0s - loss: 0.3224 - accuracy: 0.85 - ETA: 0s - loss: 0.3234 - accuracy: 0.85 - ETA: 0s - loss: 0.3238 - accuracy: 0.85 - ETA: 0s - loss: 0.3231 - accuracy: 0.85 - ETA: 0s - loss: 0.3243 - accuracy: 0.85 - ETA: 0s - loss: 0.3239 - accuracy: 0.85 - ETA: 0s - loss: 0.3229 - accuracy: 0.85 - ETA: 0s - loss: 0.3234 - accuracy: 0.85 - ETA: 0s - loss: 0.3233 - accuracy: 0.85 - ETA: 0s - loss: 0.3223 - accuracy: 0.85 - ETA: 0s - loss: 0.3215 - accuracy: 0.85 - ETA: 0s - loss: 0.3207 - accuracy: 0.85 - 5s 16ms/step - loss: 0.3207 - accuracy: 0.8573\n"
     ]
    }
   ],
   "source": [
    "from sklearn.metrics import classification_report,confusion_matrix,f1_score\n",
    "y_pred=np.array([[float_int(i[0])] for i in model.predict(i_train)])\n",
    "test_loss,test_accuracy=model.evaluate(i_train,y_train)"
   ]
  },
  {
   "cell_type": "code",
   "execution_count": 138,
   "metadata": {},
   "outputs": [
    {
     "name": "stdout",
     "output_type": "stream",
     "text": [
      "Train Loss : 0.321\n",
      "Train Accuracy : 0.857\n",
      "F1-Score : 0.816\n",
      "              precision    recall  f1-score   support\n",
      "\n",
      "           0       0.84      0.93      0.88      5789\n",
      "           1       0.89      0.75      0.82      4211\n",
      "\n",
      "    accuracy                           0.86     10000\n",
      "   macro avg       0.86      0.84      0.85     10000\n",
      "weighted avg       0.86      0.86      0.86     10000\n",
      "\n"
     ]
    }
   ],
   "source": [
    "print('Train Loss : %0.3f'%test_loss)\n",
    "print('Train Accuracy : %0.3f'%test_accuracy)\n",
    "print('F1-Score : %0.3f'%f1_score(y_train,y_pred))\n",
    "print(classification_report(y_train,y_pred))"
   ]
  },
  {
   "cell_type": "code",
   "execution_count": 139,
   "metadata": {},
   "outputs": [
    {
     "name": "stdout",
     "output_type": "stream",
     "text": [
      "32/32 [==============================] - ETA: 1s - loss: 0.3125 - accuracy: 0.84 - ETA: 0s - loss: 0.3333 - accuracy: 0.85 - ETA: 0s - loss: 0.4121 - accuracy: 0.81 - ETA: 0s - loss: 0.3492 - accuracy: 0.84 - ETA: 0s - loss: 0.3529 - accuracy: 0.83 - ETA: 0s - loss: 0.3688 - accuracy: 0.82 - ETA: 0s - loss: 0.3768 - accuracy: 0.82 - ETA: 0s - loss: 0.3729 - accuracy: 0.82 - ETA: 0s - loss: 0.3550 - accuracy: 0.83 - ETA: 0s - loss: 0.3603 - accuracy: 0.83 - 1s 18ms/step - loss: 0.3633 - accuracy: 0.8320\n"
     ]
    }
   ],
   "source": [
    "from sklearn.metrics import classification_report,confusion_matrix,f1_score\n",
    "y_pred=np.array([[float_int(i[0])] for i in model.predict(i_val)])\n",
    "test_loss,test_accuracy=model.evaluate(i_val,y_val)"
   ]
  },
  {
   "cell_type": "code",
   "execution_count": 140,
   "metadata": {},
   "outputs": [
    {
     "name": "stdout",
     "output_type": "stream",
     "text": [
      "validation Loss : 0.363\n",
      "validation Accuracy : 0.832\n",
      "F1-Score : 0.781\n",
      "              precision    recall  f1-score   support\n",
      "\n",
      "           0       0.83      0.90      0.86       591\n",
      "           1       0.84      0.73      0.78       409\n",
      "\n",
      "    accuracy                           0.83      1000\n",
      "   macro avg       0.83      0.82      0.82      1000\n",
      "weighted avg       0.83      0.83      0.83      1000\n",
      "\n"
     ]
    }
   ],
   "source": [
    "print('validation Loss : %0.3f'%test_loss)\n",
    "print('validation Accuracy : %0.3f'%test_accuracy)\n",
    "print('F1-Score : %0.3f'%f1_score(y_val,y_pred))\n",
    "print(classification_report(y_val,y_pred))"
   ]
  },
  {
   "cell_type": "markdown",
   "metadata": {},
   "source": [
    "# Self Attentive Network"
   ]
  },
  {
   "cell_type": "code",
   "execution_count": 144,
   "metadata": {},
   "outputs": [],
   "source": [
    "class attention(tf.keras.layers.Layer): \n",
    "    def __init__(self):\n",
    "        super(attention, self).__init__()\n",
    "        \n",
    "    def build(self, input_shape):\n",
    "        self.num_dim_perword = input_shape[-1] ##Last value of inp:256\n",
    "        self.W1 = self.add_weight(shape=(self.num_dim_perword,self.num_dim_perword),initializer=tf.keras.initializers.GlorotNormal(),trainable=True)\n",
    "        self.W2 = self.add_weight(shape=(self.num_dim_perword,1),initializer=tf.keras.initializers.GlorotNormal(),trainable=True)\n",
    "        super(attention, self).build(input_shape)\n",
    "        \n",
    "    def call(self, x):\n",
    "        e = K.dot(K.tanh(K.dot(x,self.W1)),self.W2)\n",
    "        a = K.softmax(e,axis=-1)\n",
    "        output = x*a\n",
    "        return K.sum(output, axis=1)"
   ]
  },
  {
   "cell_type": "code",
   "execution_count": 145,
   "metadata": {},
   "outputs": [
    {
     "name": "stdout",
     "output_type": "stream",
     "text": [
      "Model: \"sequential_2\"\n",
      "_________________________________________________________________\n",
      "Layer (type)                 Output Shape              Param #   \n",
      "=================================================================\n",
      "embedding_37 (Embedding)     (None, 20, 100)           1451100   \n",
      "_________________________________________________________________\n",
      "dropout_37 (Dropout)         (None, 20, 100)           0         \n",
      "_________________________________________________________________\n",
      "bidirectional_37 (Bidirectio (None, 20, 128)           84480     \n",
      "_________________________________________________________________\n",
      "attention_35 (attention)     (None, 128)               16512     \n",
      "_________________________________________________________________\n",
      "dense_21 (Dense)             (None, 1)                 129       \n",
      "=================================================================\n",
      "Total params: 1,552,221\n",
      "Trainable params: 101,121\n",
      "Non-trainable params: 1,451,100\n",
      "_________________________________________________________________\n"
     ]
    }
   ],
   "source": [
    "state_size = 64\n",
    "dropout= 0.3\n",
    "optimizer= tf.keras.optimizers.Adam(learning_rate=0.001)\n",
    "mods1=tf.keras.Sequential([\n",
    "    tf.keras.layers.Embedding(len(tokenizer.tokenizer.word_index)+1,\n",
    "                    100,\n",
    "                    embeddings_initializer=Constant(embedding_matrix), \n",
    "                    input_length=20,trainable=False),\n",
    "    tf.keras.layers.Dropout(dropout),\n",
    "    tf.keras.layers.Bidirectional(tf.keras.layers.LSTM(state_size, dropout=dropout, recurrent_dropout=0.3,return_sequences=True)),\n",
    "    attention(),\n",
    "    tf.keras.layers.Dense(1,activation='sigmoid')\n",
    "])\n",
    "mods1.compile(loss=tf.keras.losses.BinaryCrossentropy(from_logits=True),\n",
    "              optimizer=optimizer,\n",
    "              metrics=['accuracy'])\n",
    "mods1.summary()"
   ]
  },
  {
   "cell_type": "code",
   "execution_count": 104,
   "metadata": {},
   "outputs": [
    {
     "name": "stdout",
     "output_type": "stream",
     "text": [
      "Epoch 1/11\n",
      "157/157 - 18s - loss: 0.5689 - accuracy: 0.7107 - val_loss: 0.5027 - val_accuracy: 0.7530\n",
      "Epoch 2/11\n",
      "157/157 - 10s - loss: 0.5224 - accuracy: 0.7475 - val_loss: 0.5001 - val_accuracy: 0.7680\n",
      "Epoch 3/11\n",
      "157/157 - 11s - loss: 0.5063 - accuracy: 0.7597 - val_loss: 0.5278 - val_accuracy: 0.7730\n",
      "Epoch 4/11\n",
      "157/157 - 10s - loss: 0.4914 - accuracy: 0.7687 - val_loss: 0.4920 - val_accuracy: 0.7800\n",
      "Epoch 5/11\n",
      "157/157 - 11s - loss: 0.4774 - accuracy: 0.7759 - val_loss: 0.4717 - val_accuracy: 0.7870\n",
      "Epoch 6/11\n",
      "157/157 - 10s - loss: 0.4648 - accuracy: 0.7819 - val_loss: 0.4698 - val_accuracy: 0.7970\n",
      "Epoch 7/11\n",
      "157/157 - 11s - loss: 0.4650 - accuracy: 0.7827 - val_loss: 0.4698 - val_accuracy: 0.7970\n",
      "Epoch 8/11\n",
      "157/157 - 12s - loss: 0.4554 - accuracy: 0.7891 - val_loss: 0.4489 - val_accuracy: 0.7920\n",
      "Epoch 9/11\n",
      "157/157 - 12s - loss: 0.4436 - accuracy: 0.7992 - val_loss: 0.4586 - val_accuracy: 0.7970\n",
      "Epoch 10/11\n",
      "157/157 - 13s - loss: 0.4397 - accuracy: 0.7995 - val_loss: 0.4553 - val_accuracy: 0.7890\n",
      "Epoch 11/11\n",
      "157/157 - 13s - loss: 0.4322 - accuracy: 0.7995 - val_loss: 0.4597 - val_accuracy: 0.8030\n"
     ]
    }
   ],
   "source": [
    "callback = tf.keras.callbacks.EarlyStopping(monitor='val_loss', patience=3,mode='auto')\n",
    "# This callback will stop the training when there is no improvement in\n",
    "# the validation loss for three consecutive epochs.\n",
    "historie = mods1.fit(tokenized_train,y_train,validation_data=(tokenized_val,y_val),epochs=11, batch_size=64, callbacks=[callback],verbose=2)"
   ]
  },
  {
   "cell_type": "code",
   "execution_count": 107,
   "metadata": {},
   "outputs": [
    {
     "name": "stdout",
     "output_type": "stream",
     "text": [
      "INFO:tensorflow:Assets written to: SABiLSTMFixed\\assets\n"
     ]
    }
   ],
   "source": [
    "with open('/SABiLSTMFixedHistoryDict', 'wb') as file_pi:\n",
    "    pickle.dump(historie.history, file_pi)\n",
    "mods1.save('SABiLSTMFixed')"
   ]
  },
  {
   "cell_type": "code",
   "execution_count": 108,
   "metadata": {},
   "outputs": [
    {
     "data": {
      "image/png": "[encoded data removed]",
      "text/plain": [
       "<Figure size 432x288 with 1 Axes>"
      ]
     },
     "metadata": {
      "needs_background": "light"
     },
     "output_type": "display_data"
    }
   ],
   "source": [
    "plt.plot(historie.history['loss'],label='Training loss')\n",
    "plt.plot(historie.history['val_loss'],label='Validation loss')\n",
    "plt.legend()\n",
    "plt.show()"
   ]
  },
  {
   "cell_type": "code",
   "execution_count": 109,
   "metadata": {},
   "outputs": [
    {
     "name": "stdout",
     "output_type": "stream",
     "text": [
      "RNN (SA-BiLSTM)\n",
      "Training\n",
      "Accuracy : 0.774 (+-0.026) Loss : 0.479 (+-0.039)\n",
      "Validation\n",
      "Accuracy : 0.785 (+-0.014) Loss : 0.478 (+-0.023)\n"
     ]
    }
   ],
   "source": [
    "a_mean,a_std=np.mean(historie.history['accuracy']),np.std(historie.history['accuracy'])\n",
    "l_mean,l_std=np.mean(historie.history['loss']),np.std(historie.history['loss'])\n",
    "av_mean,av_std=np.mean(historie.history['val_accuracy']),np.std(historie.history['val_accuracy'])\n",
    "lv_mean,lv_std=np.mean(historie.history['val_loss']),np.std(historie.history['val_loss'])\n",
    "print('RNN (SA-BiLSTM)')\n",
    "print('Training')\n",
    "print('Accuracy : %0.3f (+-%0.3f) Loss : %0.3f (+-%0.3f)'%(a_mean,a_std,l_mean,l_std))\n",
    "print('Validation')\n",
    "print('Accuracy : %0.3f (+-%0.3f) Loss : %0.3f (+-%0.3f)'%(av_mean,av_std,lv_mean,lv_std))"
   ]
  },
  {
   "cell_type": "code",
   "execution_count": 110,
   "metadata": {},
   "outputs": [
    {
     "data": {
      "image/png": "[encoded data removed]",
      "text/plain": [
       "<Figure size 432x288 with 1 Axes>"
      ]
     },
     "metadata": {
      "needs_background": "light"
     },
     "output_type": "display_data"
    }
   ],
   "source": [
    "plt.plot(historie.history['accuracy'],label='Training Acc')\n",
    "plt.plot(historie.history['val_accuracy'],label='Validation Acc')\n",
    "plt.ylim(0.72,0.87)\n",
    "plt.ylabel('Accuracy')\n",
    "plt.xlabel('Epoch')\n",
    "plt.legend()\n",
    "plt.show()"
   ]
  },
  {
   "cell_type": "code",
   "execution_count": 111,
   "metadata": {},
   "outputs": [],
   "source": [
    "def float_int(x):\n",
    "    if x-int(x)>=0.5:\n",
    "        return 1\n",
    "    else :\n",
    "        return 0\n",
    "y_pred=np.array([[float_int(i[0])] for i in mods1.predict(tokenized_test)])"
   ]
  },
  {
   "cell_type": "code",
   "execution_count": 112,
   "metadata": {},
   "outputs": [
    {
     "name": "stdout",
     "output_type": "stream",
     "text": [
      "125/125 [==============================] - ETA: 6:55 - loss: 0.3784 - accuracy: 0.84 - ETA: 1s - loss: 0.5044 - accuracy: 0.7812 - ETA: 1s - loss: 0.5169 - accuracy: 0.79 - ETA: 1s - loss: 0.4689 - accuracy: 0.79 - ETA: 1s - loss: 0.4848 - accuracy: 0.78 - ETA: 1s - loss: 0.4899 - accuracy: 0.78 - ETA: 1s - loss: 0.4832 - accuracy: 0.79 - ETA: 1s - loss: 0.4762 - accuracy: 0.79 - ETA: 1s - loss: 0.4807 - accuracy: 0.79 - ETA: 1s - loss: 0.4720 - accuracy: 0.79 - ETA: 1s - loss: 0.4616 - accuracy: 0.79 - ETA: 1s - loss: 0.4667 - accuracy: 0.79 - ETA: 1s - loss: 0.4670 - accuracy: 0.79 - ETA: 1s - loss: 0.4540 - accuracy: 0.79 - ETA: 0s - loss: 0.4555 - accuracy: 0.80 - ETA: 0s - loss: 0.4706 - accuracy: 0.79 - ETA: 0s - loss: 0.4786 - accuracy: 0.78 - ETA: 0s - loss: 0.4805 - accuracy: 0.78 - ETA: 0s - loss: 0.4754 - accuracy: 0.79 - ETA: 0s - loss: 0.4811 - accuracy: 0.78 - ETA: 0s - loss: 0.4873 - accuracy: 0.78 - ETA: 0s - loss: 0.4991 - accuracy: 0.78 - ETA: 0s - loss: 0.5011 - accuracy: 0.78 - ETA: 0s - loss: 0.5001 - accuracy: 0.78 - ETA: 0s - loss: 0.4968 - accuracy: 0.78 - ETA: 0s - loss: 0.4936 - accuracy: 0.78 - ETA: 0s - loss: 0.4914 - accuracy: 0.78 - ETA: 0s - loss: 0.4896 - accuracy: 0.78 - ETA: 0s - loss: 0.4930 - accuracy: 0.78 - ETA: 0s - loss: 0.4895 - accuracy: 0.78 - ETA: 0s - loss: 0.4896 - accuracy: 0.78 - 5s 13ms/step - loss: 0.4896 - accuracy: 0.7850\n"
     ]
    }
   ],
   "source": [
    "from sklearn.metrics import classification_report,confusion_matrix,f1_score\n",
    "y_pred=np.array([[float_int(i[0])] for i in mods1.predict(tokenized_test)])\n",
    "test_loss,test_accuracy=mods1.evaluate(tokenized_test,y_test)"
   ]
  },
  {
   "cell_type": "code",
   "execution_count": 113,
   "metadata": {},
   "outputs": [
    {
     "name": "stdout",
     "output_type": "stream",
     "text": [
      "Test Loss : 0.490\n",
      "Test Accuracy : 0.785\n",
      "F1-Score : 0.730\n",
      "              precision    recall  f1-score   support\n",
      "\n",
      "           0       0.80      0.85      0.82      2334\n",
      "           1       0.76      0.70      0.73      1666\n",
      "\n",
      "    accuracy                           0.79      4000\n",
      "   macro avg       0.78      0.77      0.78      4000\n",
      "weighted avg       0.78      0.79      0.78      4000\n",
      "\n"
     ]
    }
   ],
   "source": [
    "print('Test Loss : %0.3f'%test_loss)\n",
    "print('Test Accuracy : %0.3f'%test_accuracy)\n",
    "print('F1-Score : %0.3f'%f1_score(y_test,y_pred))\n",
    "print(classification_report(y_test,y_pred))"
   ]
  },
  {
   "cell_type": "code",
   "execution_count": 114,
   "metadata": {},
   "outputs": [
    {
     "name": "stdout",
     "output_type": "stream",
     "text": [
      "313/313 [==============================] - ETA: 8s - loss: 0.3832 - accuracy: 0.78 - ETA: 3s - loss: 0.4005 - accuracy: 0.82 - ETA: 3s - loss: 0.3736 - accuracy: 0.83 - ETA: 3s - loss: 0.3907 - accuracy: 0.81 - ETA: 3s - loss: 0.3920 - accuracy: 0.81 - ETA: 3s - loss: 0.3797 - accuracy: 0.82 - ETA: 3s - loss: 0.3739 - accuracy: 0.82 - ETA: 3s - loss: 0.3808 - accuracy: 0.82 - ETA: 3s - loss: 0.3826 - accuracy: 0.82 - ETA: 3s - loss: 0.3739 - accuracy: 0.82 - ETA: 3s - loss: 0.3699 - accuracy: 0.83 - ETA: 3s - loss: 0.3658 - accuracy: 0.83 - ETA: 3s - loss: 0.3653 - accuracy: 0.83 - ETA: 3s - loss: 0.3624 - accuracy: 0.83 - ETA: 2s - loss: 0.3603 - accuracy: 0.83 - ETA: 2s - loss: 0.3553 - accuracy: 0.84 - ETA: 2s - loss: 0.3542 - accuracy: 0.84 - ETA: 2s - loss: 0.3547 - accuracy: 0.84 - ETA: 2s - loss: 0.3523 - accuracy: 0.84 - ETA: 2s - loss: 0.3571 - accuracy: 0.84 - ETA: 2s - loss: 0.3575 - accuracy: 0.84 - ETA: 2s - loss: 0.3578 - accuracy: 0.84 - ETA: 2s - loss: 0.3610 - accuracy: 0.84 - ETA: 2s - loss: 0.3630 - accuracy: 0.84 - ETA: 2s - loss: 0.3644 - accuracy: 0.84 - ETA: 2s - loss: 0.3637 - accuracy: 0.84 - ETA: 2s - loss: 0.3634 - accuracy: 0.84 - ETA: 2s - loss: 0.3624 - accuracy: 0.84 - ETA: 2s - loss: 0.3600 - accuracy: 0.84 - ETA: 2s - loss: 0.3606 - accuracy: 0.84 - ETA: 2s - loss: 0.3590 - accuracy: 0.84 - ETA: 2s - loss: 0.3598 - accuracy: 0.84 - ETA: 2s - loss: 0.3620 - accuracy: 0.84 - ETA: 2s - loss: 0.3604 - accuracy: 0.84 - ETA: 1s - loss: 0.3621 - accuracy: 0.84 - ETA: 1s - loss: 0.3632 - accuracy: 0.84 - ETA: 1s - loss: 0.3646 - accuracy: 0.84 - ETA: 1s - loss: 0.3624 - accuracy: 0.84 - ETA: 1s - loss: 0.3638 - accuracy: 0.84 - ETA: 1s - loss: 0.3657 - accuracy: 0.84 - ETA: 1s - loss: 0.3654 - accuracy: 0.84 - ETA: 1s - loss: 0.3657 - accuracy: 0.84 - ETA: 1s - loss: 0.3653 - accuracy: 0.84 - ETA: 1s - loss: 0.3651 - accuracy: 0.84 - ETA: 1s - loss: 0.3650 - accuracy: 0.84 - ETA: 1s - loss: 0.3654 - accuracy: 0.84 - ETA: 1s - loss: 0.3644 - accuracy: 0.84 - ETA: 1s - loss: 0.3613 - accuracy: 0.84 - ETA: 1s - loss: 0.3607 - accuracy: 0.84 - ETA: 1s - loss: 0.3599 - accuracy: 0.84 - ETA: 1s - loss: 0.3591 - accuracy: 0.84 - ETA: 0s - loss: 0.3583 - accuracy: 0.84 - ETA: 0s - loss: 0.3589 - accuracy: 0.84 - ETA: 0s - loss: 0.3597 - accuracy: 0.84 - ETA: 0s - loss: 0.3598 - accuracy: 0.84 - ETA: 0s - loss: 0.3581 - accuracy: 0.84 - ETA: 0s - loss: 0.3576 - accuracy: 0.84 - ETA: 0s - loss: 0.3561 - accuracy: 0.84 - ETA: 0s - loss: 0.3550 - accuracy: 0.84 - ETA: 0s - loss: 0.3544 - accuracy: 0.84 - ETA: 0s - loss: 0.3539 - accuracy: 0.84 - ETA: 0s - loss: 0.3544 - accuracy: 0.84 - ETA: 0s - loss: 0.3555 - accuracy: 0.84 - ETA: 0s - loss: 0.3554 - accuracy: 0.84 - ETA: 0s - loss: 0.3550 - accuracy: 0.84 - ETA: 0s - loss: 0.3549 - accuracy: 0.84 - ETA: 0s - loss: 0.3536 - accuracy: 0.84 - ETA: 0s - loss: 0.3534 - accuracy: 0.84 - 4s 12ms/step - loss: 0.3531 - accuracy: 0.8480\n"
     ]
    }
   ],
   "source": [
    "from sklearn.metrics import classification_report,confusion_matrix,f1_score\n",
    "y_pred=np.array([[float_int(i[0])] for i in mods1.predict(tokenized_train)])\n",
    "test_loss,test_accuracy=mods1.evaluate(tokenized_train,y_train)"
   ]
  },
  {
   "cell_type": "code",
   "execution_count": 115,
   "metadata": {},
   "outputs": [
    {
     "name": "stdout",
     "output_type": "stream",
     "text": [
      "Train Loss : 0.353\n",
      "Train Accuracy : 0.848\n",
      "F1-Score : 0.815\n",
      "              precision    recall  f1-score   support\n",
      "\n",
      "           0       0.86      0.89      0.87      5789\n",
      "           1       0.84      0.80      0.82      4211\n",
      "\n",
      "    accuracy                           0.85     10000\n",
      "   macro avg       0.85      0.84      0.84     10000\n",
      "weighted avg       0.85      0.85      0.85     10000\n",
      "\n"
     ]
    }
   ],
   "source": [
    "print('Train Loss : %0.3f'%test_loss)\n",
    "print('Train Accuracy : %0.3f'%test_accuracy)\n",
    "print('F1-Score : %0.3f'%f1_score(y_train,y_pred))\n",
    "print(classification_report(y_train,y_pred))"
   ]
  },
  {
   "cell_type": "code",
   "execution_count": 116,
   "metadata": {},
   "outputs": [
    {
     "name": "stdout",
     "output_type": "stream",
     "text": [
      "32/32 [==============================] - ETA: 1s - loss: 0.4234 - accuracy: 0.81 - ETA: 0s - loss: 0.5071 - accuracy: 0.77 - ETA: 0s - loss: 0.4344 - accuracy: 0.81 - ETA: 0s - loss: 0.4629 - accuracy: 0.79 - ETA: 0s - loss: 0.4919 - accuracy: 0.78 - ETA: 0s - loss: 0.4701 - accuracy: 0.79 - ETA: 0s - loss: 0.4628 - accuracy: 0.80 - 0s 12ms/step - loss: 0.4597 - accuracy: 0.8030\n"
     ]
    }
   ],
   "source": [
    "from sklearn.metrics import classification_report,confusion_matrix,f1_score\n",
    "y_pred=np.array([[float_int(i[0])] for i in mods1.predict(tokenized_val)])\n",
    "test_loss,test_accuracy=mods1.evaluate(tokenized_val,y_val)"
   ]
  },
  {
   "cell_type": "code",
   "execution_count": 117,
   "metadata": {},
   "outputs": [
    {
     "name": "stdout",
     "output_type": "stream",
     "text": [
      "validation Loss : 0.460\n",
      "validation Accuracy : 0.803\n",
      "F1-Score : 0.752\n",
      "              precision    recall  f1-score   support\n",
      "\n",
      "           0       0.82      0.85      0.84       591\n",
      "           1       0.77      0.73      0.75       409\n",
      "\n",
      "    accuracy                           0.80      1000\n",
      "   macro avg       0.80      0.79      0.79      1000\n",
      "weighted avg       0.80      0.80      0.80      1000\n",
      "\n"
     ]
    }
   ],
   "source": [
    "print('validation Loss : %0.3f'%test_loss)\n",
    "print('validation Accuracy : %0.3f'%test_accuracy)\n",
    "print('F1-Score : %0.3f'%f1_score(y_val,y_pred))\n",
    "print(classification_report(y_val,y_pred))"
   ]
  },
  {
   "cell_type": "markdown",
   "metadata": {},
   "source": [
    "# BiLSTM"
   ]
  },
  {
   "cell_type": "code",
   "execution_count": 45,
   "metadata": {},
   "outputs": [
    {
     "name": "stdout",
     "output_type": "stream",
     "text": [
      "Model: \"sequential_1\"\n",
      "_________________________________________________________________\n",
      "Layer (type)                 Output Shape              Param #   \n",
      "=================================================================\n",
      "embedding_10 (Embedding)     (None, 20, 100)           1451100   \n",
      "_________________________________________________________________\n",
      "dropout_10 (Dropout)         (None, 20, 100)           0         \n",
      "_________________________________________________________________\n",
      "bidirectional_10 (Bidirectio (None, 128)               84480     \n",
      "_________________________________________________________________\n",
      "dense_6 (Dense)              (None, 1)                 129       \n",
      "=================================================================\n",
      "Total params: 1,535,709\n",
      "Trainable params: 84,609\n",
      "Non-trainable params: 1,451,100\n",
      "_________________________________________________________________\n"
     ]
    }
   ],
   "source": [
    "state_size = 64\n",
    "dropout= 0.3\n",
    "optimizer= tf.keras.optimizers.Adam(learning_rate=0.001)\n",
    "mods=tf.keras.Sequential([\n",
    "    tf.keras.layers.Embedding(len(tokenizer.tokenizer.word_index)+1,\n",
    "                    100,\n",
    "                    embeddings_initializer=Constant(embedding_matrix), \n",
    "                    input_length=20,trainable=False),\n",
    "    tf.keras.layers.Dropout(dropout),\n",
    "    tf.keras.layers.Bidirectional(tf.keras.layers.LSTM(state_size, dropout=dropout, recurrent_dropout=0.3)),\n",
    "    tf.keras.layers.Dense(1,activation='sigmoid'),\n",
    "])\n",
    "mods.compile(loss=tf.keras.losses.BinaryCrossentropy(from_logits=True),\n",
    "              optimizer=optimizer,\n",
    "              metrics=['accuracy'])\n",
    "mods.summary()"
   ]
  },
  {
   "cell_type": "code",
   "execution_count": 28,
   "metadata": {
    "scrolled": true
   },
   "outputs": [
    {
     "name": "stdout",
     "output_type": "stream",
     "text": [
      "Epoch 1/20\n",
      "157/157 - 17s - loss: 0.5784 - accuracy: 0.6976 - val_loss: 0.5023 - val_accuracy: 0.7470\n",
      "Epoch 2/20\n",
      "157/157 - 10s - loss: 0.5240 - accuracy: 0.7437 - val_loss: 0.4884 - val_accuracy: 0.7710\n",
      "Epoch 3/20\n",
      "157/157 - 9s - loss: 0.5054 - accuracy: 0.7567 - val_loss: 0.5026 - val_accuracy: 0.7730\n",
      "Epoch 4/20\n",
      "157/157 - 8s - loss: 0.4971 - accuracy: 0.7644 - val_loss: 0.4838 - val_accuracy: 0.7760\n",
      "Epoch 5/20\n",
      "157/157 - 9s - loss: 0.4815 - accuracy: 0.7723 - val_loss: 0.4652 - val_accuracy: 0.7760\n",
      "Epoch 6/20\n",
      "157/157 - 9s - loss: 0.4705 - accuracy: 0.7788 - val_loss: 0.4869 - val_accuracy: 0.7830\n",
      "Epoch 7/20\n",
      "157/157 - 9s - loss: 0.4628 - accuracy: 0.7825 - val_loss: 0.4628 - val_accuracy: 0.7840\n",
      "Epoch 8/20\n",
      "157/157 - 8s - loss: 0.4556 - accuracy: 0.7899 - val_loss: 0.4661 - val_accuracy: 0.7930\n",
      "Epoch 9/20\n",
      "157/157 - 9s - loss: 0.4484 - accuracy: 0.7913 - val_loss: 0.4531 - val_accuracy: 0.7960\n",
      "Epoch 10/20\n",
      "157/157 - 11s - loss: 0.4397 - accuracy: 0.7949 - val_loss: 0.4548 - val_accuracy: 0.7860\n",
      "Epoch 11/20\n",
      "157/157 - 9s - loss: 0.4318 - accuracy: 0.7997 - val_loss: 0.4562 - val_accuracy: 0.7930\n",
      "Epoch 12/20\n",
      "157/157 - 9s - loss: 0.4244 - accuracy: 0.8079 - val_loss: 0.4745 - val_accuracy: 0.7970\n"
     ]
    }
   ],
   "source": [
    "callback = tf.keras.callbacks.EarlyStopping(monitor='val_loss', patience=3,mode='auto')\n",
    "# This callback will stop the training when there is no improvement in\n",
    "# the validation loss for three consecutive epochs.\n",
    "histories = mods.fit(tokenized_train,y_train,validation_data=(tokenized_val,y_val),\n",
    "                    epochs=9, batch_size=64, callbacks=[callback],\n",
    "                    verbose=2)"
   ]
  },
  {
   "cell_type": "code",
   "execution_count": 118,
   "metadata": {},
   "outputs": [
    {
     "name": "stdout",
     "output_type": "stream",
     "text": [
      "INFO:tensorflow:Assets written to: BiLSTMFixed\\assets\n"
     ]
    }
   ],
   "source": [
    "with open('/BiLSTMFixedHistoryDict', 'wb') as file_pi:\n",
    "    pickle.dump(histories.history, file_pi)\n",
    "mods.save('BiLSTMFixed')"
   ]
  },
  {
   "cell_type": "code",
   "execution_count": 119,
   "metadata": {},
   "outputs": [
    {
     "data": {
      "image/png": "[encoded data removed]",
      "text/plain": [
       "<Figure size 432x288 with 1 Axes>"
      ]
     },
     "metadata": {
      "needs_background": "light"
     },
     "output_type": "display_data"
    }
   ],
   "source": [
    "plt.plot(histories.history['loss'],label='Training loss')\n",
    "plt.plot(histories.history['val_loss'],label='Validation loss')\n",
    "plt.legend()\n",
    "plt.show()"
   ]
  },
  {
   "cell_type": "code",
   "execution_count": 120,
   "metadata": {},
   "outputs": [
    {
     "name": "stdout",
     "output_type": "stream",
     "text": [
      "RNN (BiLSTM)\n",
      "Training\n",
      "Accuracy : 0.773 (+-0.029) Loss : 0.477 (+-0.042)\n",
      "Validation\n",
      "Accuracy : 0.781 (+-0.013) Loss : 0.475 (+-0.017)\n"
     ]
    }
   ],
   "source": [
    "a_mean,a_std=np.mean(histories.history['accuracy']),np.std(histories.history['accuracy'])\n",
    "l_mean,l_std=np.mean(histories.history['loss']),np.std(histories.history['loss'])\n",
    "av_mean,av_std=np.mean(histories.history['val_accuracy']),np.std(histories.history['val_accuracy'])\n",
    "lv_mean,lv_std=np.mean(histories.history['val_loss']),np.std(histories.history['val_loss'])\n",
    "print('RNN (BiLSTM)')\n",
    "print('Training')\n",
    "print('Accuracy : %0.3f (+-%0.3f) Loss : %0.3f (+-%0.3f)'%(a_mean,a_std,l_mean,l_std))\n",
    "print('Validation')\n",
    "print('Accuracy : %0.3f (+-%0.3f) Loss : %0.3f (+-%0.3f)'%(av_mean,av_std,lv_mean,lv_std))"
   ]
  },
  {
   "cell_type": "code",
   "execution_count": 121,
   "metadata": {},
   "outputs": [
    {
     "data": {
      "image/png": "[encoded data removed]",
      "text/plain": [
       "<Figure size 432x288 with 1 Axes>"
      ]
     },
     "metadata": {
      "needs_background": "light"
     },
     "output_type": "display_data"
    }
   ],
   "source": [
    "plt.plot(histories.history['accuracy'],label='Training Acc')\n",
    "plt.plot(histories.history['val_accuracy'],label='Validation Acc')\n",
    "plt.ylim(0.72,0.87)\n",
    "plt.ylabel('Accuracy')\n",
    "plt.xlabel('Epoch')\n",
    "plt.legend()\n",
    "plt.show()"
   ]
  },
  {
   "cell_type": "code",
   "execution_count": 122,
   "metadata": {},
   "outputs": [],
   "source": [
    "def float_int(x):\n",
    "    if x-int(x)>=0.5:\n",
    "        return 1\n",
    "    else :\n",
    "        return 0\n",
    "y_pred=np.array([[float_int(i[0])] for i in mods.predict(tokenized_test)])"
   ]
  },
  {
   "cell_type": "code",
   "execution_count": 123,
   "metadata": {},
   "outputs": [
    {
     "name": "stdout",
     "output_type": "stream",
     "text": [
      "125/125 [==============================] - ETA: 3s - loss: 0.3908 - accuracy: 0.84 - ETA: 1s - loss: 0.5523 - accuracy: 0.76 - ETA: 1s - loss: 0.5363 - accuracy: 0.76 - ETA: 1s - loss: 0.4804 - accuracy: 0.78 - ETA: 1s - loss: 0.4896 - accuracy: 0.78 - ETA: 1s - loss: 0.4603 - accuracy: 0.80 - ETA: 1s - loss: 0.4674 - accuracy: 0.80 - ETA: 1s - loss: 0.4743 - accuracy: 0.79 - ETA: 0s - loss: 0.4749 - accuracy: 0.79 - ETA: 0s - loss: 0.4832 - accuracy: 0.78 - ETA: 0s - loss: 0.4889 - accuracy: 0.78 - ETA: 0s - loss: 0.4745 - accuracy: 0.79 - ETA: 0s - loss: 0.4750 - accuracy: 0.79 - ETA: 0s - loss: 0.4883 - accuracy: 0.78 - ETA: 0s - loss: 0.4895 - accuracy: 0.78 - ETA: 0s - loss: 0.4801 - accuracy: 0.79 - ETA: 0s - loss: 0.4911 - accuracy: 0.78 - ETA: 0s - loss: 0.4980 - accuracy: 0.78 - ETA: 0s - loss: 0.5108 - accuracy: 0.77 - ETA: 0s - loss: 0.5095 - accuracy: 0.77 - ETA: 0s - loss: 0.5067 - accuracy: 0.77 - ETA: 0s - loss: 0.5027 - accuracy: 0.78 - ETA: 0s - loss: 0.5020 - accuracy: 0.78 - ETA: 0s - loss: 0.5005 - accuracy: 0.78 - ETA: 0s - loss: 0.5025 - accuracy: 0.78 - ETA: 0s - loss: 0.5051 - accuracy: 0.78 - ETA: 0s - loss: 0.5038 - accuracy: 0.78 - 1s 12ms/step - loss: 0.5032 - accuracy: 0.7820\n"
     ]
    }
   ],
   "source": [
    "from sklearn.metrics import classification_report,confusion_matrix,f1_score\n",
    "y_pred=np.array([[float_int(i[0])] for i in mods.predict(tokenized_test)])\n",
    "test_loss,test_accuracy=mods.evaluate(tokenized_test,y_test)"
   ]
  },
  {
   "cell_type": "code",
   "execution_count": 124,
   "metadata": {},
   "outputs": [
    {
     "name": "stdout",
     "output_type": "stream",
     "text": [
      "Test Loss : 0.503\n",
      "Test Accuracy : 0.782\n",
      "F1-Score : 0.717\n",
      "              precision    recall  f1-score   support\n",
      "\n",
      "           0       0.78      0.87      0.82      2334\n",
      "           1       0.78      0.66      0.72      1666\n",
      "\n",
      "    accuracy                           0.78      4000\n",
      "   macro avg       0.78      0.77      0.77      4000\n",
      "weighted avg       0.78      0.78      0.78      4000\n",
      "\n"
     ]
    }
   ],
   "source": [
    "print('Test Loss : %0.3f'%test_loss)\n",
    "print('Test Accuracy : %0.3f'%test_accuracy)\n",
    "print('F1-Score : %0.3f'%f1_score(y_test,y_pred))\n",
    "print(classification_report(y_test,y_pred))"
   ]
  },
  {
   "cell_type": "code",
   "execution_count": 125,
   "metadata": {},
   "outputs": [
    {
     "name": "stdout",
     "output_type": "stream",
     "text": [
      "32/32 [==============================] - ETA: 1s - loss: 0.4444 - accuracy: 0.81 - ETA: 0s - loss: 0.5548 - accuracy: 0.75 - ETA: 0s - loss: 0.4821 - accuracy: 0.77 - ETA: 0s - loss: 0.5111 - accuracy: 0.77 - ETA: 0s - loss: 0.5231 - accuracy: 0.77 - ETA: 0s - loss: 0.4878 - accuracy: 0.79 - ETA: 0s - loss: 0.4774 - accuracy: 0.79 - 0s 11ms/step - loss: 0.4745 - accuracy: 0.7970\n"
     ]
    }
   ],
   "source": [
    "from sklearn.metrics import classification_report,confusion_matrix,f1_score\n",
    "y_pred=np.array([[float_int(i[0])] for i in mods.predict(tokenized_val)])\n",
    "test_loss,test_accuracy=mods.evaluate(tokenized_val,y_val)"
   ]
  },
  {
   "cell_type": "code",
   "execution_count": 126,
   "metadata": {},
   "outputs": [
    {
     "name": "stdout",
     "output_type": "stream",
     "text": [
      "Validation Loss : 0.474\n",
      "Validation Accuracy : 0.797\n",
      "F1-Score : 0.730\n",
      "              precision    recall  f1-score   support\n",
      "\n",
      "           0       0.80      0.88      0.84       591\n",
      "           1       0.80      0.67      0.73       409\n",
      "\n",
      "    accuracy                           0.80      1000\n",
      "   macro avg       0.80      0.78      0.78      1000\n",
      "weighted avg       0.80      0.80      0.79      1000\n",
      "\n"
     ]
    }
   ],
   "source": [
    "print('Validation Loss : %0.3f'%test_loss)\n",
    "print('Validation Accuracy : %0.3f'%test_accuracy)\n",
    "print('F1-Score : %0.3f'%f1_score(y_val,y_pred))\n",
    "print(classification_report(y_val,y_pred))"
   ]
  },
  {
   "cell_type": "code",
   "execution_count": 127,
   "metadata": {},
   "outputs": [
    {
     "name": "stdout",
     "output_type": "stream",
     "text": [
      "313/313 [==============================] - ETA: 8s - loss: 0.3313 - accuracy: 0.84 - ETA: 3s - loss: 0.4357 - accuracy: 0.80 - ETA: 3s - loss: 0.3588 - accuracy: 0.84 - ETA: 3s - loss: 0.3762 - accuracy: 0.83 - ETA: 3s - loss: 0.3866 - accuracy: 0.81 - ETA: 3s - loss: 0.3663 - accuracy: 0.82 - ETA: 3s - loss: 0.3557 - accuracy: 0.83 - ETA: 3s - loss: 0.3656 - accuracy: 0.83 - ETA: 3s - loss: 0.3611 - accuracy: 0.83 - ETA: 2s - loss: 0.3545 - accuracy: 0.84 - ETA: 2s - loss: 0.3517 - accuracy: 0.84 - ETA: 2s - loss: 0.3522 - accuracy: 0.84 - ETA: 2s - loss: 0.3505 - accuracy: 0.84 - ETA: 2s - loss: 0.3507 - accuracy: 0.84 - ETA: 2s - loss: 0.3428 - accuracy: 0.84 - ETA: 2s - loss: 0.3439 - accuracy: 0.84 - ETA: 2s - loss: 0.3444 - accuracy: 0.84 - ETA: 2s - loss: 0.3460 - accuracy: 0.84 - ETA: 2s - loss: 0.3462 - accuracy: 0.84 - ETA: 2s - loss: 0.3501 - accuracy: 0.84 - ETA: 2s - loss: 0.3506 - accuracy: 0.84 - ETA: 2s - loss: 0.3518 - accuracy: 0.84 - ETA: 2s - loss: 0.3556 - accuracy: 0.84 - ETA: 2s - loss: 0.3584 - accuracy: 0.84 - ETA: 2s - loss: 0.3579 - accuracy: 0.84 - ETA: 2s - loss: 0.3576 - accuracy: 0.84 - ETA: 2s - loss: 0.3548 - accuracy: 0.84 - ETA: 2s - loss: 0.3540 - accuracy: 0.84 - ETA: 1s - loss: 0.3530 - accuracy: 0.84 - ETA: 1s - loss: 0.3530 - accuracy: 0.84 - ETA: 1s - loss: 0.3570 - accuracy: 0.84 - ETA: 1s - loss: 0.3554 - accuracy: 0.84 - ETA: 1s - loss: 0.3574 - accuracy: 0.83 - ETA: 1s - loss: 0.3586 - accuracy: 0.83 - ETA: 1s - loss: 0.3557 - accuracy: 0.83 - ETA: 1s - loss: 0.3581 - accuracy: 0.83 - ETA: 1s - loss: 0.3609 - accuracy: 0.83 - ETA: 1s - loss: 0.3612 - accuracy: 0.83 - ETA: 1s - loss: 0.3602 - accuracy: 0.83 - ETA: 1s - loss: 0.3594 - accuracy: 0.83 - ETA: 1s - loss: 0.3581 - accuracy: 0.84 - ETA: 1s - loss: 0.3573 - accuracy: 0.84 - ETA: 1s - loss: 0.3566 - accuracy: 0.84 - ETA: 1s - loss: 0.3571 - accuracy: 0.84 - ETA: 1s - loss: 0.3539 - accuracy: 0.84 - ETA: 1s - loss: 0.3529 - accuracy: 0.84 - ETA: 1s - loss: 0.3534 - accuracy: 0.84 - ETA: 1s - loss: 0.3535 - accuracy: 0.84 - ETA: 0s - loss: 0.3531 - accuracy: 0.84 - ETA: 0s - loss: 0.3525 - accuracy: 0.84 - ETA: 0s - loss: 0.3533 - accuracy: 0.84 - ETA: 0s - loss: 0.3550 - accuracy: 0.84 - ETA: 0s - loss: 0.3545 - accuracy: 0.84 - ETA: 0s - loss: 0.3532 - accuracy: 0.84 - ETA: 0s - loss: 0.3519 - accuracy: 0.84 - ETA: 0s - loss: 0.3506 - accuracy: 0.84 - ETA: 0s - loss: 0.3488 - accuracy: 0.84 - ETA: 0s - loss: 0.3488 - accuracy: 0.84 - ETA: 0s - loss: 0.3495 - accuracy: 0.84 - ETA: 0s - loss: 0.3512 - accuracy: 0.84 - ETA: 0s - loss: 0.3521 - accuracy: 0.84 - ETA: 0s - loss: 0.3516 - accuracy: 0.84 - ETA: 0s - loss: 0.3512 - accuracy: 0.84 - ETA: 0s - loss: 0.3515 - accuracy: 0.84 - ETA: 0s - loss: 0.3507 - accuracy: 0.84 - 4s 11ms/step - loss: 0.3499 - accuracy: 0.8449\n"
     ]
    }
   ],
   "source": [
    "from sklearn.metrics import classification_report,confusion_matrix,f1_score\n",
    "y_pred=np.array([[float_int(i[0])] for i in mods.predict(tokenized_train)])\n",
    "test_loss,test_accuracy=mods.evaluate(tokenized_train,y_train)"
   ]
  },
  {
   "cell_type": "code",
   "execution_count": 128,
   "metadata": {},
   "outputs": [
    {
     "name": "stdout",
     "output_type": "stream",
     "text": [
      "Training Loss : 0.350\n",
      "Training Accuracy : 0.845\n",
      "F1-Score : 0.805\n",
      "              precision    recall  f1-score   support\n",
      "\n",
      "           0       0.84      0.91      0.87      5789\n",
      "           1       0.85      0.76      0.81      4211\n",
      "\n",
      "    accuracy                           0.84     10000\n",
      "   macro avg       0.85      0.83      0.84     10000\n",
      "weighted avg       0.85      0.84      0.84     10000\n",
      "\n"
     ]
    }
   ],
   "source": [
    "print('Training Loss : %0.3f'%test_loss)\n",
    "print('Training Accuracy : %0.3f'%test_accuracy)\n",
    "print('F1-Score : %0.3f'%f1_score(y_train,y_pred))\n",
    "print(classification_report(y_train,y_pred))"
   ]
  },
  {
   "cell_type": "code",
   "execution_count": null,
   "metadata": {},
   "outputs": [],
   "source": []
  }
 ],
 "metadata": {
  "kernelspec": {
   "display_name": "Python 3",
   "language": "python",
   "name": "python3"
  },
  "language_info": {
   "codemirror_mode": {
    "name": "ipython",
    "version": 3
   },
   "file_extension": ".py",
   "mimetype": "text/x-python",
   "name": "python",
   "nbconvert_exporter": "python",
   "pygments_lexer": "ipython3",
   "version": "3.6.7"
  }
 },
 "nbformat": 4,
 "nbformat_minor": 2
}
