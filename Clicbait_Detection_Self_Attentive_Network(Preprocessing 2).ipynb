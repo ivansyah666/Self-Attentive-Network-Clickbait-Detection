{
 "cells": [
  {
   "cell_type": "code",
   "execution_count": 1,
   "metadata": {},
   "outputs": [],
   "source": [
    "import warnings\n",
    "warnings.filterwarnings('ignore')\n",
    "import pandas as pd\n",
    "import numpy as np\n",
    "import matplotlib.pyplot as plt\n",
    "import seaborn as sns\n",
    "from tqdm import tqdm\n",
    "import re"
   ]
  },
  {
   "cell_type": "code",
   "execution_count": 3,
   "metadata": {},
   "outputs": [],
   "source": [
    "data=pd.read_csv('preprocessing_2.csv')"
   ]
  },
  {
   "cell_type": "code",
   "execution_count": 4,
   "metadata": {},
   "outputs": [
    {
     "data": {
      "text/html": [
       "<div>\n",
       "<style scoped>\n",
       "    .dataframe tbody tr th:only-of-type {\n",
       "        vertical-align: middle;\n",
       "    }\n",
       "\n",
       "    .dataframe tbody tr th {\n",
       "        vertical-align: top;\n",
       "    }\n",
       "\n",
       "    .dataframe thead th {\n",
       "        text-align: right;\n",
       "    }\n",
       "</style>\n",
       "<table border=\"1\" class=\"dataframe\">\n",
       "  <thead>\n",
       "    <tr style=\"text-align: right;\">\n",
       "      <th></th>\n",
       "      <th>Unnamed: 0</th>\n",
       "      <th>Unnamed: 0.1</th>\n",
       "      <th>label</th>\n",
       "      <th>p_title</th>\n",
       "      <th>sent_length</th>\n",
       "      <th>word_length</th>\n",
       "      <th>Stops_ratio</th>\n",
       "      <th>Num_Punctuation</th>\n",
       "      <th>category_Berita</th>\n",
       "      <th>category_Ekonomi&amp;Bisnis</th>\n",
       "      <th>...</th>\n",
       "      <th>source_fimela.com</th>\n",
       "      <th>source_kapanlagi.com</th>\n",
       "      <th>source_liputan6.com</th>\n",
       "      <th>source_okezone.com</th>\n",
       "      <th>source_posmetro-medan.com</th>\n",
       "      <th>source_republika.co.id</th>\n",
       "      <th>source_sindonews.com</th>\n",
       "      <th>source_tempo.co</th>\n",
       "      <th>source_tribunnews.com</th>\n",
       "      <th>source_wowkeren.com</th>\n",
       "    </tr>\n",
       "  </thead>\n",
       "  <tbody>\n",
       "    <tr>\n",
       "      <th>0</th>\n",
       "      <td>0</td>\n",
       "      <td>0</td>\n",
       "      <td>non-clickbait</td>\n",
       "      <td>masuk radar pilwalkot medan menantu jokowi ber...</td>\n",
       "      <td>10</td>\n",
       "      <td>5.800000</td>\n",
       "      <td>0.000000</td>\n",
       "      <td>1</td>\n",
       "      <td>1</td>\n",
       "      <td>0</td>\n",
       "      <td>...</td>\n",
       "      <td>0</td>\n",
       "      <td>0</td>\n",
       "      <td>0</td>\n",
       "      <td>0</td>\n",
       "      <td>0</td>\n",
       "      <td>0</td>\n",
       "      <td>0</td>\n",
       "      <td>0</td>\n",
       "      <td>0</td>\n",
       "      <td>0</td>\n",
       "    </tr>\n",
       "    <tr>\n",
       "      <th>1</th>\n",
       "      <td>1</td>\n",
       "      <td>1</td>\n",
       "      <td>non-clickbait</td>\n",
       "      <td>malaysia sudutkan ri isu kabut asap invasi babi</td>\n",
       "      <td>8</td>\n",
       "      <td>5.111111</td>\n",
       "      <td>0.111111</td>\n",
       "      <td>1</td>\n",
       "      <td>1</td>\n",
       "      <td>0</td>\n",
       "      <td>...</td>\n",
       "      <td>0</td>\n",
       "      <td>0</td>\n",
       "      <td>0</td>\n",
       "      <td>0</td>\n",
       "      <td>0</td>\n",
       "      <td>0</td>\n",
       "      <td>0</td>\n",
       "      <td>0</td>\n",
       "      <td>0</td>\n",
       "      <td>0</td>\n",
       "    </tr>\n",
       "    <tr>\n",
       "      <th>2</th>\n",
       "      <td>2</td>\n",
       "      <td>2</td>\n",
       "      <td>clickbait</td>\n",
       "      <td>viral driver ojol bekasi pesanan makanan pakai...</td>\n",
       "      <td>8</td>\n",
       "      <td>5.300000</td>\n",
       "      <td>0.200000</td>\n",
       "      <td>1</td>\n",
       "      <td>1</td>\n",
       "      <td>0</td>\n",
       "      <td>...</td>\n",
       "      <td>0</td>\n",
       "      <td>0</td>\n",
       "      <td>0</td>\n",
       "      <td>0</td>\n",
       "      <td>0</td>\n",
       "      <td>0</td>\n",
       "      <td>0</td>\n",
       "      <td>0</td>\n",
       "      <td>0</td>\n",
       "      <td>0</td>\n",
       "    </tr>\n",
       "    <tr>\n",
       "      <th>3</th>\n",
       "      <td>3</td>\n",
       "      <td>3</td>\n",
       "      <td>non-clickbait</td>\n",
       "      <td>kemensos salurkan rp m korban kerusuhan sosial...</td>\n",
       "      <td>8</td>\n",
       "      <td>5.100000</td>\n",
       "      <td>0.200000</td>\n",
       "      <td>1</td>\n",
       "      <td>1</td>\n",
       "      <td>0</td>\n",
       "      <td>...</td>\n",
       "      <td>0</td>\n",
       "      <td>0</td>\n",
       "      <td>0</td>\n",
       "      <td>0</td>\n",
       "      <td>0</td>\n",
       "      <td>0</td>\n",
       "      <td>0</td>\n",
       "      <td>0</td>\n",
       "      <td>0</td>\n",
       "      <td>0</td>\n",
       "    </tr>\n",
       "    <tr>\n",
       "      <th>4</th>\n",
       "      <td>4</td>\n",
       "      <td>4</td>\n",
       "      <td>clickbait</td>\n",
       "      <td>terkait mayat bayi mengenaskan tangerang pria ...</td>\n",
       "      <td>8</td>\n",
       "      <td>6.400000</td>\n",
       "      <td>0.200000</td>\n",
       "      <td>1</td>\n",
       "      <td>1</td>\n",
       "      <td>0</td>\n",
       "      <td>...</td>\n",
       "      <td>0</td>\n",
       "      <td>0</td>\n",
       "      <td>0</td>\n",
       "      <td>0</td>\n",
       "      <td>0</td>\n",
       "      <td>0</td>\n",
       "      <td>0</td>\n",
       "      <td>0</td>\n",
       "      <td>0</td>\n",
       "      <td>0</td>\n",
       "    </tr>\n",
       "  </tbody>\n",
       "</table>\n",
       "<p>5 rows × 29 columns</p>\n",
       "</div>"
      ],
      "text/plain": [
       "   Unnamed: 0  Unnamed: 0.1          label  \\\n",
       "0           0             0  non-clickbait   \n",
       "1           1             1  non-clickbait   \n",
       "2           2             2      clickbait   \n",
       "3           3             3  non-clickbait   \n",
       "4           4             4      clickbait   \n",
       "\n",
       "                                             p_title  sent_length  \\\n",
       "0  masuk radar pilwalkot medan menantu jokowi ber...           10   \n",
       "1    malaysia sudutkan ri isu kabut asap invasi babi            8   \n",
       "2  viral driver ojol bekasi pesanan makanan pakai...            8   \n",
       "3  kemensos salurkan rp m korban kerusuhan sosial...            8   \n",
       "4  terkait mayat bayi mengenaskan tangerang pria ...            8   \n",
       "\n",
       "   word_length  Stops_ratio  Num_Punctuation  category_Berita  \\\n",
       "0     5.800000     0.000000                1                1   \n",
       "1     5.111111     0.111111                1                1   \n",
       "2     5.300000     0.200000                1                1   \n",
       "3     5.100000     0.200000                1                1   \n",
       "4     6.400000     0.200000                1                1   \n",
       "\n",
       "   category_Ekonomi&Bisnis  ...  source_fimela.com  source_kapanlagi.com  \\\n",
       "0                        0  ...                  0                     0   \n",
       "1                        0  ...                  0                     0   \n",
       "2                        0  ...                  0                     0   \n",
       "3                        0  ...                  0                     0   \n",
       "4                        0  ...                  0                     0   \n",
       "\n",
       "   source_liputan6.com  source_okezone.com  source_posmetro-medan.com  \\\n",
       "0                    0                   0                          0   \n",
       "1                    0                   0                          0   \n",
       "2                    0                   0                          0   \n",
       "3                    0                   0                          0   \n",
       "4                    0                   0                          0   \n",
       "\n",
       "   source_republika.co.id  source_sindonews.com  source_tempo.co  \\\n",
       "0                       0                     0                0   \n",
       "1                       0                     0                0   \n",
       "2                       0                     0                0   \n",
       "3                       0                     0                0   \n",
       "4                       0                     0                0   \n",
       "\n",
       "   source_tribunnews.com  source_wowkeren.com  \n",
       "0                      0                    0  \n",
       "1                      0                    0  \n",
       "2                      0                    0  \n",
       "3                      0                    0  \n",
       "4                      0                    0  \n",
       "\n",
       "[5 rows x 29 columns]"
      ]
     },
     "execution_count": 4,
     "metadata": {},
     "output_type": "execute_result"
    }
   ],
   "source": [
    "data.head()"
   ]
  },
  {
   "cell_type": "code",
   "execution_count": 5,
   "metadata": {},
   "outputs": [],
   "source": [
    "def category(x):\n",
    "    if x=='clickbait':\n",
    "        return 1\n",
    "    else :\n",
    "        return 0"
   ]
  },
  {
   "cell_type": "code",
   "execution_count": 6,
   "metadata": {},
   "outputs": [],
   "source": [
    "data.label=data.label.apply(lambda x:category(x))"
   ]
  },
  {
   "cell_type": "code",
   "execution_count": 7,
   "metadata": {},
   "outputs": [],
   "source": [
    "from sklearn.model_selection import train_test_split"
   ]
  },
  {
   "cell_type": "code",
   "execution_count": 8,
   "metadata": {},
   "outputs": [],
   "source": [
    "X_train, X_test, y_train, y_test = train_test_split(data.drop(columns=['Unnamed: 0','Unnamed: 0.1','label']), data['label'], test_size=1/3,random_state=42)\n",
    "X_val, X_test, y_val, y_test = train_test_split(X_test,y_test, test_size=0.8, random_state=42)"
   ]
  },
  {
   "cell_type": "code",
   "execution_count": 12,
   "metadata": {},
   "outputs": [
    {
     "data": {
      "text/html": [
       "<div>\n",
       "<style scoped>\n",
       "    .dataframe tbody tr th:only-of-type {\n",
       "        vertical-align: middle;\n",
       "    }\n",
       "\n",
       "    .dataframe tbody tr th {\n",
       "        vertical-align: top;\n",
       "    }\n",
       "\n",
       "    .dataframe thead th {\n",
       "        text-align: right;\n",
       "    }\n",
       "</style>\n",
       "<table border=\"1\" class=\"dataframe\">\n",
       "  <thead>\n",
       "    <tr style=\"text-align: right;\">\n",
       "      <th></th>\n",
       "      <th>p_title</th>\n",
       "      <th>sent_length</th>\n",
       "      <th>word_length</th>\n",
       "      <th>Stops_ratio</th>\n",
       "      <th>Num_Punctuation</th>\n",
       "      <th>category_Berita</th>\n",
       "      <th>category_Ekonomi&amp;Bisnis</th>\n",
       "      <th>category_Lain</th>\n",
       "      <th>category_Lifestyle</th>\n",
       "      <th>category_Olahraga</th>\n",
       "      <th>...</th>\n",
       "      <th>source_fimela.com</th>\n",
       "      <th>source_kapanlagi.com</th>\n",
       "      <th>source_liputan6.com</th>\n",
       "      <th>source_okezone.com</th>\n",
       "      <th>source_posmetro-medan.com</th>\n",
       "      <th>source_republika.co.id</th>\n",
       "      <th>source_sindonews.com</th>\n",
       "      <th>source_tempo.co</th>\n",
       "      <th>source_tribunnews.com</th>\n",
       "      <th>source_wowkeren.com</th>\n",
       "    </tr>\n",
       "  </thead>\n",
       "  <tbody>\n",
       "    <tr>\n",
       "      <th>9388</th>\n",
       "      <td>thiago silva neymar andalan psg</td>\n",
       "      <td>9</td>\n",
       "      <td>5.111111</td>\n",
       "      <td>0.444444</td>\n",
       "      <td>0</td>\n",
       "      <td>0</td>\n",
       "      <td>0</td>\n",
       "      <td>0</td>\n",
       "      <td>0</td>\n",
       "      <td>1</td>\n",
       "      <td>...</td>\n",
       "      <td>0</td>\n",
       "      <td>0</td>\n",
       "      <td>1</td>\n",
       "      <td>0</td>\n",
       "      <td>0</td>\n",
       "      <td>0</td>\n",
       "      <td>0</td>\n",
       "      <td>0</td>\n",
       "      <td>0</td>\n",
       "      <td>0</td>\n",
       "    </tr>\n",
       "  </tbody>\n",
       "</table>\n",
       "<p>1 rows × 26 columns</p>\n",
       "</div>"
      ],
      "text/plain": [
       "                              p_title  sent_length  word_length  Stops_ratio  \\\n",
       "9388  thiago silva neymar andalan psg            9     5.111111     0.444444   \n",
       "\n",
       "      Num_Punctuation  category_Berita  category_Ekonomi&Bisnis  \\\n",
       "9388                0                0                        0   \n",
       "\n",
       "      category_Lain  category_Lifestyle  category_Olahraga  ...  \\\n",
       "9388              0                   0                  1  ...   \n",
       "\n",
       "      source_fimela.com  source_kapanlagi.com  source_liputan6.com  \\\n",
       "9388                  0                     0                    1   \n",
       "\n",
       "      source_okezone.com  source_posmetro-medan.com  source_republika.co.id  \\\n",
       "9388                   0                          0                       0   \n",
       "\n",
       "      source_sindonews.com  source_tempo.co  source_tribunnews.com  \\\n",
       "9388                     0                0                      0   \n",
       "\n",
       "      source_wowkeren.com  \n",
       "9388                    0  \n",
       "\n",
       "[1 rows x 26 columns]"
      ]
     },
     "execution_count": 12,
     "metadata": {},
     "output_type": "execute_result"
    }
   ],
   "source": [
    "X_train.sample()"
   ]
  },
  {
   "cell_type": "markdown",
   "metadata": {},
   "source": [
    "# Embedding"
   ]
  },
  {
   "cell_type": "code",
   "execution_count": 9,
   "metadata": {},
   "outputs": [
    {
     "name": "stderr",
     "output_type": "stream",
     "text": [
      "Using TensorFlow backend.\n"
     ]
    }
   ],
   "source": [
    "from tensorflow.python.keras.preprocessing import sequence\n",
    "from tensorflow.python.keras.preprocessing import text\n",
    "import pandas as pd\n",
    "import numpy as np\n",
    "from nltk.corpus import stopwords\n",
    "from nltk.util import ngrams\n",
    "from sklearn.feature_extraction.text import CountVectorizer\n",
    "from collections import defaultdict\n",
    "from collections import  Counter\n",
    "import re\n",
    "from nltk.tokenize import word_tokenize\n",
    "import gensim\n",
    "import string\n",
    "from keras.preprocessing.text import Tokenizer\n",
    "from keras.preprocessing.sequence import pad_sequences\n",
    "from tqdm import tqdm\n",
    "from keras.models import Sequential\n",
    "from keras.layers import Embedding,LSTM,Dense,SpatialDropout1D\n",
    "from keras.initializers import Constant\n",
    "from sklearn.model_selection import train_test_split\n",
    "from keras.optimizers import Adam\n",
    "# Limit on the number of features to K features.\n",
    "TOP_K = 20000\n",
    "\n",
    "# Limit on the length of text sequences. \n",
    "# Sequences longer than this will be truncated.\n",
    "# and less than it will be padded\n",
    "MAX_SEQUENCE_LENGTH = 20\n",
    "\n",
    "class CustomTokenizer:\n",
    "    def __init__(self, train_texts):\n",
    "        self.train_texts = train_texts\n",
    "        self.tokenizer = Tokenizer(num_words=TOP_K)\n",
    "        \n",
    "    def train_tokenize(self):\n",
    "        # Get max sequence length.\n",
    "        max_length = len(max(self.train_texts , key=len))\n",
    "        self.max_length = min(max_length, MAX_SEQUENCE_LENGTH)\n",
    "    \n",
    "        # Create vocabulary with training texts.\n",
    "        self.tokenizer.fit_on_texts(self.train_texts)\n",
    "        \n",
    "    def vectorize_input(self, tweets):\n",
    "        # Vectorize training and validation texts.\n",
    "        \n",
    "        tweets = self.tokenizer.texts_to_sequences(tweets)\n",
    "        # Fix sequence length to max value. Sequences shorter than the length are\n",
    "        # padded in the beginning and sequences longer are truncated\n",
    "        # at the beginning.\n",
    "        tweets = sequence.pad_sequences(tweets, maxlen=self.max_length, truncating='post',padding='post')\n",
    "        return tweets\n",
    "    \n",
    "tokenizer = CustomTokenizer(train_texts = X_train['p_title'])\n",
    "# fit o the train\n",
    "tokenizer.train_tokenize()\n",
    "tokenized_train = tokenizer.vectorize_input(X_train['p_title'])\n",
    "tokenized_val=tokenizer.vectorize_input(X_val['p_title'])\n",
    "tokenized_test = tokenizer.vectorize_input(X_test['p_title'])"
   ]
  },
  {
   "cell_type": "code",
   "execution_count": 10,
   "metadata": {},
   "outputs": [
    {
     "name": "stderr",
     "output_type": "stream",
     "text": [
      "100%|████████████████████████████████████████████████████████████████████████| 14083/14083 [00:00<00:00, 164191.50it/s]\n"
     ]
    }
   ],
   "source": [
    "import tqdm\n",
    "glove_file='id_wiki_100.txt'\n",
    "EMBEDDING_VECTOR_LENGTH = 100\n",
    "def construct_embedding_matrix(glove_file, word_index):\n",
    "    embedding_dict = {}\n",
    "    with open(glove_file, 'r', errors=\"ignore\") as f:\n",
    "        for line in f:\n",
    "            values=line.split()\n",
    "            # get the word\n",
    "            word=values[0]\n",
    "            if word in word_index.keys():\n",
    "                # get the vector\n",
    "                vector = np.asarray(values[1:], 'float32')\n",
    "                embedding_dict[word] = vector\n",
    "    ###  oov words (out of vacabulary words) will be mapped to 0 vectors\n",
    "\n",
    "    num_words=len(word_index)+1\n",
    "    #initialize it to 0\n",
    "    embedding_matrix=np.zeros((num_words, EMBEDDING_VECTOR_LENGTH))\n",
    "\n",
    "    for word,i in tqdm.tqdm(word_index.items()):\n",
    "        if i < num_words:\n",
    "            vect=embedding_dict.get(word, [])\n",
    "            if len(vect)>0:\n",
    "                embedding_matrix[i] = vect[:EMBEDDING_VECTOR_LENGTH]\n",
    "    return embedding_matrix\n",
    "  \n",
    "embedding_matrix =  construct_embedding_matrix(glove_file, tokenizer.tokenizer.word_index)"
   ]
  },
  {
   "cell_type": "markdown",
   "metadata": {},
   "source": [
    "# Self Attentive Network + Structured Variable"
   ]
  },
  {
   "cell_type": "code",
   "execution_count": 11,
   "metadata": {},
   "outputs": [],
   "source": [
    "import tensorflow as tf\n",
    "from tensorflow import keras\n",
    "from tensorflow.keras import layers\n",
    "from tensorflow.keras.models import Sequential, load_model\n",
    "from keras import backend as K\n",
    "from attention import Attention"
   ]
  },
  {
   "cell_type": "code",
   "execution_count": 12,
   "metadata": {},
   "outputs": [],
   "source": [
    "tf.compat.v1.disable_eager_execution()"
   ]
  },
  {
   "cell_type": "code",
   "execution_count": 13,
   "metadata": {},
   "outputs": [],
   "source": [
    "class attention(tf.keras.layers.Layer): \n",
    "    def __init__(self):    \n",
    "        super(attention, self).__init__()\n",
    "        \n",
    "    def build(self, input_shape):\n",
    "        self.num_dim_perword = input_shape[-1] ##Last value of inp:256\n",
    "        self.W_1 = self.add_weight(shape=(self.num_dim_perword,self.num_dim_perword),initializer=tf.keras.initializers.GlorotNormal(),trainable=True)\n",
    "        self.W_2 = self.add_weight(shape=(self.num_dim_perword,1),initializer=tf.keras.initializers.GlorotNormal(),trainable=True)\n",
    "        super(attention, self).build(input_shape)\n",
    "        \n",
    "    def call(self, x):\n",
    "        e = K.dot(K.tanh(K.dot(x,self.W_1)),self.W_2)\n",
    "        a = K.softmax(e, axis=-1)\n",
    "        output = x*a\n",
    "        return K.sum(output, axis=1)"
   ]
  },
  {
   "cell_type": "code",
   "execution_count": 13,
   "metadata": {},
   "outputs": [
    {
     "name": "stdout",
     "output_type": "stream",
     "text": [
      "Model: \"model_1\"\n",
      "__________________________________________________________________________________________________\n",
      "Layer (type)                    Output Shape         Param #     Connected to                     \n",
      "==================================================================================================\n",
      "input_2 (InputLayer)            [(None, 20)]         0                                            \n",
      "__________________________________________________________________________________________________\n",
      "embedding_1 (Embedding)         (None, 20, 100)      1408400     input_2[0][0]                    \n",
      "__________________________________________________________________________________________________\n",
      "dropout_1 (Dropout)             (None, 20, 100)      0           embedding_1[0][0]                \n",
      "__________________________________________________________________________________________________\n",
      "bidirectional_1 (Bidirectional) (None, 20, 128)      84480       dropout_1[0][0]                  \n",
      "__________________________________________________________________________________________________\n",
      "last_hidden_state (Lambda)      (None, 128)          0           bidirectional_1[0][0]            \n",
      "__________________________________________________________________________________________________\n",
      "attention_score_vec (Dense)     (None, 20, 128)      16384       bidirectional_1[0][0]            \n",
      "__________________________________________________________________________________________________\n",
      "attention_score (Dot)           (None, 20)           0           last_hidden_state[0][0]          \n",
      "                                                                 attention_score_vec[0][0]        \n",
      "__________________________________________________________________________________________________\n",
      "attention_weight (Activation)   (None, 20)           0           attention_score[0][0]            \n",
      "__________________________________________________________________________________________________\n",
      "context_vector (Dot)            (None, 128)          0           bidirectional_1[0][0]            \n",
      "                                                                 attention_weight[0][0]           \n",
      "__________________________________________________________________________________________________\n",
      "attention_output (Concatenate)  (None, 256)          0           context_vector[0][0]             \n",
      "                                                                 last_hidden_state[0][0]          \n",
      "__________________________________________________________________________________________________\n",
      "attention_vector (Dense)        (None, 128)          32768       attention_output[0][0]           \n",
      "__________________________________________________________________________________________________\n",
      "input_3 (InputLayer)            [(None, 25)]         0                                            \n",
      "__________________________________________________________________________________________________\n",
      "concatenate (Concatenate)       (None, 153)          0           attention_vector[0][0]           \n",
      "                                                                 input_3[0][0]                    \n",
      "__________________________________________________________________________________________________\n",
      "dense (Dense)                   (None, 1)            154         concatenate[0][0]                \n",
      "==================================================================================================\n",
      "Total params: 1,542,186\n",
      "Trainable params: 133,786\n",
      "Non-trainable params: 1,408,400\n",
      "__________________________________________________________________________________________________\n"
     ]
    }
   ],
   "source": [
    "inputs_word = tf.keras.Input(shape=(20,))\n",
    "word = tf.keras.layers.Embedding(len(tokenizer.tokenizer.word_index)+1,\n",
    "                    100,\n",
    "                    embeddings_initializer=Constant(embedding_matrix), \n",
    "                    input_length=20,trainable=False)(inputs_word)\n",
    "word=tf.keras.layers.Dropout(0.2)(word)\n",
    "word=tf.keras.layers.Bidirectional(tf.keras.layers.LSTM(64, dropout=0.2, recurrent_dropout=0.2,return_sequences=True),merge_mode='concat')(word)\n",
    "word=Attention()(word)\n",
    "word = tf.keras.Model(inputs=inputs_word, outputs=word)\n",
    "inputs_other= tf.keras.Input(shape=(25,))\n",
    "model=tf.keras.layers.concatenate([word.output, inputs_other])\n",
    "model=tf.keras.layers.Dense(1,activation='sigmoid')(model)\n",
    "model= tf.keras.Model(inputs=[word.input, inputs_other], outputs=model)\n",
    "model.summary()"
   ]
  },
  {
   "cell_type": "code",
   "execution_count": 14,
   "metadata": {},
   "outputs": [],
   "source": [
    "optimizer= tf.keras.optimizers.Adam(learning_rate=0.005)\n",
    "model.compile(loss=tf.keras.losses.BinaryCrossentropy(from_logits=True),\n",
    "              optimizer=optimizer,\n",
    "              metrics=['accuracy'])"
   ]
  },
  {
   "cell_type": "code",
   "execution_count": 15,
   "metadata": {},
   "outputs": [],
   "source": [
    "i_train = [tokenized_train,X_train.drop(columns=['p_title']).to_numpy()]\n",
    "i_val= [tokenized_val,X_val.drop(columns=['p_title']).to_numpy()]\n",
    "i_test= [tokenized_test,X_test.drop(columns=['p_title']).to_numpy()]"
   ]
  },
  {
   "cell_type": "code",
   "execution_count": 16,
   "metadata": {},
   "outputs": [
    {
     "name": "stdout",
     "output_type": "stream",
     "text": [
      "Epoch 1/20\n",
      "157/157 - 17s - loss: 0.5512 - accuracy: 0.7265 - val_loss: 0.4848 - val_accuracy: 0.7690\n",
      "Epoch 2/20\n",
      "157/157 - 10s - loss: 0.4714 - accuracy: 0.7730 - val_loss: 0.4444 - val_accuracy: 0.7910\n",
      "Epoch 3/20\n",
      "157/157 - 10s - loss: 0.4418 - accuracy: 0.7942 - val_loss: 0.4340 - val_accuracy: 0.8010\n",
      "Epoch 4/20\n",
      "157/157 - 10s - loss: 0.4235 - accuracy: 0.8006 - val_loss: 0.4270 - val_accuracy: 0.8020\n",
      "Epoch 5/20\n",
      "157/157 - 10s - loss: 0.4108 - accuracy: 0.8086 - val_loss: 0.4285 - val_accuracy: 0.7980\n",
      "Epoch 6/20\n",
      "157/157 - 10s - loss: 0.4011 - accuracy: 0.8169 - val_loss: 0.4202 - val_accuracy: 0.8130\n",
      "Epoch 7/20\n",
      "157/157 - 10s - loss: 0.3851 - accuracy: 0.8257 - val_loss: 0.4340 - val_accuracy: 0.8060\n",
      "Epoch 8/20\n",
      "157/157 - 10s - loss: 0.3782 - accuracy: 0.8326 - val_loss: 0.4202 - val_accuracy: 0.8090\n",
      "Epoch 9/20\n",
      "157/157 - 10s - loss: 0.3693 - accuracy: 0.8329 - val_loss: 0.4296 - val_accuracy: 0.7950\n",
      "Epoch 10/20\n",
      "157/157 - 10s - loss: 0.3661 - accuracy: 0.8296 - val_loss: 0.4377 - val_accuracy: 0.8020\n",
      "Epoch 11/20\n",
      "157/157 - 10s - loss: 0.3541 - accuracy: 0.8425 - val_loss: 0.4322 - val_accuracy: 0.8010\n"
     ]
    }
   ],
   "source": [
    "callback = tf.keras.callbacks.EarlyStopping(monitor='val_loss', patience=3,mode='auto')\n",
    "# This callback will stop the training when there is no improvement in\n",
    "# the validation loss for three consecutive epochs.\n",
    "histori = model.fit(x=i_train,y=y_train,validation_data=(i_val,y_val),\n",
    "                    epochs=20, batch_size=64, callbacks=[callback],\n",
    "                    verbose=2)"
   ]
  },
  {
   "cell_type": "code",
   "execution_count": 59,
   "metadata": {},
   "outputs": [],
   "source": [
    "import matplotlib.pyplot as plt"
   ]
  },
  {
   "cell_type": "code",
   "execution_count": 60,
   "metadata": {},
   "outputs": [
    {
     "data": {
      "image/png": "[encoded data removed]",
      "text/plain": [
       "<Figure size 432x288 with 1 Axes>"
      ]
     },
     "metadata": {
      "needs_background": "light"
     },
     "output_type": "display_data"
    }
   ],
   "source": [
    "plt.plot(histori.history['loss'],label='Training loss')\n",
    "plt.plot(histori.history['val_loss'],label='Validation loss')\n",
    "plt.legend()\n",
    "plt.show()"
   ]
  },
  {
   "cell_type": "code",
   "execution_count": 61,
   "metadata": {},
   "outputs": [
    {
     "data": {
      "image/png": "[encoded data removed]",
      "text/plain": [
       "<Figure size 432x288 with 1 Axes>"
      ]
     },
     "metadata": {
      "needs_background": "light"
     },
     "output_type": "display_data"
    }
   ],
   "source": [
    "plt.plot(histori.history['accuracy'],label='Training Acc')\n",
    "plt.plot(histori.history['val_accuracy'],label='Validation Acc')\n",
    "plt.legend()\n",
    "plt.show()"
   ]
  },
  {
   "cell_type": "code",
   "execution_count": 62,
   "metadata": {},
   "outputs": [
    {
     "name": "stdout",
     "output_type": "stream",
     "text": [
      "RNN (SA-BiLSTM + Structured Data)\n",
      "Training\n",
      "Accuracy : 0.794 (+-0.033) Loss : 0.440 (+-0.062)\n",
      "Validation\n",
      "Accuracy : 0.793 (+-0.011) Loss : 0.451 (+-0.018)\n"
     ]
    }
   ],
   "source": [
    "a_mean,a_std=np.mean(histori.history['accuracy']),np.std(histori.history['accuracy'])\n",
    "l_mean,l_std=np.mean(histori.history['loss']),np.std(histori.history['loss'])\n",
    "av_mean,av_std=np.mean(histori.history['val_accuracy']),np.std(histori.history['val_accuracy'])\n",
    "lv_mean,lv_std=np.mean(histori.history['val_loss']),np.std(histori.history['val_loss'])\n",
    "print('RNN (SA-BiLSTM + Structured Data)')\n",
    "print('Training')\n",
    "print('Accuracy : %0.3f (+-%0.3f) Loss : %0.3f (+-%0.3f)'%(a_mean,a_std,l_mean,l_std))\n",
    "print('Validation')\n",
    "print('Accuracy : %0.3f (+-%0.3f) Loss : %0.3f (+-%0.3f)'%(av_mean,av_std,lv_mean,lv_std))"
   ]
  },
  {
   "cell_type": "code",
   "execution_count": 17,
   "metadata": {},
   "outputs": [],
   "source": [
    "def float_int(x):\n",
    "    if x-int(x)>=0.5:\n",
    "        return 1\n",
    "    else :\n",
    "        return 0"
   ]
  },
  {
   "cell_type": "code",
   "execution_count": 21,
   "metadata": {},
   "outputs": [
    {
     "name": "stdout",
     "output_type": "stream",
     "text": [
      "125/125 [==============================] - ETA: 2s - loss: 0.3396 - accuracy: 0.81 - ETA: 1s - loss: 0.4385 - accuracy: 0.78 - ETA: 0s - loss: 0.4708 - accuracy: 0.77 - ETA: 0s - loss: 0.4413 - accuracy: 0.80 - ETA: 0s - loss: 0.4418 - accuracy: 0.79 - ETA: 0s - loss: 0.4362 - accuracy: 0.80 - ETA: 0s - loss: 0.4508 - accuracy: 0.79 - ETA: 0s - loss: 0.4607 - accuracy: 0.79 - ETA: 0s - loss: 0.4604 - accuracy: 0.79 - ETA: 0s - loss: 0.4499 - accuracy: 0.79 - ETA: 0s - loss: 0.4523 - accuracy: 0.79 - ETA: 0s - loss: 0.4579 - accuracy: 0.79 - ETA: 0s - loss: 0.4512 - accuracy: 0.79 - ETA: 0s - loss: 0.4485 - accuracy: 0.79 - ETA: 0s - loss: 0.4549 - accuracy: 0.79 - ETA: 0s - loss: 0.4549 - accuracy: 0.79 - ETA: 0s - loss: 0.4523 - accuracy: 0.79 - ETA: 0s - loss: 0.4505 - accuracy: 0.79 - ETA: 0s - loss: 0.4517 - accuracy: 0.79 - ETA: 0s - loss: 0.4518 - accuracy: 0.79 - ETA: 0s - loss: 0.4524 - accuracy: 0.79 - 1s 9ms/step - loss: 0.4524 - accuracy: 0.7922\n",
      "Test Loss : 0.452\n",
      "Test Accuracy : 0.792\n",
      "F1-Score : 0.743\n",
      "              precision    recall  f1-score   support\n",
      "\n",
      "           0       0.81      0.84      0.83      2334\n",
      "           1       0.77      0.72      0.74      1666\n",
      "\n",
      "    accuracy                           0.79      4000\n",
      "   macro avg       0.79      0.78      0.78      4000\n",
      "weighted avg       0.79      0.79      0.79      4000\n",
      "\n"
     ]
    }
   ],
   "source": [
    "from sklearn.metrics import classification_report,confusion_matrix,f1_score\n",
    "y_pred=np.array([[float_int(i[0])] for i in model.predict(i_test)])\n",
    "test_loss,test_accuracy=model.evaluate(i_test,y_test)\n",
    "print('Test Loss : %0.3f'%test_loss)\n",
    "print('Test Accuracy : %0.3f'%test_accuracy)\n",
    "print('F1-Score : %0.3f'%f1_score(y_test,y_pred))\n",
    "print(classification_report(y_test,y_pred))"
   ]
  },
  {
   "cell_type": "code",
   "execution_count": 22,
   "metadata": {},
   "outputs": [
    {
     "name": "stdout",
     "output_type": "stream",
     "text": [
      "Test Loss : 0.452\n",
      "Test Accuracy : 0.792\n",
      "F1-Score : 0.743\n",
      "              precision    recall  f1-score   support\n",
      "\n",
      "           0       0.81      0.84      0.83      2334\n",
      "           1       0.77      0.72      0.74      1666\n",
      "\n",
      "    accuracy                           0.79      4000\n",
      "   macro avg       0.79      0.78      0.78      4000\n",
      "weighted avg       0.79      0.79      0.79      4000\n",
      "\n"
     ]
    }
   ],
   "source": [
    "print('Test Loss : %0.3f'%test_loss)\n",
    "print('Test Accuracy : %0.3f'%test_accuracy)\n",
    "print('F1-Score : %0.3f'%f1_score(y_test,y_pred))\n",
    "print(classification_report(y_test,y_pred))"
   ]
  },
  {
   "cell_type": "code",
   "execution_count": 23,
   "metadata": {},
   "outputs": [
    {
     "name": "stdout",
     "output_type": "stream",
     "text": [
      "32/32 [==============================] - ETA: 0s - loss: 0.4624 - accuracy: 0.78 - ETA: 0s - loss: 0.4633 - accuracy: 0.79 - ETA: 0s - loss: 0.4067 - accuracy: 0.82 - ETA: 0s - loss: 0.4415 - accuracy: 0.79 - ETA: 0s - loss: 0.4231 - accuracy: 0.80 - 0s 8ms/step - loss: 0.4322 - accuracy: 0.8010\n"
     ]
    }
   ],
   "source": [
    "from sklearn.metrics import classification_report,confusion_matrix,f1_score\n",
    "y_pred=np.array([[float_int(i[0])] for i in model.predict(i_val)])\n",
    "test_loss,test_accuracy=model.evaluate(i_val,y_val)"
   ]
  },
  {
   "cell_type": "code",
   "execution_count": 24,
   "metadata": {},
   "outputs": [
    {
     "name": "stdout",
     "output_type": "stream",
     "text": [
      "Validation Loss : 0.432\n",
      "Validation Accuracy : 0.801\n",
      "F1-Score : 0.752\n",
      "              precision    recall  f1-score   support\n",
      "\n",
      "           0       0.82      0.84      0.83       591\n",
      "           1       0.77      0.74      0.75       409\n",
      "\n",
      "    accuracy                           0.80      1000\n",
      "   macro avg       0.79      0.79      0.79      1000\n",
      "weighted avg       0.80      0.80      0.80      1000\n",
      "\n"
     ]
    }
   ],
   "source": [
    "print('Validation Loss : %0.3f'%test_loss)\n",
    "print('Validation Accuracy : %0.3f'%test_accuracy)\n",
    "print('F1-Score : %0.3f'%f1_score(y_val,y_pred))\n",
    "print(classification_report(y_val,y_pred))"
   ]
  },
  {
   "cell_type": "code",
   "execution_count": 25,
   "metadata": {},
   "outputs": [
    {
     "name": "stdout",
     "output_type": "stream",
     "text": [
      "313/313 [==============================] - ETA: 8s - loss: 0.3012 - accuracy: 0.87 - ETA: 3s - loss: 0.2694 - accuracy: 0.88 - ETA: 2s - loss: 0.2586 - accuracy: 0.88 - ETA: 2s - loss: 0.2817 - accuracy: 0.87 - ETA: 2s - loss: 0.2707 - accuracy: 0.88 - ETA: 2s - loss: 0.2672 - accuracy: 0.88 - ETA: 2s - loss: 0.2720 - accuracy: 0.88 - ETA: 2s - loss: 0.2662 - accuracy: 0.88 - ETA: 2s - loss: 0.2660 - accuracy: 0.88 - ETA: 2s - loss: 0.2664 - accuracy: 0.88 - ETA: 2s - loss: 0.2652 - accuracy: 0.88 - ETA: 2s - loss: 0.2677 - accuracy: 0.88 - ETA: 2s - loss: 0.2648 - accuracy: 0.89 - ETA: 2s - loss: 0.2682 - accuracy: 0.89 - ETA: 1s - loss: 0.2689 - accuracy: 0.88 - ETA: 1s - loss: 0.2729 - accuracy: 0.88 - ETA: 1s - loss: 0.2728 - accuracy: 0.88 - ETA: 1s - loss: 0.2731 - accuracy: 0.88 - ETA: 1s - loss: 0.2775 - accuracy: 0.88 - ETA: 1s - loss: 0.2775 - accuracy: 0.88 - ETA: 1s - loss: 0.2764 - accuracy: 0.88 - ETA: 1s - loss: 0.2733 - accuracy: 0.89 - ETA: 1s - loss: 0.2725 - accuracy: 0.89 - ETA: 1s - loss: 0.2736 - accuracy: 0.89 - ETA: 1s - loss: 0.2729 - accuracy: 0.89 - ETA: 1s - loss: 0.2727 - accuracy: 0.88 - ETA: 1s - loss: 0.2731 - accuracy: 0.89 - ETA: 1s - loss: 0.2714 - accuracy: 0.89 - ETA: 1s - loss: 0.2716 - accuracy: 0.89 - ETA: 1s - loss: 0.2726 - accuracy: 0.89 - ETA: 1s - loss: 0.2728 - accuracy: 0.89 - ETA: 1s - loss: 0.2733 - accuracy: 0.88 - ETA: 1s - loss: 0.2737 - accuracy: 0.88 - ETA: 0s - loss: 0.2740 - accuracy: 0.88 - ETA: 0s - loss: 0.2741 - accuracy: 0.88 - ETA: 0s - loss: 0.2725 - accuracy: 0.88 - ETA: 0s - loss: 0.2726 - accuracy: 0.88 - ETA: 0s - loss: 0.2718 - accuracy: 0.88 - ETA: 0s - loss: 0.2710 - accuracy: 0.88 - ETA: 0s - loss: 0.2713 - accuracy: 0.89 - ETA: 0s - loss: 0.2704 - accuracy: 0.89 - ETA: 0s - loss: 0.2704 - accuracy: 0.89 - ETA: 0s - loss: 0.2687 - accuracy: 0.89 - ETA: 0s - loss: 0.2680 - accuracy: 0.89 - ETA: 0s - loss: 0.2684 - accuracy: 0.89 - ETA: 0s - loss: 0.2683 - accuracy: 0.89 - ETA: 0s - loss: 0.2685 - accuracy: 0.89 - ETA: 0s - loss: 0.2686 - accuracy: 0.89 - ETA: 0s - loss: 0.2688 - accuracy: 0.89 - ETA: 0s - loss: 0.2688 - accuracy: 0.89 - 3s 9ms/step - loss: 0.2680 - accuracy: 0.8931\n"
     ]
    }
   ],
   "source": [
    "from sklearn.metrics import classification_report,confusion_matrix,f1_score\n",
    "y_pred=np.array([[float_int(i[0])] for i in model.predict(i_train)])\n",
    "test_loss,test_accuracy=model.evaluate(i_train,y_train)"
   ]
  },
  {
   "cell_type": "code",
   "execution_count": 26,
   "metadata": {},
   "outputs": [
    {
     "name": "stdout",
     "output_type": "stream",
     "text": [
      "training Loss : 0.268\n",
      "training Accuracy : 0.893\n",
      "F1-Score : 0.869\n",
      "              precision    recall  f1-score   support\n",
      "\n",
      "           0       0.89      0.93      0.91      5789\n",
      "           1       0.90      0.84      0.87      4211\n",
      "\n",
      "    accuracy                           0.89     10000\n",
      "   macro avg       0.89      0.89      0.89     10000\n",
      "weighted avg       0.89      0.89      0.89     10000\n",
      "\n"
     ]
    }
   ],
   "source": [
    "print('training Loss : %0.3f'%test_loss)\n",
    "print('training Accuracy : %0.3f'%test_accuracy)\n",
    "print('F1-Score : %0.3f'%f1_score(y_train,y_pred))\n",
    "print(classification_report(y_train,y_pred))"
   ]
  },
  {
   "cell_type": "markdown",
   "metadata": {},
   "source": [
    "# Self Attentive Network"
   ]
  },
  {
   "cell_type": "code",
   "execution_count": 23,
   "metadata": {},
   "outputs": [],
   "source": [
    "class attention(tf.keras.layers.Layer): \n",
    "    def __init__(self):\n",
    "        super(attention, self).__init__()\n",
    "        \n",
    "    def build(self, input_shape):\n",
    "        self.num_dim_perword = input_shape[-1] ##Last value of inp:256\n",
    "        self.W1 = self.add_weight(shape=(self.num_dim_perword,self.num_dim_perword),initializer=tf.keras.initializers.GlorotNormal(),trainable=True)\n",
    "        self.W2 = self.add_weight(shape=(self.num_dim_perword,1),initializer=tf.keras.initializers.GlorotNormal(),trainable=True)\n",
    "        super(attention, self).build(input_shape)\n",
    "        \n",
    "    def call(self, x):\n",
    "        e = K.dot(K.tanh(K.dot(x,self.W1)),self.W2)\n",
    "        a = K.softmax(e,axis=-1)\n",
    "        output = x*a\n",
    "        return K.sum(output, axis=1)"
   ]
  },
  {
   "cell_type": "code",
   "execution_count": 28,
   "metadata": {},
   "outputs": [
    {
     "name": "stdout",
     "output_type": "stream",
     "text": [
      "Model: \"sequential\"\n",
      "_________________________________________________________________\n",
      "Layer (type)                 Output Shape              Param #   \n",
      "=================================================================\n",
      "embedding_2 (Embedding)      (None, 20, 100)           1408400   \n",
      "_________________________________________________________________\n",
      "dropout_2 (Dropout)          (None, 20, 100)           0         \n",
      "_________________________________________________________________\n",
      "bidirectional_2 (Bidirection (None, 20, 128)           84480     \n",
      "_________________________________________________________________\n",
      "last_hidden_state (Lambda)   (None, 128)               0         \n",
      "_________________________________________________________________\n",
      "attention_score_vec (Dense)  (None, 20, 128)           16384     \n",
      "_________________________________________________________________\n",
      "attention_score (Dot)        (None, 20)                0         \n",
      "_________________________________________________________________\n",
      "attention_weight (Activation (None, 20)                0         \n",
      "_________________________________________________________________\n",
      "context_vector (Dot)         (None, 128)               0         \n",
      "_________________________________________________________________\n",
      "attention_output (Concatenat (None, 256)               0         \n",
      "_________________________________________________________________\n",
      "attention_vector (Dense)     (None, 128)               32768     \n",
      "_________________________________________________________________\n",
      "dense_1 (Dense)              (None, 1)                 129       \n",
      "=================================================================\n",
      "Total params: 1,542,161\n",
      "Trainable params: 133,761\n",
      "Non-trainable params: 1,408,400\n",
      "_________________________________________________________________\n"
     ]
    }
   ],
   "source": [
    "state_size = 64\n",
    "dropout= 0.2\n",
    "optimizer= tf.keras.optimizers.Adam(learning_rate=0.005)\n",
    "mods1=tf.keras.Sequential([\n",
    "    tf.keras.layers.Embedding(len(tokenizer.tokenizer.word_index)+1,\n",
    "                    100,\n",
    "                    embeddings_initializer=Constant(embedding_matrix), \n",
    "                    input_length=20,trainable=False),\n",
    "    tf.keras.layers.Dropout(dropout),\n",
    "    tf.keras.layers.Bidirectional(tf.keras.layers.LSTM(state_size, dropout=dropout, recurrent_dropout=0.3,return_sequences=True)),\n",
    "    Attention(),\n",
    "    tf.keras.layers.Dense(1,activation='sigmoid')\n",
    "])\n",
    "mods1.compile(loss=tf.keras.losses.BinaryCrossentropy(from_logits=True),\n",
    "              optimizer=optimizer,\n",
    "              metrics=['accuracy'])\n",
    "mods1.summary()"
   ]
  },
  {
   "cell_type": "code",
   "execution_count": 29,
   "metadata": {},
   "outputs": [
    {
     "name": "stdout",
     "output_type": "stream",
     "text": [
      "Epoch 1/20\n",
      "79/79 - 15s - loss: 0.5873 - accuracy: 0.6944 - val_loss: 0.5483 - val_accuracy: 0.7420\n",
      "Epoch 2/20\n",
      "79/79 - 8s - loss: 0.5458 - accuracy: 0.7303 - val_loss: 0.5384 - val_accuracy: 0.7480\n",
      "Epoch 3/20\n",
      "79/79 - 8s - loss: 0.5312 - accuracy: 0.7362 - val_loss: 0.5228 - val_accuracy: 0.7430\n",
      "Epoch 4/20\n",
      "79/79 - 8s - loss: 0.5142 - accuracy: 0.7506 - val_loss: 0.5190 - val_accuracy: 0.7580\n",
      "Epoch 5/20\n",
      "79/79 - 8s - loss: 0.5020 - accuracy: 0.7595 - val_loss: 0.5248 - val_accuracy: 0.7620\n",
      "Epoch 6/20\n",
      "79/79 - 8s - loss: 0.4884 - accuracy: 0.7640 - val_loss: 0.5333 - val_accuracy: 0.7510\n",
      "Epoch 7/20\n",
      "79/79 - 8s - loss: 0.4750 - accuracy: 0.7730 - val_loss: 0.5109 - val_accuracy: 0.7610\n",
      "Epoch 8/20\n",
      "79/79 - 8s - loss: 0.4645 - accuracy: 0.7825 - val_loss: 0.5152 - val_accuracy: 0.7490\n",
      "Epoch 9/20\n",
      "79/79 - 8s - loss: 0.4566 - accuracy: 0.7908 - val_loss: 0.5392 - val_accuracy: 0.7570\n",
      "Epoch 10/20\n",
      "79/79 - 8s - loss: 0.4511 - accuracy: 0.7886 - val_loss: 0.5307 - val_accuracy: 0.7560\n"
     ]
    }
   ],
   "source": [
    "callback = tf.keras.callbacks.EarlyStopping(monitor='val_loss', patience=3,mode='auto')\n",
    "# This callback will stop the training when there is no improvement in\n",
    "# the validation loss for three consecutive epochs.\n",
    "historie = mods1.fit(tokenized_train,y_train,validation_data=(tokenized_val,y_val),\n",
    "                    epochs=20, batch_size=128, callbacks=[callback],\n",
    "                    verbose=2)"
   ]
  },
  {
   "cell_type": "code",
   "execution_count": 30,
   "metadata": {},
   "outputs": [
    {
     "data": {
      "image/png": "[encoded data removed]",
      "text/plain": [
       "<Figure size 432x288 with 1 Axes>"
      ]
     },
     "metadata": {
      "needs_background": "light"
     },
     "output_type": "display_data"
    }
   ],
   "source": [
    "plt.plot(historie.history['loss'],label='Training loss')\n",
    "plt.plot(historie.history['val_loss'],label='Validation loss')\n",
    "plt.legend()\n",
    "plt.show()"
   ]
  },
  {
   "cell_type": "code",
   "execution_count": 31,
   "metadata": {},
   "outputs": [
    {
     "name": "stdout",
     "output_type": "stream",
     "text": [
      "RNN (SA-BiLSTM)\n",
      "Training\n",
      "Accuracy : 0.757 (+-0.029) Loss : 0.502 (+-0.041)\n",
      "Validation\n",
      "Accuracy : 0.753 (+-0.007) Loss : 0.528 (+-0.011)\n"
     ]
    }
   ],
   "source": [
    "a_mean,a_std=np.mean(historie.history['accuracy']),np.std(historie.history['accuracy'])\n",
    "l_mean,l_std=np.mean(historie.history['loss']),np.std(historie.history['loss'])\n",
    "av_mean,av_std=np.mean(historie.history['val_accuracy']),np.std(historie.history['val_accuracy'])\n",
    "lv_mean,lv_std=np.mean(historie.history['val_loss']),np.std(historie.history['val_loss'])\n",
    "print('RNN (SA-BiLSTM)')\n",
    "print('Training')\n",
    "print('Accuracy : %0.3f (+-%0.3f) Loss : %0.3f (+-%0.3f)'%(a_mean,a_std,l_mean,l_std))\n",
    "print('Validation')\n",
    "print('Accuracy : %0.3f (+-%0.3f) Loss : %0.3f (+-%0.3f)'%(av_mean,av_std,lv_mean,lv_std))"
   ]
  },
  {
   "cell_type": "code",
   "execution_count": 32,
   "metadata": {},
   "outputs": [
    {
     "data": {
      "image/png": "[encoded data removed]",
      "text/plain": [
       "<Figure size 432x288 with 1 Axes>"
      ]
     },
     "metadata": {
      "needs_background": "light"
     },
     "output_type": "display_data"
    }
   ],
   "source": [
    "plt.plot(historie.history['accuracy'],label='Training Acc')\n",
    "plt.plot(historie.history['val_accuracy'],label='Validation Acc')\n",
    "plt.legend()\n",
    "plt.ylim(0.7,0.8)\n",
    "plt.show()"
   ]
  },
  {
   "cell_type": "code",
   "execution_count": 36,
   "metadata": {},
   "outputs": [],
   "source": [
    "def float_int(x):\n",
    "    if x-int(x)>=0.5:\n",
    "        return 1\n",
    "    else :\n",
    "        return 0\n",
    "y_pred=np.array([[float_int(i[0])] for i in mods1.predict(tokenized_test)])"
   ]
  },
  {
   "cell_type": "code",
   "execution_count": 40,
   "metadata": {},
   "outputs": [
    {
     "name": "stdout",
     "output_type": "stream",
     "text": [
      "313/313 [==============================] - ETA: 7s - loss: 0.3082 - accuracy: 0.87 - ETA: 2s - loss: 0.3278 - accuracy: 0.85 - ETA: 2s - loss: 0.3317 - accuracy: 0.86 - ETA: 2s - loss: 0.3486 - accuracy: 0.84 - ETA: 2s - loss: 0.3453 - accuracy: 0.85 - ETA: 2s - loss: 0.3493 - accuracy: 0.85 - ETA: 2s - loss: 0.3458 - accuracy: 0.85 - ETA: 2s - loss: 0.3422 - accuracy: 0.85 - ETA: 2s - loss: 0.3437 - accuracy: 0.85 - ETA: 1s - loss: 0.3425 - accuracy: 0.85 - ETA: 1s - loss: 0.3426 - accuracy: 0.86 - ETA: 1s - loss: 0.3422 - accuracy: 0.86 - ETA: 1s - loss: 0.3425 - accuracy: 0.86 - ETA: 1s - loss: 0.3439 - accuracy: 0.85 - ETA: 1s - loss: 0.3442 - accuracy: 0.85 - ETA: 1s - loss: 0.3442 - accuracy: 0.85 - ETA: 1s - loss: 0.3459 - accuracy: 0.85 - ETA: 1s - loss: 0.3482 - accuracy: 0.85 - ETA: 1s - loss: 0.3469 - accuracy: 0.85 - ETA: 1s - loss: 0.3431 - accuracy: 0.85 - ETA: 1s - loss: 0.3440 - accuracy: 0.85 - ETA: 1s - loss: 0.3455 - accuracy: 0.85 - ETA: 1s - loss: 0.3463 - accuracy: 0.85 - ETA: 1s - loss: 0.3470 - accuracy: 0.85 - ETA: 1s - loss: 0.3459 - accuracy: 0.85 - ETA: 1s - loss: 0.3438 - accuracy: 0.85 - ETA: 1s - loss: 0.3454 - accuracy: 0.85 - ETA: 1s - loss: 0.3451 - accuracy: 0.85 - ETA: 1s - loss: 0.3457 - accuracy: 0.85 - ETA: 0s - loss: 0.3454 - accuracy: 0.85 - ETA: 0s - loss: 0.3472 - accuracy: 0.85 - ETA: 0s - loss: 0.3470 - accuracy: 0.85 - ETA: 0s - loss: 0.3449 - accuracy: 0.86 - ETA: 0s - loss: 0.3452 - accuracy: 0.85 - ETA: 0s - loss: 0.3443 - accuracy: 0.85 - ETA: 0s - loss: 0.3442 - accuracy: 0.85 - ETA: 0s - loss: 0.3431 - accuracy: 0.85 - ETA: 0s - loss: 0.3433 - accuracy: 0.85 - ETA: 0s - loss: 0.3433 - accuracy: 0.85 - ETA: 0s - loss: 0.3423 - accuracy: 0.85 - ETA: 0s - loss: 0.3408 - accuracy: 0.86 - ETA: 0s - loss: 0.3395 - accuracy: 0.86 - ETA: 0s - loss: 0.3397 - accuracy: 0.86 - ETA: 0s - loss: 0.3398 - accuracy: 0.86 - ETA: 0s - loss: 0.3400 - accuracy: 0.86 - ETA: 0s - loss: 0.3392 - accuracy: 0.86 - ETA: 0s - loss: 0.3394 - accuracy: 0.86 - ETA: 0s - loss: 0.3391 - accuracy: 0.86 - 3s 8ms/step - loss: 0.3388 - accuracy: 0.8613\n"
     ]
    }
   ],
   "source": [
    "from sklearn.metrics import classification_report,confusion_matrix,f1_score\n",
    "y_pred=np.array([[float_int(i[0])] for i in mods1.predict(tokenized_train)])\n",
    "test_loss,test_accuracy=mods1.evaluate(tokenized_train,y_train)"
   ]
  },
  {
   "cell_type": "code",
   "execution_count": 41,
   "metadata": {},
   "outputs": [
    {
     "name": "stdout",
     "output_type": "stream",
     "text": [
      "training Loss : 0.339\n",
      "training Accuracy : 0.861\n",
      "F1-Score : 0.823\n",
      "              precision    recall  f1-score   support\n",
      "\n",
      "           0       0.85      0.93      0.89      5789\n",
      "           1       0.89      0.77      0.82      4211\n",
      "\n",
      "    accuracy                           0.86     10000\n",
      "   macro avg       0.87      0.85      0.85     10000\n",
      "weighted avg       0.86      0.86      0.86     10000\n",
      "\n"
     ]
    }
   ],
   "source": [
    "print('training Loss : %0.3f'%test_loss)\n",
    "print('training Accuracy : %0.3f'%test_accuracy)\n",
    "print('F1-Score : %0.3f'%f1_score(y_train,y_pred))\n",
    "print(classification_report(y_train,y_pred))"
   ]
  },
  {
   "cell_type": "code",
   "execution_count": 42,
   "metadata": {},
   "outputs": [
    {
     "name": "stdout",
     "output_type": "stream",
     "text": [
      "32/32 [==============================] - ETA: 0s - loss: 0.4827 - accuracy: 0.81 - ETA: 0s - loss: 0.5970 - accuracy: 0.74 - ETA: 0s - loss: 0.5721 - accuracy: 0.74 - ETA: 0s - loss: 0.5718 - accuracy: 0.74 - ETA: 0s - loss: 0.5421 - accuracy: 0.75 - ETA: 0s - loss: 0.5307 - accuracy: 0.75 - 0s 9ms/step - loss: 0.5307 - accuracy: 0.7560\n"
     ]
    }
   ],
   "source": [
    "from sklearn.metrics import classification_report,confusion_matrix,f1_score\n",
    "y_pred=np.array([[float_int(i[0])] for i in mods1.predict(tokenized_val)])\n",
    "test_loss,test_accuracy=mods1.evaluate(tokenized_val,y_val)"
   ]
  },
  {
   "cell_type": "code",
   "execution_count": 43,
   "metadata": {},
   "outputs": [
    {
     "name": "stdout",
     "output_type": "stream",
     "text": [
      "Validation Loss : 0.531\n",
      "Validation Accuracy : 0.756\n",
      "F1-Score : 0.674\n",
      "              precision    recall  f1-score   support\n",
      "\n",
      "           0       0.76      0.85      0.81       591\n",
      "           1       0.74      0.62      0.67       409\n",
      "\n",
      "    accuracy                           0.76      1000\n",
      "   macro avg       0.75      0.73      0.74      1000\n",
      "weighted avg       0.75      0.76      0.75      1000\n",
      "\n"
     ]
    }
   ],
   "source": [
    "print('Validation Loss : %0.3f'%test_loss)\n",
    "print('Validation Accuracy : %0.3f'%test_accuracy)\n",
    "print('F1-Score : %0.3f'%f1_score(y_val,y_pred))\n",
    "print(classification_report(y_val,y_pred))"
   ]
  },
  {
   "cell_type": "code",
   "execution_count": 44,
   "metadata": {},
   "outputs": [
    {
     "name": "stdout",
     "output_type": "stream",
     "text": [
      "125/125 [==============================] - ETA: 3s - loss: 0.4862 - accuracy: 0.81 - ETA: 1s - loss: 0.5709 - accuracy: 0.75 - ETA: 1s - loss: 0.5751 - accuracy: 0.74 - ETA: 0s - loss: 0.5539 - accuracy: 0.75 - ETA: 0s - loss: 0.5328 - accuracy: 0.75 - ETA: 0s - loss: 0.5390 - accuracy: 0.76 - ETA: 0s - loss: 0.5495 - accuracy: 0.75 - ETA: 0s - loss: 0.5491 - accuracy: 0.75 - ETA: 0s - loss: 0.5568 - accuracy: 0.75 - ETA: 0s - loss: 0.5478 - accuracy: 0.75 - ETA: 0s - loss: 0.5430 - accuracy: 0.75 - ETA: 0s - loss: 0.5524 - accuracy: 0.74 - ETA: 0s - loss: 0.5583 - accuracy: 0.74 - ETA: 0s - loss: 0.5529 - accuracy: 0.75 - ETA: 0s - loss: 0.5566 - accuracy: 0.74 - ETA: 0s - loss: 0.5644 - accuracy: 0.74 - ETA: 0s - loss: 0.5627 - accuracy: 0.74 - ETA: 0s - loss: 0.5607 - accuracy: 0.74 - ETA: 0s - loss: 0.5553 - accuracy: 0.74 - ETA: 0s - loss: 0.5563 - accuracy: 0.74 - ETA: 0s - loss: 0.5551 - accuracy: 0.74 - ETA: 0s - loss: 0.5562 - accuracy: 0.74 - 1s 10ms/step - loss: 0.5571 - accuracy: 0.7418\n"
     ]
    }
   ],
   "source": [
    "from sklearn.metrics import classification_report,confusion_matrix,f1_score\n",
    "y_pred=np.array([[float_int(i[0])] for i in mods1.predict(tokenized_test)])\n",
    "test_loss,test_accuracy=mods1.evaluate(tokenized_test,y_test)"
   ]
  },
  {
   "cell_type": "code",
   "execution_count": 45,
   "metadata": {},
   "outputs": [
    {
     "name": "stdout",
     "output_type": "stream",
     "text": [
      "Test Loss : 0.557\n",
      "Test Accuracy : 0.742\n",
      "F1-Score : 0.665\n",
      "              precision    recall  f1-score   support\n",
      "\n",
      "           0       0.75      0.83      0.79      2334\n",
      "           1       0.72      0.62      0.66      1666\n",
      "\n",
      "    accuracy                           0.74      4000\n",
      "   macro avg       0.74      0.72      0.73      4000\n",
      "weighted avg       0.74      0.74      0.74      4000\n",
      "\n"
     ]
    }
   ],
   "source": [
    "print('Test Loss : %0.3f'%test_loss)\n",
    "print('Test Accuracy : %0.3f'%test_accuracy)\n",
    "print('F1-Score : %0.3f'%f1_score(y_test,y_pred))\n",
    "print(classification_report(y_test,y_pred))"
   ]
  },
  {
   "cell_type": "markdown",
   "metadata": {},
   "source": [
    "# BiLSTM"
   ]
  },
  {
   "cell_type": "code",
   "execution_count": 31,
   "metadata": {},
   "outputs": [
    {
     "name": "stdout",
     "output_type": "stream",
     "text": [
      "Model: \"sequential_1\"\n",
      "_________________________________________________________________\n",
      "Layer (type)                 Output Shape              Param #   \n",
      "=================================================================\n",
      "embedding_2 (Embedding)      (None, 20, 100)           1408400   \n",
      "_________________________________________________________________\n",
      "dropout_4 (Dropout)          (None, 20, 100)           0         \n",
      "_________________________________________________________________\n",
      "bidirectional_2 (Bidirection (None, 128)               84480     \n",
      "_________________________________________________________________\n",
      "dense_2 (Dense)              (None, 1)                 129       \n",
      "=================================================================\n",
      "Total params: 1,493,009\n",
      "Trainable params: 84,609\n",
      "Non-trainable params: 1,408,400\n",
      "_________________________________________________________________\n"
     ]
    }
   ],
   "source": [
    "state_size = 64\n",
    "dropout= 0.2\n",
    "optimizer= tf.keras.optimizers.Adam(learning_rate=0.005)\n",
    "mods=tf.keras.Sequential([\n",
    "    tf.keras.layers.Embedding(len(tokenizer.tokenizer.word_index)+1,\n",
    "                    100,\n",
    "                    embeddings_initializer=Constant(embedding_matrix), \n",
    "                    input_length=20,trainable=False),\n",
    "    tf.keras.layers.Dropout(dropout),\n",
    "    tf.keras.layers.Bidirectional(tf.keras.layers.LSTM(state_size, dropout=dropout, recurrent_dropout=0.3)),\n",
    "    tf.keras.layers.Dense(1,activation='sigmoid'),\n",
    "])\n",
    "mods.compile(loss=tf.keras.losses.BinaryCrossentropy(from_logits=True),\n",
    "              optimizer=optimizer,\n",
    "              metrics=['accuracy'])\n",
    "mods.summary()"
   ]
  },
  {
   "cell_type": "code",
   "execution_count": 32,
   "metadata": {
    "scrolled": true
   },
   "outputs": [
    {
     "name": "stdout",
     "output_type": "stream",
     "text": [
      "Train on 10000 samples, validate on 1000 samples\n",
      "Epoch 1/20\n",
      "10000/10000 - 13s - loss: 0.5738 - accuracy: 0.7100 - val_loss: 0.5346 - val_accuracy: 0.7380\n",
      "Epoch 2/20\n",
      "10000/10000 - 10s - loss: 0.5392 - accuracy: 0.7348 - val_loss: 0.5241 - val_accuracy: 0.7320\n",
      "Epoch 3/20\n",
      "10000/10000 - 10s - loss: 0.5141 - accuracy: 0.7470 - val_loss: 0.5313 - val_accuracy: 0.7410\n",
      "Epoch 4/20\n",
      "10000/10000 - 10s - loss: 0.4982 - accuracy: 0.7591 - val_loss: 0.5233 - val_accuracy: 0.7520\n",
      "Epoch 5/20\n",
      "10000/10000 - 10s - loss: 0.4850 - accuracy: 0.7689 - val_loss: 0.5184 - val_accuracy: 0.7470\n",
      "Epoch 6/20\n",
      "10000/10000 - 10s - loss: 0.4717 - accuracy: 0.7778 - val_loss: 0.5283 - val_accuracy: 0.7620\n",
      "Epoch 7/20\n",
      "10000/10000 - 10s - loss: 0.4652 - accuracy: 0.7810 - val_loss: 0.5153 - val_accuracy: 0.7720\n",
      "Epoch 8/20\n",
      "10000/10000 - 9s - loss: 0.4537 - accuracy: 0.7836 - val_loss: 0.5400 - val_accuracy: 0.7530\n",
      "Epoch 9/20\n",
      "10000/10000 - 10s - loss: 0.4483 - accuracy: 0.7893 - val_loss: 0.5356 - val_accuracy: 0.7450\n",
      "Epoch 10/20\n",
      "10000/10000 - 10s - loss: 0.4446 - accuracy: 0.7921 - val_loss: 0.5386 - val_accuracy: 0.7530\n"
     ]
    }
   ],
   "source": [
    "callback = tf.keras.callbacks.EarlyStopping(monitor='val_loss', patience=3,mode='auto')\n",
    "# This callback will stop the training when there is no improvement in\n",
    "# the validation loss for three consecutive epochs.\n",
    "histories = mods.fit(tokenized_train,y_train,validation_data=(tokenized_val,y_val),\n",
    "                    epochs=20, batch_size=64, callbacks=[callback],\n",
    "                    verbose=2)"
   ]
  },
  {
   "cell_type": "code",
   "execution_count": 79,
   "metadata": {},
   "outputs": [
    {
     "data": {
      "image/png": "[encoded data removed]",
      "text/plain": [
       "<Figure size 432x288 with 1 Axes>"
      ]
     },
     "metadata": {
      "needs_background": "light"
     },
     "output_type": "display_data"
    }
   ],
   "source": [
    "plt.plot(histories.history['loss'],label='Training loss')\n",
    "plt.plot(histories.history['val_loss'],label='Validation loss')\n",
    "plt.legend()\n",
    "plt.show()"
   ]
  },
  {
   "cell_type": "code",
   "execution_count": 80,
   "metadata": {},
   "outputs": [
    {
     "name": "stdout",
     "output_type": "stream",
     "text": [
      "RNN (BiLSTM)\n",
      "Training\n",
      "Accuracy : 0.750 (+-0.024) Loss : 0.514 (+-0.035)\n",
      "Validation\n",
      "Accuracy : 0.744 (+-0.006) Loss : 0.528 (+-0.006)\n"
     ]
    }
   ],
   "source": [
    "a_mean,a_std=np.mean(histories.history['accuracy']),np.std(histories.history['accuracy'])\n",
    "l_mean,l_std=np.mean(histories.history['loss']),np.std(histories.history['loss'])\n",
    "av_mean,av_std=np.mean(histories.history['val_accuracy']),np.std(histories.history['val_accuracy'])\n",
    "lv_mean,lv_std=np.mean(histories.history['val_loss']),np.std(histories.history['val_loss'])\n",
    "print('RNN (BiLSTM)')\n",
    "print('Training')\n",
    "print('Accuracy : %0.3f (+-%0.3f) Loss : %0.3f (+-%0.3f)'%(a_mean,a_std,l_mean,l_std))\n",
    "print('Validation')\n",
    "print('Accuracy : %0.3f (+-%0.3f) Loss : %0.3f (+-%0.3f)'%(av_mean,av_std,lv_mean,lv_std))"
   ]
  },
  {
   "cell_type": "code",
   "execution_count": 81,
   "metadata": {},
   "outputs": [
    {
     "data": {
      "image/png": "[encoded data removed]",
      "text/plain": [
       "<Figure size 432x288 with 1 Axes>"
      ]
     },
     "metadata": {
      "needs_background": "light"
     },
     "output_type": "display_data"
    }
   ],
   "source": [
    "plt.plot(histories.history['accuracy'],label='Training Acc')\n",
    "plt.plot(histories.history['val_accuracy'],label='Validation Acc')\n",
    "plt.legend()\n",
    "plt.show()"
   ]
  },
  {
   "cell_type": "code",
   "execution_count": 92,
   "metadata": {},
   "outputs": [],
   "source": [
    "def float_int(x):\n",
    "    if x-int(x)>=0.5:\n",
    "        return 1\n",
    "    else :\n",
    "        return 0\n",
    "y_pred=np.array([[float_int(i[0])] for i in mods.predict(tokenized_test)])"
   ]
  },
  {
   "cell_type": "code",
   "execution_count": 33,
   "metadata": {},
   "outputs": [
    {
     "name": "stdout",
     "output_type": "stream",
     "text": [
      "Training Loss : 0.314\n",
      "Training Accuracy : 0.867\n",
      "F1-Score : 0.834\n",
      "              precision    recall  f1-score   support\n",
      "\n",
      "           0       0.86      0.92      0.89      5789\n",
      "           1       0.88      0.79      0.83      4211\n",
      "\n",
      "    accuracy                           0.87     10000\n",
      "   macro avg       0.87      0.86      0.86     10000\n",
      "weighted avg       0.87      0.87      0.87     10000\n",
      "\n"
     ]
    }
   ],
   "source": [
    "from sklearn.metrics import classification_report,confusion_matrix,f1_score\n",
    "y_pred=np.array([[float_int(i[0])] for i in mods.predict(tokenized_train)])\n",
    "test_loss,test_accuracy=mods.evaluate(tokenized_train,y_train)\n",
    "print('Training Loss : %0.3f'%test_loss)\n",
    "print('Training Accuracy : %0.3f'%test_accuracy)\n",
    "print('F1-Score : %0.3f'%f1_score(y_train,y_pred))\n",
    "print(classification_report(y_train,y_pred))"
   ]
  },
  {
   "cell_type": "code",
   "execution_count": 34,
   "metadata": {},
   "outputs": [
    {
     "name": "stdout",
     "output_type": "stream",
     "text": [
      "Validation Loss : 0.539\n",
      "Validation Accuracy : 0.753\n",
      "F1-Score : 0.675\n",
      "              precision    recall  f1-score   support\n",
      "\n",
      "           0       0.77      0.84      0.80       591\n",
      "           1       0.73      0.63      0.68       409\n",
      "\n",
      "    accuracy                           0.75      1000\n",
      "   macro avg       0.75      0.73      0.74      1000\n",
      "weighted avg       0.75      0.75      0.75      1000\n",
      "\n"
     ]
    }
   ],
   "source": [
    "from sklearn.metrics import classification_report,confusion_matrix,f1_score\n",
    "y_pred=np.array([[float_int(i[0])] for i in mods.predict(tokenized_val)])\n",
    "test_loss,test_accuracy=mods.evaluate(tokenized_val,y_val)\n",
    "print('Validation Loss : %0.3f'%test_loss)\n",
    "print('Validation Accuracy : %0.3f'%test_accuracy)\n",
    "print('F1-Score : %0.3f'%f1_score(y_val,y_pred))\n",
    "print(classification_report(y_val,y_pred))"
   ]
  },
  {
   "cell_type": "code",
   "execution_count": 35,
   "metadata": {},
   "outputs": [
    {
     "name": "stdout",
     "output_type": "stream",
     "text": [
      "Test Loss : 0.599\n",
      "Test Accuracy : 0.729\n",
      "F1-Score : 0.657\n",
      "              precision    recall  f1-score   support\n",
      "\n",
      "           0       0.75      0.81      0.78      2334\n",
      "           1       0.70      0.62      0.66      1666\n",
      "\n",
      "    accuracy                           0.73      4000\n",
      "   macro avg       0.72      0.71      0.72      4000\n",
      "weighted avg       0.73      0.73      0.73      4000\n",
      "\n"
     ]
    }
   ],
   "source": [
    "from sklearn.metrics import classification_report,confusion_matrix,f1_score\n",
    "y_pred=np.array([[float_int(i[0])] for i in mods.predict(tokenized_test)])\n",
    "test_loss,test_accuracy=mods.evaluate(tokenized_test,y_test)\n",
    "print('Test Loss : %0.3f'%test_loss)\n",
    "print('Test Accuracy : %0.3f'%test_accuracy)\n",
    "print('F1-Score : %0.3f'%f1_score(y_test,y_pred))\n",
    "print(classification_report(y_test,y_pred))"
   ]
  }
 ],
 "metadata": {
  "kernelspec": {
   "display_name": "Python 3",
   "language": "python",
   "name": "python3"
  },
  "language_info": {
   "codemirror_mode": {
    "name": "ipython",
    "version": 3
   },
   "file_extension": ".py",
   "mimetype": "text/x-python",
   "name": "python",
   "nbconvert_exporter": "python",
   "pygments_lexer": "ipython3",
   "version": "3.6.7"
  }
 },
 "nbformat": 4,
 "nbformat_minor": 2
}
